{
 "cells": [
  {
   "cell_type": "code",
   "execution_count": 4,
   "id": "745c7a9a",
   "metadata": {},
   "outputs": [
    {
     "ename": "HTTPError",
     "evalue": "HTTP Error 403: Forbidden",
     "output_type": "error",
     "traceback": [
      "\u001b[1;31m---------------------------------------------------------------------------\u001b[0m",
      "\u001b[1;31mHTTPError\u001b[0m                                 Traceback (most recent call last)",
      "Cell \u001b[1;32mIn[4], line 3\u001b[0m\n\u001b[0;32m      1\u001b[0m \u001b[38;5;28;01mimport\u001b[39;00m \u001b[38;5;21;01murllib\u001b[39;00m\u001b[38;5;21;01m.\u001b[39;00m\u001b[38;5;21;01mrequest\u001b[39;00m\n\u001b[0;32m      2\u001b[0m url \u001b[38;5;241m=\u001b[39m \u001b[38;5;124m'\u001b[39m\u001b[38;5;124mhttps://wikidocs.net/images/page/22384/inner_product.png\u001b[39m\u001b[38;5;124m'\u001b[39m\n\u001b[1;32m----> 3\u001b[0m urllib\u001b[38;5;241m.\u001b[39mrequest\u001b[38;5;241m.\u001b[39murlretrieve(url, \u001b[38;5;124m\"\u001b[39m\u001b[38;5;124ma.png\u001b[39m\u001b[38;5;124m\"\u001b[39m) \n\u001b[0;32m      4\u001b[0m \u001b[38;5;28;01mfrom\u001b[39;00m \u001b[38;5;21;01mIPython\u001b[39;00m\u001b[38;5;21;01m.\u001b[39;00m\u001b[38;5;21;01mdisplay\u001b[39;00m \u001b[38;5;28;01mimport\u001b[39;00m Image\n\u001b[0;32m      5\u001b[0m Image(filename\u001b[38;5;241m=\u001b[39m\u001b[38;5;124m'\u001b[39m\u001b[38;5;124ma.png\u001b[39m\u001b[38;5;124m'\u001b[39m)\n",
      "File \u001b[1;32m~\\anaconda3\\envs\\CW_AI\\Lib\\urllib\\request.py:241\u001b[0m, in \u001b[0;36murlretrieve\u001b[1;34m(url, filename, reporthook, data)\u001b[0m\n\u001b[0;32m    224\u001b[0m \u001b[38;5;250m\u001b[39m\u001b[38;5;124;03m\"\"\"\u001b[39;00m\n\u001b[0;32m    225\u001b[0m \u001b[38;5;124;03mRetrieve a URL into a temporary location on disk.\u001b[39;00m\n\u001b[0;32m    226\u001b[0m \n\u001b[1;32m   (...)\u001b[0m\n\u001b[0;32m    237\u001b[0m \u001b[38;5;124;03mdata file as well as the resulting HTTPMessage object.\u001b[39;00m\n\u001b[0;32m    238\u001b[0m \u001b[38;5;124;03m\"\"\"\u001b[39;00m\n\u001b[0;32m    239\u001b[0m url_type, path \u001b[38;5;241m=\u001b[39m _splittype(url)\n\u001b[1;32m--> 241\u001b[0m \u001b[38;5;28;01mwith\u001b[39;00m contextlib\u001b[38;5;241m.\u001b[39mclosing(urlopen(url, data)) \u001b[38;5;28;01mas\u001b[39;00m fp:\n\u001b[0;32m    242\u001b[0m     headers \u001b[38;5;241m=\u001b[39m fp\u001b[38;5;241m.\u001b[39minfo()\n\u001b[0;32m    244\u001b[0m     \u001b[38;5;66;03m# Just return the local path and the \"headers\" for file://\u001b[39;00m\n\u001b[0;32m    245\u001b[0m     \u001b[38;5;66;03m# URLs. No sense in performing a copy unless requested.\u001b[39;00m\n",
      "File \u001b[1;32m~\\anaconda3\\envs\\CW_AI\\Lib\\urllib\\request.py:216\u001b[0m, in \u001b[0;36murlopen\u001b[1;34m(url, data, timeout, cafile, capath, cadefault, context)\u001b[0m\n\u001b[0;32m    214\u001b[0m \u001b[38;5;28;01melse\u001b[39;00m:\n\u001b[0;32m    215\u001b[0m     opener \u001b[38;5;241m=\u001b[39m _opener\n\u001b[1;32m--> 216\u001b[0m \u001b[38;5;28;01mreturn\u001b[39;00m opener\u001b[38;5;241m.\u001b[39mopen(url, data, timeout)\n",
      "File \u001b[1;32m~\\anaconda3\\envs\\CW_AI\\Lib\\urllib\\request.py:525\u001b[0m, in \u001b[0;36mOpenerDirector.open\u001b[1;34m(self, fullurl, data, timeout)\u001b[0m\n\u001b[0;32m    523\u001b[0m \u001b[38;5;28;01mfor\u001b[39;00m processor \u001b[38;5;129;01min\u001b[39;00m \u001b[38;5;28mself\u001b[39m\u001b[38;5;241m.\u001b[39mprocess_response\u001b[38;5;241m.\u001b[39mget(protocol, []):\n\u001b[0;32m    524\u001b[0m     meth \u001b[38;5;241m=\u001b[39m \u001b[38;5;28mgetattr\u001b[39m(processor, meth_name)\n\u001b[1;32m--> 525\u001b[0m     response \u001b[38;5;241m=\u001b[39m meth(req, response)\n\u001b[0;32m    527\u001b[0m \u001b[38;5;28;01mreturn\u001b[39;00m response\n",
      "File \u001b[1;32m~\\anaconda3\\envs\\CW_AI\\Lib\\urllib\\request.py:634\u001b[0m, in \u001b[0;36mHTTPErrorProcessor.http_response\u001b[1;34m(self, request, response)\u001b[0m\n\u001b[0;32m    631\u001b[0m \u001b[38;5;66;03m# According to RFC 2616, \"2xx\" code indicates that the client's\u001b[39;00m\n\u001b[0;32m    632\u001b[0m \u001b[38;5;66;03m# request was successfully received, understood, and accepted.\u001b[39;00m\n\u001b[0;32m    633\u001b[0m \u001b[38;5;28;01mif\u001b[39;00m \u001b[38;5;129;01mnot\u001b[39;00m (\u001b[38;5;241m200\u001b[39m \u001b[38;5;241m<\u001b[39m\u001b[38;5;241m=\u001b[39m code \u001b[38;5;241m<\u001b[39m \u001b[38;5;241m300\u001b[39m):\n\u001b[1;32m--> 634\u001b[0m     response \u001b[38;5;241m=\u001b[39m \u001b[38;5;28mself\u001b[39m\u001b[38;5;241m.\u001b[39mparent\u001b[38;5;241m.\u001b[39merror(\n\u001b[0;32m    635\u001b[0m         \u001b[38;5;124m'\u001b[39m\u001b[38;5;124mhttp\u001b[39m\u001b[38;5;124m'\u001b[39m, request, response, code, msg, hdrs)\n\u001b[0;32m    637\u001b[0m \u001b[38;5;28;01mreturn\u001b[39;00m response\n",
      "File \u001b[1;32m~\\anaconda3\\envs\\CW_AI\\Lib\\urllib\\request.py:563\u001b[0m, in \u001b[0;36mOpenerDirector.error\u001b[1;34m(self, proto, *args)\u001b[0m\n\u001b[0;32m    561\u001b[0m \u001b[38;5;28;01mif\u001b[39;00m http_err:\n\u001b[0;32m    562\u001b[0m     args \u001b[38;5;241m=\u001b[39m (\u001b[38;5;28mdict\u001b[39m, \u001b[38;5;124m'\u001b[39m\u001b[38;5;124mdefault\u001b[39m\u001b[38;5;124m'\u001b[39m, \u001b[38;5;124m'\u001b[39m\u001b[38;5;124mhttp_error_default\u001b[39m\u001b[38;5;124m'\u001b[39m) \u001b[38;5;241m+\u001b[39m orig_args\n\u001b[1;32m--> 563\u001b[0m     \u001b[38;5;28;01mreturn\u001b[39;00m \u001b[38;5;28mself\u001b[39m\u001b[38;5;241m.\u001b[39m_call_chain(\u001b[38;5;241m*\u001b[39margs)\n",
      "File \u001b[1;32m~\\anaconda3\\envs\\CW_AI\\Lib\\urllib\\request.py:496\u001b[0m, in \u001b[0;36mOpenerDirector._call_chain\u001b[1;34m(self, chain, kind, meth_name, *args)\u001b[0m\n\u001b[0;32m    494\u001b[0m \u001b[38;5;28;01mfor\u001b[39;00m handler \u001b[38;5;129;01min\u001b[39;00m handlers:\n\u001b[0;32m    495\u001b[0m     func \u001b[38;5;241m=\u001b[39m \u001b[38;5;28mgetattr\u001b[39m(handler, meth_name)\n\u001b[1;32m--> 496\u001b[0m     result \u001b[38;5;241m=\u001b[39m func(\u001b[38;5;241m*\u001b[39margs)\n\u001b[0;32m    497\u001b[0m     \u001b[38;5;28;01mif\u001b[39;00m result \u001b[38;5;129;01mis\u001b[39;00m \u001b[38;5;129;01mnot\u001b[39;00m \u001b[38;5;28;01mNone\u001b[39;00m:\n\u001b[0;32m    498\u001b[0m         \u001b[38;5;28;01mreturn\u001b[39;00m result\n",
      "File \u001b[1;32m~\\anaconda3\\envs\\CW_AI\\Lib\\urllib\\request.py:643\u001b[0m, in \u001b[0;36mHTTPDefaultErrorHandler.http_error_default\u001b[1;34m(self, req, fp, code, msg, hdrs)\u001b[0m\n\u001b[0;32m    642\u001b[0m \u001b[38;5;28;01mdef\u001b[39;00m \u001b[38;5;21mhttp_error_default\u001b[39m(\u001b[38;5;28mself\u001b[39m, req, fp, code, msg, hdrs):\n\u001b[1;32m--> 643\u001b[0m     \u001b[38;5;28;01mraise\u001b[39;00m HTTPError(req\u001b[38;5;241m.\u001b[39mfull_url, code, msg, hdrs, fp)\n",
      "\u001b[1;31mHTTPError\u001b[0m: HTTP Error 403: Forbidden"
     ]
    }
   ],
   "source": [
    " import urllib.request\n",
    "url = 'https://wikidocs.net/images/page/22384/inner_product.png'\n",
    "urllib.request.urlretrieve(url, \"a.png\") \n",
    "from IPython.display import Image\n",
    "Image(filename='a.png')"
   ]
  },
  {
   "cell_type": "code",
   "execution_count": 2,
   "id": "6723b799",
   "metadata": {},
   "outputs": [
    {
     "name": "stdout",
     "output_type": "stream",
     "text": [
      "[[1 2 3]\n",
      " [4 5 6]]\n"
     ]
    }
   ],
   "source": [
    "import numpy as np\n",
    "arr1=np.array([[1,2,3],[4,5,6]])\n",
    "# print(v1)\n",
    "print(arr1)"
   ]
  },
  {
   "cell_type": "code",
   "execution_count": 5,
   "id": "bc1e5f32",
   "metadata": {},
   "outputs": [
    {
     "data": {
      "text/plain": [
       "20"
      ]
     },
     "execution_count": 5,
     "metadata": {},
     "output_type": "execute_result"
    }
   ],
   "source": [
    "v1=np.array([5,0])\n",
    "v2=np.array([4,0])\n",
    "np.dot(v1,v2)"
   ]
  },
  {
   "cell_type": "code",
   "execution_count": 7,
   "id": "ee10834b",
   "metadata": {},
   "outputs": [
    {
     "data": {
      "text/plain": [
       "-10"
      ]
     },
     "execution_count": 7,
     "metadata": {},
     "output_type": "execute_result"
    }
   ],
   "source": [
    "v1=np.array([5,0])\n",
    "v2=np.array([-2,4])\n",
    "np.dot(v1,v2)"
   ]
  },
  {
   "cell_type": "code",
   "execution_count": 9,
   "id": "4f0804b9",
   "metadata": {},
   "outputs": [
    {
     "data": {
      "text/plain": [
       "array([-14,  22, -10])"
      ]
     },
     "execution_count": 9,
     "metadata": {},
     "output_type": "execute_result"
    }
   ],
   "source": [
    "#3차원 이상의 배열 : 텐서( Tensor )\n",
    "\n",
    "v1=np.array([1,2,3])\n",
    "v2=np.array([5,0,-7])\n",
    " \n",
    "#내적 계산하는법  내적 (Dot product)\n",
    "# np.dot(v1,v2) #1*5  + 2*0 + 3*-7\n",
    "\n",
    "#외적 계산하는법  외적 (Cross product)\n",
    "np.cross(v1,v2)"
   ]
  },
  {
   "cell_type": "code",
   "execution_count": 13,
   "id": "197a501b",
   "metadata": {
    "scrolled": true
   },
   "outputs": [
    {
     "data": {
      "image/png": "[encoded data removed]",
      "text/plain": [
       "<IPython.core.display.Image object>"
      ]
     },
     "execution_count": 13,
     "metadata": {},
     "output_type": "execute_result"
    }
   ],
   "source": [
    " import urllib.request\n",
    "url = 'https://1.bp.blogspot.com/-Xok2Ord9bIY/YaIuHSQ_DxI/AAAAAAABIeM/mDwUiwX6SK0pn2bYRze9kHmp8O9D49zUQCLcBGAsYHQ/s16000/mat14.png'\n",
    "urllib.request.urlretrieve(url, \"a.png\") \n",
    "from IPython.display import Image\n",
    "Image(filename='a.png')"
   ]
  },
  {
   "cell_type": "code",
   "execution_count": 19,
   "id": "73e41e6a",
   "metadata": {},
   "outputs": [
    {
     "name": "stdout",
     "output_type": "stream",
     "text": [
      "[[ 52  13  26]\n",
      " [110  25  60]\n",
      " [168  37  94]] \n",
      "\n",
      "[[ 43  89]\n",
      " [ 56 128]]\n"
     ]
    }
   ],
   "source": [
    "arr1 = np.array([[1,2],[3,4],[5,6]])\n",
    "arr2 = np.array([[6,23],[-1,7],[8,9]])\n",
    "# np.dot(arr1,arr2)   #에러발생  -> 길이가 틀리기때문\n",
    "\n",
    "print(np.dot(arr1,arr2.T),\"\\n\")\n",
    "print(np.dot(arr1.T,arr2))"
   ]
  },
  {
   "cell_type": "code",
   "execution_count": null,
   "id": "cfe8d2e4",
   "metadata": {},
   "outputs": [],
   "source": [
    "(2,3) (3,2) 있으면  붙어있는거 2개같아야 하고 그 2개가 사라진 결과가 나온다 (차원)\n",
    "\n",
    "arr1             arr2.T\n",
    "[1,2]         [6,-1,8]                      [[ 52  13  26]\n",
    "[3,4]    ㆍ   [23,7,9]             =         [110  25  60]\n",
    "[5,6]                                        [168  37  94]] \n",
    "\n",
    "arr1.T            arr2\n",
    "[1,3,5]         [6,23]                      [[ 43  89]\n",
    "[2,4,6]    ㆍ   [-1,7]             =         [ 56 128]]\n",
    "                [8,9]\n",
    "\n",
    "\n"
   ]
  },
  {
   "cell_type": "code",
   "execution_count": 2,
   "id": "0f9f77ac",
   "metadata": {
    "scrolled": true
   },
   "outputs": [
    {
     "name": "stdout",
     "output_type": "stream",
     "text": [
      "[0 0 0 0 0 0 0 0 0 0 0 0 0 0 0 0 0 0 0 0 0 0 0 0 0 0 0 0 0 0 0 0 0 0 0 0 0\n",
      " 0 0 0 0 0 0 0 0 0 0 0 0 0 1 1 1 1 1 1 1 1 1 1 1 1 1 1 1 1 1 1 1 1 1 1 1 1\n",
      " 1 1 1 1 1 1 1 1 1 1 1 1 1 1 1 1 1 1 1 1 1 1 1 1 1 1 2 2 2 2 2 2 2 2 2 2 2\n",
      " 2 2 2 2 2 2 2 2 2 2 2 2 2 2 2 2 2 2 2 2 2 2 2 2 2 2 2 2 2 2 2 2 2 2 2 2 2\n",
      " 2 2]\n",
      "(150, 4)\n",
      "(150,)\n"
     ]
    }
   ],
   "source": [
    "from sklearn.datasets import load_iris as ir\n",
    "iris = ir()\n",
    "# iris  \n",
    " #인공지능에서 데이터를 x  타켓을 y \n",
    "# iris['data']\n",
    "# iris.data \n",
    "\n",
    "x=iris.data      #데이터의 입력\n",
    "y=iris.target    #데이터의 출력\n",
    "\n",
    "print(y) # 0 ~2되 있는건 종류 \n",
    "\n",
    "print(x.shape) #꽃이 150개가 있고 , feature 는 4개고 \n",
    "print(y.shape) #그 타겟이 순서대로 y에 있음 "
   ]
  },
  {
   "cell_type": "code",
   "execution_count": 5,
   "id": "6b3c11a5",
   "metadata": {},
   "outputs": [
    {
     "name": "stdout",
     "output_type": "stream",
     "text": [
      "특정 평균 :  2.5355\n",
      "\n",
      "전체 평균2 :  [5.006 3.428 1.462 0.246]\n",
      "\n",
      "v표준편차 :  [0.34894699 0.37525458 0.17191859 0.10432641]\n",
      "\n",
      "\n",
      " setosa\n",
      "전체 평균2 :  [5.006 3.428 1.462 0.246]\n",
      "표준편차 :  [0.34894699 0.37525458 0.17191859 0.10432641]\n",
      "\n",
      "\n",
      " versicolor\n",
      "전체 평균2 :  [5.936 2.77  4.26  1.326]\n",
      "표준편차 :  [0.51098337 0.31064449 0.46518813 0.19576517]\n",
      "\n",
      "\n",
      " virginica\n",
      "전체 평균2 :  [6.588 2.974 5.552 2.026]\n",
      "표준편차 :  [0.62948868 0.31925538 0.54634787 0.27188968]\n"
     ]
    }
   ],
   "source": [
    "x[y==0].mean() #평균 구하는식1\n",
    "print(\"특정 평균 : \",np.mean(x[y==0]))#평균 구하는식2\n",
    "\n",
    "x[y==0].mean(axis=0) #평균 구하는식1\n",
    "print(\"\\n전체 평균2 : \",np.mean(x[y==0],axis=0))#평균 구하는식2\n",
    "\n",
    "x[y==0].std(axis=0) #표준편차 구하는식1\n",
    "print(\"\\nv표준편차 : \",np.std(x[y==0],axis=0))#표준편차 구하는식2\n",
    " \n",
    "for i in range(3):   \n",
    "    print(\"\\n\\n\",iris.target_names[i])  #이름 확인 방법   target_names()\n",
    "    print(\"전체 평균2 : \",np.mean(x[y==i],axis=0)) \n",
    "    print(\"표준편차 : \",np.std(x[y==i],axis=0)) \n"
   ]
  },
  {
   "cell_type": "code",
   "execution_count": 8,
   "id": "36c40f25",
   "metadata": {},
   "outputs": [
    {
     "name": "stdout",
     "output_type": "stream",
     "text": [
      "[5.1 3.5 1.4 0.2]\n",
      "[5.936 2.77  4.26  1.326]\n"
     ]
    }
   ],
   "source": [
    "#얼마나 비슷한지 \n",
    "sample = x[y==2][0]\n",
    "setosa = x[y==0].mean(axis=0)\n",
    "\n",
    "print(x[y==0][0]) #y가 0 인것중에 1번째인것\n",
    "\n",
    "print(x[y==1].mean(axis=0))\n",
    "#내적\n",
    "# |a||b|cos0 #a X b X cos0 == a ㆍ b  ==> cos0 를 구하려면  cos0= a ㆍ b /|a||b|"
   ]
  },
  {
   "cell_type": "code",
   "execution_count": 11,
   "id": "7981eacc",
   "metadata": {},
   "outputs": [],
   "source": [
    "# def cos_sim(a,b):#     a ㆍ b /|a||b|\n",
    "#     return np.dot(a,b)/(np.linalg.norm(a) * np.linalg.norm(b))\n",
    "\n",
    "def cos_sim(sample,standard):\n",
    "    return np.dot(sample,standard) / (np.linalg.norm(sample,axis=1) * np.linalg.norm(standard))\n",
    "\n",
    "# cos_sim(sample,setosa)\n",
    "\n",
    "#이중에서 가장 높은 값이 곧 이꽃의 품종.   ex) sample = x[y==2][0] y에 다르게 넣으면 됨  setosa = x[y==0].mean(axis=0)\n",
    "#이것들이 쓰이는 곳은 넷플렉스 같은것처럼 어떤영화에 평점을 줫는지 유트브로는 어떤 영상에 좋아요를 눌럿는지를 파악 \n",
    "#ex 오징어게임에 5정주고 우영우 3점준걸  [ cos 함수 ] 를 통해서 비슷한 사람들을 모을수있음 ( 추천을 해서 )\n",
    "\n",
    "#병렬처리가 가능해서 유리함 \n",
    "#지금은 셈플값, 대표값 1개랑 1:1 비교햇는데 배열로 연산하게 되면 한꺼번에 연산이 가능하게 됨 그래서 딮러닝 빅데이터가 따라오게됨 \n",
    "\n",
    "#(150,4) @ (4)  ---> (150,4) @ (4,1) 이렇게 볼수도있음 \n",
    "#                 수학적으로는 (1,4) 가 맞는데 내적할때는 (4,1) 이 됨 --> 결국 (150,1) \n",
    "# cos_sim(x,setosa).shape"
   ]
  },
  {
   "cell_type": "code",
   "execution_count": 29,
   "id": "ea22ebef",
   "metadata": {
    "scrolled": true
   },
   "outputs": [
    {
     "data": {
      "text/plain": [
       "array([5.006, 3.428, 1.462, 0.246])"
      ]
     },
     "execution_count": 29,
     "metadata": {},
     "output_type": "execute_result"
    }
   ],
   "source": [
    "# 만든것 x , cos_sim  , y \n",
    "iris.target_names\n",
    "\n",
    "setosa = x[y==0].mean(axis=0)\n",
    "versicolor = x[y==1].mean(axis=0)\n",
    "virginica = x[y==2].mean(axis=0)\n",
    "\n",
    "setosa_cos = cos_sim(x,setosa)\n",
    "versicolor_cos = cos_sim(x,versicolor)\n",
    "virginica_cos = cos_sim(x,virginica)\n",
    "\n",
    "print(setosa_cos.shape)\n",
    "print(versicolor_cos.shape)\n",
    "print(virginica_cos.shape)\n",
    "\n",
    "#> 다비교해서 어느쪽 유사도가 젤높은지를 . \n",
    "# one = np.concatenate([setosa_cos,versicolor_cos,virginica_cos], axis=1)\n",
    "                                  #axis = 1 하면 합치기 근데 에러뜸. 1차원인데 2차원으로 만들어달랫기떄문\n",
    "                                  #그래서 stack 을 써줘야함 \n",
    "cos=np.stack([setosa_cos,versicolor_cos,virginica_cos])                                                  \n",
    "cos.shape\n",
    "np.argmax(cos,axis=0)  \n",
    "\n",
    "#정확도로 알고싶을때 \n",
    "np.argmax(cos,axis=0) == y\n",
    "\n",
    "\n",
    "#정확도 개 수 알고싶을때  # 예측결과 / 전체길이 \n",
    "np.sum(np.argmax(cos,axis=0) == y) / len(y)  #  / 전체길이  "
   ]
  },
  {
   "cell_type": "code",
   "execution_count": 16,
   "id": "b03eccca",
   "metadata": {
    "scrolled": true
   },
   "outputs": [
    {
     "data": {
      "text/plain": [
       "0.9733333333333334"
      ]
     },
     "execution_count": 16,
     "metadata": {},
     "output_type": "execute_result"
    }
   ],
   "source": [
    "cos=np.stack([setosa_cos,versicolor_cos,virginica_cos])   \n",
    "predict=np.argmax(cos,axis=0)\n",
    "np.sum(predict==y)/len(y)"
   ]
  },
  {
   "cell_type": "code",
   "execution_count": null,
   "id": "9e6ca38b",
   "metadata": {},
   "outputs": [],
   "source": []
  },
  {
   "cell_type": "code",
   "execution_count": 102,
   "id": "864c2b94",
   "metadata": {},
   "outputs": [
    {
     "name": "stdout",
     "output_type": "stream",
     "text": [
      "1794039085264\n",
      "1794039085264\n",
      "1794039085360\n",
      "1794039085264\n",
      "1794039084016\n"
     ]
    }
   ],
   "source": [
    "import copy\n",
    "arr1 = np.array([1,2,3,4,5])\n",
    "arr2 = arr1\n",
    "\n",
    "#얕은 복사 , 뷰  arr2 를바꿔도 arr1이 바뀜 ! \n",
    "print(id(arr1))\n",
    "print(id(arr2))\n",
    "\n",
    "\n",
    "arr1 = np.array([1,2,3,4,5])\n",
    "#깊은 복사  (arr2 를 변경해도 arr1 이 바뀌진않음)\n",
    "# 방법1\n",
    "arr2 = copy.deepcopy(arr1)\n",
    "print(id(arr2))\n",
    "\n",
    "# 방법2\n",
    "arr3 = arr1.copy()\n",
    "print(id(arr3))\n",
    "\n",
    "arr3 = arr1.copy()\n",
    "print(id(arr3))\n",
    "#연산이 일어났으면 깊은복사라 생각하면되고 reshapeing , flatten까지 는  얕은 복사 "
   ]
  },
  {
   "cell_type": "code",
   "execution_count": 104,
   "id": "fe679cc7",
   "metadata": {},
   "outputs": [
    {
     "data": {
      "text/plain": [
       "array([100, 200, 300, 400, 500])"
      ]
     },
     "execution_count": 104,
     "metadata": {},
     "output_type": "execute_result"
    }
   ],
   "source": [
    "arr2 = arr2 * 10 # 그냥연산            이거 실행하면 arr2 에 10을 결과가 copy 되서 만들어짐 --> 메모리 2배 됨 그리고 원본에 덮어써짐\n",
    "                                      # 그리고 원래써져있던거 없어짐   그래서 그 과정이 오래걸림\n",
    "arr2 *= 10       #inplace 연산        copy를 생성하지않고 원본에 바로 10배를 함 . \n",
    "arr2             #결과는 똑같지만. 속도, 1번째방법은 메모리가 2배가 되었다가 돌아옴 \n",
    "\n",
    "#나중에 엄청큰데이터 다룰때 메모리가 한정되잇는데 이때 \n",
    "#메모리가 넘치면 OOM 이라는 뜸 out of Memory 라고 뜸"
   ]
  },
  {
   "cell_type": "code",
   "execution_count": null,
   "id": "683ce69f",
   "metadata": {},
   "outputs": [],
   "source": []
  },
  {
   "cell_type": "code",
   "execution_count": null,
   "id": "54e6f3ed",
   "metadata": {},
   "outputs": [],
   "source": []
  },
  {
   "cell_type": "code",
   "execution_count": 116,
   "id": "57f5506e",
   "metadata": {
    "collapsed": true
   },
   "outputs": [
    {
     "name": "stdout",
     "output_type": "stream",
     "text": [
      "특정 평균 :  2.5355\n",
      "\n",
      "전체 평균2 :  [5.006 3.428 1.462 0.246]\n",
      "\n",
      "v표준편차 :  [0.34894699 0.37525458 0.17191859 0.10432641]\n",
      "\n",
      "\n",
      " setosa\n",
      "전체 평균2 :  [5.006 3.428 1.462 0.246]\n",
      "표준편차 :  [0.34894699 0.37525458 0.17191859 0.10432641]\n",
      "\n",
      "\n",
      " versicolor\n",
      "전체 평균2 :  [5.936 2.77  4.26  1.326]\n",
      "표준편차 :  [0.51098337 0.31064449 0.46518813 0.19576517]\n",
      "\n",
      "\n",
      " virginica\n",
      "전체 평균2 :  [6.588 2.974 5.552 2.026]\n",
      "표준편차 :  [0.62948868 0.31925538 0.54634787 0.27188968]\n"
     ]
    }
   ],
   "source": [
    "x[y==0].mean() #평균 구하는식1\n",
    "print(\"특정 평균 : \",np.mean(x[y==0]))#평균 구하는식2\n",
    "\n",
    "x[y==0].mean(axis=0) #평균 구하는식1\n",
    "print(\"\\n전체 평균2 : \",np.mean(x[y==0],axis=0))#평균 구하는식2\n",
    "\n",
    "\n",
    "x[y==0].std(axis=0) #표준편차 구하는식1\n",
    "print(\"\\nv표준편차 : \",np.std(x[y==0],axis=0))#표준편차 구하는식2\n",
    " \n",
    "\n",
    "for i in range(3):   \n",
    "    print(\"\\n\\n\",iris.target_names[i])  #이름 확인 방법   target_names()\n",
    "    print(\"전체 평균2 : \",np.mean(x[y==i],axis=0)) \n",
    "    print(\"표준편차 : \",np.std(x[y==i],axis=0)) "
   ]
  }
 ],
 "metadata": {
  "kernelspec": {
   "display_name": "Python 3 (ipykernel)",
   "language": "python",
   "name": "python3"
  },
  "language_info": {
   "codemirror_mode": {
    "name": "ipython",
    "version": 3
   },
   "file_extension": ".py",
   "mimetype": "text/x-python",
   "name": "python",
   "nbconvert_exporter": "python",
   "pygments_lexer": "ipython3",
   "version": "3.10.11"
  }
 },
 "nbformat": 4,
 "nbformat_minor": 5
}
