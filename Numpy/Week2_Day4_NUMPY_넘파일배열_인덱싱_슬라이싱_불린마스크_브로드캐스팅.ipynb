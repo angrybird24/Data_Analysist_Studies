{
 "cells": [
  {
   "cell_type": "markdown",
   "id": "8f8d4353",
   "metadata": {},
   "source": [
    "넘파이(Numpy)  라이브러리\n",
    "- 대용량 배열과 행렬연산에 대한 고속연산을 지원하는 라이브러리\n",
    "- 딥러닝에 입력으로 들어가는 이미지 , 4차원 데이터 (batch_size, 높이 ,너비, 채널 수) \n",
    "\n",
    "플라틀\n",
    "\n",
    "플라틀(FLAT)은 다차원 배열의 데이터를 1차원으로 평탄화(flattening)하는 기능을 제공하는 메서드입니다. \n",
    "이를 통해 다차원 배열을 1차원 배열로 변환할 수 있습니다.  \n",
    "\n",
    "\n",
    "<기타, 명령어모음 > -- 가상환경 구축 \n",
    "- 아나콘다 에서 최신버전으로 update \n",
    " \t1) anaconda prompt 관리자모드실행 -> conda update -n base conda\n",
    "\t   ( Conda 패키지 관리자를 업데이트하는 명령어 ) \n",
    "\t2) conda update --all  \n",
    "\t   ( Conda 환경에 설치된 패키지들을 최신 버전으로 업데이트)\n",
    "\t3)conda --version\n",
    "\t   ( conda 현재 버전확인)\n",
    "\t4)conda list\n",
    "\t   ( conda 가상환경에 설치된 패키지들, 라이브러리의 목록을 보여주는 명령어, )\n",
    "\t5)conda create --name CW_AI_Academy \n",
    "\t   ( conda 환경에서 새로운 가상환경을 생성)\n",
    "\t6)conda activate CW_AI_Academy\n",
    "\t   ( CW_AI_Academy를 활성화시킨다 , 이러면 프롬프트입력줄 앞에 이름달림) \n",
    "\t7)conda install numpy\n",
    "\t   (  패키지 매니저를 사용하여 지정한 패키지를 설치하는 명령어 )  "
   ]
  },
  {
   "cell_type": "code",
   "execution_count": 2,
   "id": "ddcbbd0f",
   "metadata": {},
   "outputs": [],
   "source": [
    "import numpy as np \n",
    "import time"
   ]
  },
  {
   "cell_type": "code",
   "execution_count": 18,
   "id": "f6caad03",
   "metadata": {},
   "outputs": [
    {
     "name": "stdout",
     "output_type": "stream",
     "text": [
      "0.09629201889038086\n",
      "0.006675004959106445\n"
     ]
    }
   ],
   "source": [
    "#배열을 이용한 시간찾기\n",
    "start_time = time.time()\n",
    "numbers = range(1,1000001)\n",
    "squares = []\n",
    "for num in numbers:\n",
    "    squares.append(num**2)\n",
    "end_time = time.time()\n",
    "print(end_time-start_time)\n",
    "\n",
    "#numpy를 이용한 시간찾기\n",
    "#속도차이 많이남 \n",
    "start_time = time.time()\n",
    "numbers = np.arange(1,1000001)\n",
    "squares = np.square(numbers)\n",
    "\n",
    "end_time = time.time()\n",
    "print(end_time-start_time)"
   ]
  },
  {
   "cell_type": "code",
   "execution_count": 1,
   "id": "ab35ac15",
   "metadata": {},
   "outputs": [
    {
     "ename": "NameError",
     "evalue": "name 'np' is not defined",
     "output_type": "error",
     "traceback": [
      "\u001b[1;31m---------------------------------------------------------------------------\u001b[0m",
      "\u001b[1;31mNameError\u001b[0m                                 Traceback (most recent call last)",
      "Cell \u001b[1;32mIn[1], line 3\u001b[0m\n\u001b[0;32m      1\u001b[0m \u001b[38;5;66;03m#Numpy 배열생성 \u001b[39;00m\n\u001b[0;32m      2\u001b[0m \u001b[38;5;66;03m#행이 하나인 배열 만들기 \u001b[39;00m\n\u001b[1;32m----> 3\u001b[0m arr \u001b[38;5;241m=\u001b[39m np\u001b[38;5;241m.\u001b[39marray([\u001b[38;5;241m1\u001b[39m,\u001b[38;5;241m2\u001b[39m,\u001b[38;5;241m3\u001b[39m,\u001b[38;5;241m4\u001b[39m,\u001b[38;5;241m5\u001b[39m]) \u001b[38;5;66;03m#배열로 넣기  \u001b[39;00m\n\u001b[0;32m      4\u001b[0m arr2 \u001b[38;5;241m=\u001b[39m np\u001b[38;5;241m.\u001b[39marray((\u001b[38;5;241m1\u001b[39m,\u001b[38;5;241m2\u001b[39m,\u001b[38;5;241m3\u001b[39m,\u001b[38;5;241m4\u001b[39m,\u001b[38;5;241m5\u001b[39m))\u001b[38;5;66;03m#튜플로 넣기\u001b[39;00m\n\u001b[0;32m      5\u001b[0m \u001b[38;5;28mprint\u001b[39m(\u001b[38;5;28mtype\u001b[39m(arr))\n",
      "\u001b[1;31mNameError\u001b[0m: name 'np' is not defined"
     ]
    }
   ],
   "source": [
    "#Numpy 배열생성 \n",
    "#행이 하나인 배열 만들기 \n",
    "arr = np.array([1,2,3,4,5]) #배열로 넣기  \n",
    "arr2 = np.array((1,2,3,4,5))#튜플로 넣기\n",
    "print(type(arr))\n",
    "print(type(arr2))\n",
    "\n",
    "#★★★★★\n",
    "print(\"arr의 형태 : \",arr.shape) #★배열의 형태  -> 5, 콤마뒤에 아무것도 없기에 1차윈 ex) 5,6 2차원 5,7,1 3차원\n",
    "print(\"arr의 차원수 : \",arr.ndim)#★배열의 차원수\n",
    "print(\"arr의 내부 원소의 자료형 : \",arr.dtype)#★배열 내부 원소의 자료형\n",
    "\n",
    "print(\"arr의 내부 원소의 크기 : \",arr.itemsize)#배열 내부 원소의 크기 (바이트 단위)\n",
    "print(\"arr의 내부 원소의 개수 : \",arr.size)#배열 내부 원소의 개수 \n",
    " #arr.shape 뒤에있는 shape 도 멤버변수임 이유: 뒤에 괄호() 가없기 떄문  \n",
    "\n",
    "arr_2d = np.array([[np.arange(3),np.arange(3)],[np.arange(3),np.arange(3)]])  #안쓰는방법이지만 가능  일정한배열로생성 \n",
    "# print(arr_2d) \n",
    "arr_2d = np.array([[np.arange(1,10).reshape(3,3)],[np.arange(1,10).reshape(3,3)]]) \n",
    "# print(arr_2d)\n",
    "\n",
    "\n",
    "#Numpy 배열생성 \n",
    "#열이 하나인 배열 만들기  \n",
    "arr = np.array([[1],[2],[3],[4],[5]])  \n",
    "\n",
    "print(\"arr의 형태 : \",arr.shape) #배열의 형태  -> 5,1  -> 5행 1열 (2차원)  각차원의 길이 \n",
    "print(\"arr의 차원수 : \",arr.ndim)#대괄호 갯수를 보고 차원수 짐작가능  \n",
    "print(\"arr의 내부 원소의 자료형 : \",arr.dtype) \n",
    "print(\"arr의 내부 원소의 크기 : \",arr.itemsize)\n",
    "print(\"arr의 내부 원소의 개수 : \",arr.size)"
   ]
  },
  {
   "cell_type": "code",
   "execution_count": 3,
   "id": "67286be6",
   "metadata": {},
   "outputs": [
    {
     "name": "stdout",
     "output_type": "stream",
     "text": [
      "[0. 0. 0.]\n",
      "[[0 0]\n",
      " [0 0]\n",
      " [0 0]\n",
      " [0 0]\n",
      " [0 0]]\n",
      "[[['' '' '']\n",
      "  ['' '' '']]\n",
      "\n",
      " [['' '' '']\n",
      "  ['' '' '']]]\n",
      "[[0. 0. 0.]\n",
      " [0. 0. 0.]]\n",
      "[[[5 5 5]\n",
      "  [5 5 5]\n",
      "  [5 5 5]]\n",
      "\n",
      " [[5 5 5]\n",
      "  [5 5 5]\n",
      "  [5 5 5]]]\n",
      "[0 1 2 3 4 5 6 7 8 9]\n",
      "[[0 1 2 3 4]\n",
      " [5 6 7 8 9]]\n",
      "[0.   0.25 0.5  0.75 1.  ]\n",
      "[6 1 6 5 7]\n",
      "<class 'list'>\n"
     ]
    }
   ],
   "source": [
    "#Numpy 에서 차원의 의미 \n",
    "    #1차원 배열은 하나의 축으로 이루어진 배열 : (5,) -> 튜플임 \n",
    "    #2차원 배열은 두개의 축으로 이루어진 배열 : (2,3)\n",
    "    #3차원 배열은 세개의 축으로 이루어진 배열 : (4,3,2)\n",
    "    #4차원 배열은 네개의 축으로 이루어진 배열 : (2,4,5,2)\n",
    "\n",
    "    \n",
    "#배열을 그냥 만들면 에러 떠서 0으로 만들려면 이렇게 해야함\n",
    "#디폴트로 요소의 값은 모두 실수형으로 채워짐 \n",
    "arr_zeros = np.zeros(3)\n",
    "print(arr_zeros)\n",
    "\n",
    "#dtype옵션을 이용해 요소의 형을 지정 \n",
    "arr_zeros = np.zeros((5,2),dtype=int) \n",
    "print(arr_zeros)\n",
    "\n",
    "#2행 3열 의 2차원배열 2개 존재하는 3차원 배열 (depth 2  , 2행 , 3열)\n",
    "arr_ones = np.zeros((2,2,3),dtype=str) \n",
    "print(arr_ones)\n",
    "\n",
    "#Empty  -> 쓰레기 값 (garbage value)가들어갈수있음\n",
    "arr_empty = np.empty((2,3))\n",
    "print(arr_empty)\n",
    "\n",
    "#full(a,b) -> a안에  b로 다넣어준다\n",
    "arr_full = np.full((2,3,3),5)\n",
    "print(arr_full)\n",
    "\n",
    "#arange() -> 지정된 범위내에서 지정된 간격으로 일정한 값의 배열을 생성 #나중에 reshape 이란 함수랑 같이 쓰임\n",
    "arr_arange_01 = np.arange(10)   #1차원 배열만 생성이됨                 # (3,3) 을 10 개로 넣을수없을때 다시 모양만들어줘야함 \n",
    "print(arr_arange_01)                                                   #  ex)(2,5)(5,2)(1,10)(10,1)\n",
    "\n",
    "#reshape()\n",
    "arr_arange_02 = np.arange(10).reshape(2,5)\n",
    "print(arr_arange_02)\n",
    "\n",
    "#linspace() 지정된 범위에서 지정된 개수만큼 동일한 간격으로 일정한 값의 배열을 생성\n",
    "arr_linspace_01 = np.linspace(0,1,5) #  linspace(시작값(start),범위의 끝값(stop),생성할 값의 개수(num))\n",
    "print(arr_linspace_01)\n",
    "\n",
    "#randint  \n",
    "q = np.random.randint(0,9,size=(5)) # randint(랜덤한숫자 0~ 9 , size = 몇개)\n",
    "print(q)\n",
    "\n",
    "#a.tolist() #a 라는 numpy list 를 일반 list로 형변환 , 1차원 배열인경우 그냥 list 쒸우면되지만 2차원이상은 tolist 써줘야함\n",
    "a = np.ones([5,5])\n",
    "a=a.tolist()\n",
    "print(type(a))"
   ]
  },
  {
   "cell_type": "code",
   "execution_count": 58,
   "id": "3ae8212b",
   "metadata": {
    "collapsed": true
   },
   "outputs": [
    {
     "name": "stdout",
     "output_type": "stream",
     "text": [
      "[[[11]\n",
      "  [12]]\n",
      "\n",
      " [[13]\n",
      "  [14]]\n",
      "\n",
      " [[15]\n",
      "  [16]]]\n",
      "[[[  11  101 1001]\n",
      "  [  12  102 1002]]\n",
      "\n",
      " [[  13  103 1003]\n",
      "  [  14  104 1004]]\n",
      "\n",
      " [[  15  105 1005]\n",
      "  [  16  106 1006]]]\n",
      "[[False False False]\n",
      " [ True  True False]]\n",
      "[[ True  True False]\n",
      " [ True  True  True]]\n",
      "[[False  True False]\n",
      " [ True False  True]]\n"
     ]
    }
   ],
   "source": [
    "#넘파이보다 더 강력한게 Broadcasting \n",
    "arr = np.array([[[1],[2]],\n",
    "                [[3],[4]],\n",
    "                [[5],[6]]])   \n",
    "print(arr+10) # v1 배열에 모두다 10을 더해줌 ! \n",
    "\n",
    "print(arr + np.array([10,100,1000])) # 각각의 행에다가 똑같은 길이의 백터를 더해줌 \n",
    "\n",
    "v1 = np.array([[1,2,3],[4,5,6]])\n",
    "v2 = np.array([[2,7,6],[1,0,6]])  \n",
    "\n",
    "print(v1 > v2)    #배열 비교\n",
    "\n",
    "print(v1 != 3)  #3이 아닌것\n",
    "\n",
    "print(v1%2==0)  # 짝수 홀수 찾기 "
   ]
  },
  {
   "cell_type": "code",
   "execution_count": 3,
   "id": "598269c7",
   "metadata": {},
   "outputs": [
    {
     "name": "stdout",
     "output_type": "stream",
     "text": [
      "2 \n",
      "\n",
      "5 \n",
      "\n",
      "[[2 3]] \n",
      "\n",
      "[[4 5]]\n"
     ]
    }
   ],
   "source": [
    "#nunpy의 기본 indexing과 Slicing \n",
    "v1 = np.array([[1,2,3],[4,5,6]])\n",
    "v2 = np.array([[2,7,6],[1,0,6]])\n",
    "\n",
    "print(np.array([1,2,3])[1],\"\\n\")\n",
    "print(v1[1][1],\"\\n\") #인덱싱                                          #★인덱실할때 차원이 줄어듬 \n",
    "print(v1[0:1,1:],\"\\n\") #슬라이싱  v1의[0번열] , [1번열~]   -> 2,3   #★슬라이싱하면 차원이 그대로 ! \n",
    "print(v1[1:2,:2]) \n",
    "\n"
   ]
  },
  {
   "cell_type": "code",
   "execution_count": 344,
   "id": "5bca23a1",
   "metadata": {
    "collapsed": true
   },
   "outputs": [
    {
     "name": "stdout",
     "output_type": "stream",
     "text": [
      "[[0 0 0]\n",
      " [4 5 6]]\n",
      "[[0 0 0]\n",
      " [4 5 1]]\n",
      "[[0 0 0]\n",
      " [0 0 0]]\n",
      "[[5 5 5]\n",
      " [5 5 5]]\n",
      "[[0 1 2]\n",
      " [4 5 6]]\n",
      "[[100 100 100]\n",
      " [200 200 200]]\n"
     ]
    }
   ],
   "source": [
    "#할당하는법\n",
    "v1 = np.array([[1,2,3],[4,5,6]])\n",
    "v1[0] =  0\n",
    "\n",
    "print(v1)  #1번열 모든 행 0으로 할당\n",
    "\n",
    "v1[1][2]=1 #2번째열 3번째를 1로 할당\n",
    "print(v1)\n",
    "\n",
    "v1[:] =0   #모든열,행 0으로 할당\n",
    "print(v1) \n",
    "\n",
    "v1+=5     #a모든열,행 5 더해줌 \n",
    "print(v1)\n",
    "\n",
    "v1 = np.array([[1,2,3],[4,5,6]])\n",
    "v1[0]=([0,1,2]) #1번쨰열 0 , 1 ,2 로 바꾸기 \n",
    "print(v1)\n",
    "\n",
    "v1[:]=[100],[200] #1번째 열 모든행 100 2번째열 모든행 200 \n",
    "print(v1)\n"
   ]
  },
  {
   "cell_type": "code",
   "execution_count": 149,
   "id": "5e9ce37e",
   "metadata": {
    "collapsed": true
   },
   "outputs": [
    {
     "name": "stdout",
     "output_type": "stream",
     "text": [
      "[[[[0. 0. 0. 0. 0.]\n",
      "   [0. 0. 0. 0. 0.]\n",
      "   [0. 0. 0. 0. 0.]\n",
      "   [0. 0. 0. 0. 0.]]\n",
      "\n",
      "  [[0. 0. 0. 0. 0.]\n",
      "   [0. 0. 0. 0. 0.]\n",
      "   [0. 0. 0. 0. 0.]\n",
      "   [0. 0. 0. 0. 0.]]\n",
      "\n",
      "  [[0. 0. 0. 0. 0.]\n",
      "   [0. 0. 0. 0. 0.]\n",
      "   [0. 0. 0. 0. 0.]\n",
      "   [0. 0. 0. 0. 0.]]]\n",
      "\n",
      "\n",
      " [[[0. 0. 0. 0. 0.]\n",
      "   [0. 0. 0. 0. 0.]\n",
      "   [0. 0. 0. 0. 0.]\n",
      "   [0. 0. 0. 0. 0.]]\n",
      "\n",
      "  [[0. 0. 0. 0. 0.]\n",
      "   [0. 0. 0. 0. 0.]\n",
      "   [0. 0. 0. 0. 0.]\n",
      "   [0. 0. 0. 0. 0.]]\n",
      "\n",
      "  [[0. 0. 0. 0. 0.]\n",
      "   [0. 0. 0. 0. 0.]\n",
      "   [0. 0. 0. 0. 0.]\n",
      "   [0. 0. 0. 0. 0.]]]]\n",
      "\n",
      "\n",
      "====================\n",
      "\n",
      "\n",
      "[[[0. 1. 0. 0. 0.]\n",
      "  [0. 1. 0. 0. 0.]\n",
      "  [0. 1. 0. 0. 0.]\n",
      "  [0. 1. 0. 0. 0.]]\n",
      "\n",
      " [[1. 1. 1. 1. 1.]\n",
      "  [1. 1. 1. 1. 1.]\n",
      "  [1. 1. 1. 1. 1.]\n",
      "  [1. 1. 1. 1. 1.]]\n",
      "\n",
      " [[1. 1. 1. 1. 1.]\n",
      "  [1. 1. 1. 1. 1.]\n",
      "  [1. 1. 1. 1. 1.]\n",
      "  [1. 1. 1. 1. 1.]]]\n"
     ]
    }
   ],
   "source": [
    "#4차원 \n",
    "z1=np.zeros((2,3,4,5)) #요소 5개 있는 4개있는 3개의 2개 \n",
    "                    #2개안에 3개가 있는데 그 3개안에 4개 그 4개안에 5개가있음 \n",
    "\n",
    "# z1[0,2,2] =1\n",
    "print(z1)\n",
    "print(\"\\n\\n====================\\n\\n\")\n",
    "z1[0,:,:,1]=1 \n",
    "z1[0,1:]=1 #만약에 하위차원이 전체면 안적어도됨 \n",
    "               # z1[0,1:,:,:]=1   와 z1[0,1:]=1 같음  \n",
    "print(z1[0])"
   ]
  },
  {
   "cell_type": "code",
   "execution_count": 351,
   "id": "46154128",
   "metadata": {
    "collapsed": true
   },
   "outputs": [
    {
     "name": "stdout",
     "output_type": "stream",
     "text": [
      "[[1 3]\n",
      " [4 6]] \n",
      "\n",
      "[[[[  1.   2.   3.   4.   5.]\n",
      "   [  6.   7.   8.   9.  10.]\n",
      "   [ 11.  12.  13.  14.  15.]\n",
      "   [ 16.  17.  18.  19.  20.]]\n",
      "\n",
      "  [[ 21.  22.  23.  24.  25.]\n",
      "   [ 26.  27.  28.  29.  30.]\n",
      "   [ 31.  32.  33.  34.  35.]\n",
      "   [ 36.  37.  38.  39.  40.]]\n",
      "\n",
      "  [[ 41.  42.  43.  44.  45.]\n",
      "   [ 46.  47.  48.  49.  50.]\n",
      "   [ 51.  52.  53.  54.  55.]\n",
      "   [ 56.  57.  58.  59.  60.]]]\n",
      "\n",
      "\n",
      " [[[ 61.  62.  63.  64.  65.]\n",
      "   [ 66.  67.  68.  69.  70.]\n",
      "   [ 71.  72.  73.  74.  75.]\n",
      "   [ 76.  77.  78.  79.  80.]]\n",
      "\n",
      "  [[ 81.  82.  83.  84.  85.]\n",
      "   [ 86.  87.  88.  89.  90.]\n",
      "   [ 91.  92.  93.  94.  95.]\n",
      "   [ 96.  97.  98.  99. 100.]]\n",
      "\n",
      "  [[101. 102. 103. 104. 105.]\n",
      "   [106. 107. 108. 109. 110.]\n",
      "   [111. 112. 113. 114. 115.]\n",
      "   [116. 117. 118. 119. 120.]]]]\n",
      "[[21. 26. 31. 36.]\n",
      " [22. 27. 32. 37.]\n",
      " [24. 29. 34. 39.]\n",
      " [25. 30. 35. 40.]] \n",
      "\n",
      "[[21. 26. 31. 36.]\n",
      " [22. 27. 32. 37.]\n",
      " [24. 29. 34. 39.]\n",
      " [25. 30. 35. 40.]] \n",
      "\n"
     ]
    }
   ],
   "source": [
    "#fancy 인덱싱, fancy 슬라이싱\n",
    "\n",
    "v1= np.array([[1,2,3],[4,5,6]])\n",
    "\n",
    "print(v1[:,[0,2]],\"\\n\")  #배열 중간거를 없앨수있음!( 빼고 출력할수있음 )\n",
    "\n",
    "\n",
    "z= np.linspace(1,120,120).reshape((2,3,4,5))  # 1~120 까지 120 번으로 나눈걸넣으면 1~120 씩 정수들어감 이걸 4차원(2,3,4,5)로 리쉡\n",
    "print(z)\n",
    "\n",
    "print(z[0,1,:,[0,1,3,4]],\"\\n\")  #제일큰 2개중 1번째 있는거에 , 2번째있는  , 전부 , 0,1,3,4에있는 것들 \n",
    "print(z[0, 1, :, np.concatenate([np.arange(0, 2), np.arange(3, 5)])],\"\\n\")  #방법2\n"
   ]
  },
  {
   "cell_type": "code",
   "execution_count": 339,
   "id": "6bbd4503",
   "metadata": {
    "collapsed": true
   },
   "outputs": [
    {
     "name": "stdout",
     "output_type": "stream",
     "text": [
      "[[1 0 3]\n",
      " [0 5 0]] \n",
      "\n",
      "[1 3 5]\n"
     ]
    }
   ],
   "source": [
    " #Boolean mask   \n",
    "mask = v1%2 == 0  #배열안 원소값이 2 로 나눴을때 0 이면 0으로 할당\n",
    "v1[mask] =0\n",
    "print(v1,\"\\n\")\n",
    "\n",
    "\n",
    "arr=np.array([1,2,3,4,5,6])\n",
    "mask=arr%2!=0\n",
    "arr=arr[mask] \n",
    "\n",
    "print(arr)"
   ]
  },
  {
   "cell_type": "code",
   "execution_count": 28,
   "id": "f8ba9ae5",
   "metadata": {
    "collapsed": true
   },
   "outputs": [
    {
     "name": "stdout",
     "output_type": "stream",
     "text": [
      "[1, 2, 3, 2, 7, 10]\n",
      "[ 3  9 13]\n",
      "[3, 9, 13]\n",
      "\n",
      "v1-v2\n",
      "[[-1 -2  0]\n",
      " [ 2 -2 -4]\n",
      " [ 1  5  7]\n",
      " [ 3 -3  0]] \n",
      "\n",
      "\n",
      "v1/v2\n",
      "[[0.5        0.5        1.        ]\n",
      " [2.         0.71428571 0.6       ]\n",
      " [2.         3.5        3.33333333]\n",
      " [2.5        0.5        1.        ]] \n",
      "\n",
      "\n",
      "v1%v2\n",
      "[[1 2 0]\n",
      " [0 5 6]\n",
      " [0 1 1]\n",
      " [1 3 0]] \n",
      "\n",
      "\n",
      "v1+v2\n",
      "[[ 3  6  6]\n",
      " [ 6 12 16]\n",
      " [ 3  9 13]\n",
      " [ 7  9 10]] \n",
      "\n",
      "\n",
      "v1**v2\n",
      "[[       1       16       27]\n",
      " [      16    78125 60466176]\n",
      " [       2       49     1000]\n",
      " [      25      729     3125]] \n",
      "\n"
     ]
    }
   ],
   "source": [
    "arr1 = [1,2,3] + [2,7,10]\n",
    "print(arr1)\n",
    "\n",
    "arr1 = np.array([1,2,3])\n",
    "arr2 = np.array([2,7,10])\n",
    "print(arr1+arr2)\n",
    "\n",
    "print(list(map(lambda x : x[0]+x[1], zip([1,2,3],[2,7,10]))))\n",
    "\n",
    "v1=np.array([[1,2,3],[4,5,6],\n",
    "            [2,7,10],[5,3,5]])\n",
    "v2=np.array([[2,4,3],[2,7,10],\n",
    "            [1,2,3],[2,6,5]])\n",
    "\n",
    "print(\"\\nv1-v2\")\n",
    "print(v1-v2 ,\"\\n\")\n",
    "\n",
    "print(\"\\nv1/v2\")\n",
    "print(v1/v2 ,\"\\n\")\n",
    "\n",
    "print(\"\\nv1%v2\")\n",
    "print(v1%v2 ,\"\\n\")\n",
    "\n",
    "print(\"\\nv1+v2\")\n",
    "print(v1+v2 ,\"\\n\")\n",
    "\n",
    "\n",
    "print(\"\\nv1**v2\")\n",
    "print(v1**v2 ,\"\\n\")"
   ]
  },
  {
   "cell_type": "code",
   "execution_count": 270,
   "id": "c5ceb42a",
   "metadata": {
    "collapsed": true
   },
   "outputs": [
    {
     "name": "stdout",
     "output_type": "stream",
     "text": [
      "[[0. 0. 0.]\n",
      " [0. 0. 0.]\n",
      " [0. 0. 0.]] <<1번 \n",
      "\n",
      "[6 8 6 6 6] <<2번 \n",
      "\n",
      "[[[1 1 1 1]\n",
      "  [1 1 1 1]\n",
      "  [1 1 1 1]]\n",
      "\n",
      " [[1 1 1 1]\n",
      "  [1 1 1 1]\n",
      "  [1 1 1 1]]] <<3번 \n",
      "\n"
     ]
    }
   ],
   "source": [
    "import numpy as np\n",
    "\n",
    "#1번 문제 \n",
    "a=np.zeros([3,3])\n",
    "print(a,\"<<1번 \\n\")\n",
    "\n",
    "#2번 문제\n",
    "q = np.random.randint(0,9,size=(5))\n",
    "print(q,\"<<2번 \\n\")\n",
    "\n",
    "#3번 문제\n",
    "b=np.full([2,3,4],1)\n",
    "print(b,\"<<3번 \\n\")"
   ]
  },
  {
   "cell_type": "code",
   "execution_count": 342,
   "id": "1daeb532",
   "metadata": {},
   "outputs": [
    {
     "name": "stdout",
     "output_type": "stream",
     "text": [
      "(2, 3)\n",
      "6\n",
      "int32\n",
      "[5 7 9]\n",
      "[-3 -3 -3]\n",
      "[ 4 10 18]\n",
      "[0.25 0.4  0.5 ]\n",
      "[1 4 9]\n",
      "[2.5 3.5 4.5]\n"
     ]
    }
   ],
   "source": [
    "#q2 \n",
    "arr=np.array([[1,2,3],[4,5,6]])\n",
    "print(arr.shape)         #크기 \n",
    "print(arr.size)          #요소개수\n",
    "print(arr.dtype)         #데이터 타잎 \n",
    "\n",
    "#q3\n",
    "arr1=np.array([1,2,3])\n",
    "arr2=np.array([4,5,6])\n",
    "\n",
    "#더하기\n",
    "print(arr1+arr2)\n",
    "#빼기\n",
    "print(arr1-arr2)\n",
    "#곱\n",
    "print(arr1*arr2)\n",
    "#나누기\n",
    "print(arr1/arr2)\n",
    "#첫번째 배열 제곱\n",
    "print(arr1**2)\n",
    "#두 배열 평균구하기 \n",
    "print((arr1+arr2)/2)"
   ]
  },
  {
   "cell_type": "code",
   "execution_count": 350,
   "id": "81532d55",
   "metadata": {
    "scrolled": false
   },
   "outputs": [
    {
     "name": "stdout",
     "output_type": "stream",
     "text": [
      "[[5. 5. 5. 5. 5.]\n",
      " [5. 5. 5. 5. 5.]\n",
      " [5. 5. 5. 5. 5.]\n",
      " [5. 5. 5. 5. 5.]\n",
      " [5. 5. 5. 5. 5.]] \n",
      "\n",
      "[1 3 5]\n",
      "[1 3 5]\n",
      "[1 3 5]\n"
     ]
    }
   ],
   "source": [
    "#4\n",
    "a = np.ones([5,5])\n",
    "a[:] = 5 \n",
    "# a= a.tolist() # nested list 형변환\n",
    "print(a,\"\\n\")\n",
    "\n",
    "#5\n",
    "arr=np.array([1,2,3,4,5,6])\n",
    "print(arr[arr%2!=0])\n",
    "print(arr[[0,2,4]])\n",
    "\n",
    "mask=arr%2!=0\n",
    "arr=arr[mask] \n",
    "print(arr)"
   ]
  },
  {
   "cell_type": "code",
   "execution_count": 50,
   "id": "ce52a5fb",
   "metadata": {},
   "outputs": [
    {
     "name": "stdout",
     "output_type": "stream",
     "text": [
      "arr의 형태 :  (3, 3)\n",
      "arr의 차원수 :  2\n",
      "arr의 내부 원소의 자료형 :  int32\n",
      "arr의 내부 원소의 크기 :  4\n",
      "arr의 내부 원소의 개수 :  9\n"
     ]
    }
   ],
   "source": [
    "#예제 1  (3,3) 형태의 배열을 만들어라 (3행(3개) , 3열(3줄)) \n",
    "arr=np.array([[1,2,3],[4,5,6],[7,8,9]])\n",
    "\n",
    "print(\"arr의 형태 : \", arr.shape )  \n",
    "print(\"arr의 차원수 : \", arr.ndim ) \n",
    "print(\"arr의 내부 원소의 자료형 : \", arr.dtype)\n",
    "\n",
    "print(\"arr의 내부 원소의 크기 : \", arr.itemsize)\n",
    "print(\"arr의 내부 원소의 개수 : \", arr.size)\n"
   ]
  }
 ],
 "metadata": {
  "kernelspec": {
   "display_name": "Python 3 (ipykernel)",
   "language": "python",
   "name": "python3"
  },
  "language_info": {
   "codemirror_mode": {
    "name": "ipython",
    "version": 3
   },
   "file_extension": ".py",
   "mimetype": "text/x-python",
   "name": "python",
   "nbconvert_exporter": "python",
   "pygments_lexer": "ipython3",
   "version": "3.10.11"
  }
 },
 "nbformat": 4,
 "nbformat_minor": 5
}
