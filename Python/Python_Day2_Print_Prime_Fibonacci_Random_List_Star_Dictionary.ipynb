{
 "cells": [
  {
   "cell_type": "markdown",
   "id": "48bcc55d",
   "metadata": {},
   "source": [
    "# <div style=\"font-size : 40px; color : Orange\">2 일 차 </div>"
   ]
  },
  {
   "cell_type": "markdown",
   "id": "5e1f2643",
   "metadata": {},
   "source": [
    "<div>데이터 타입<br>\n",
    "    기본형(primitive types)\n",
    "boolean: 1 byte <br>\n",
    "byte: 1 byte<br>\n",
    "char: 2 bytes<br>\n",
    "short: 2 bytes<br>\n",
    "int: 4 bytes<br>\n",
    "float: 4 bytes<br>\n",
    "long: 8 bytes<br>\n",
    "double: 8 bytes<br><br>\n",
    "\n",
    "\n",
    "참조형(reference type)<br>\n",
    "String은 유니코드(Unicode) 문자를 저장하는데, 각 문자는 2 bytes</div>\n"
   ]
  },
  {
   "cell_type": "code",
   "execution_count": 608,
   "id": "3d8f9e7c",
   "metadata": {
    "collapsed": true
   },
   "outputs": [
    {
     "name": "stdout",
     "output_type": "stream",
     "text": [
      "a = 10 ,  b = 10.200000 , c =  HI , d = %\n",
      "10.00 김정은\n",
      "     10.00 김정은\n",
      "10.00      김정은\n"
     ]
    }
   ],
   "source": [
    "#프린트 하는법 \n",
    "#방법1\n",
    "a = 10     #  정수는 %d\n",
    "b = 10.2   #  소수는 %f\n",
    "c = \"HI\"   #  문자열은 %s\n",
    "           #  % 는 %% \n",
    "print('''a = %d ,  b = %f , c =  %s , d = %%'''%(a,b,c))\n",
    "\n",
    "\n",
    "#방법2\n",
    "print(\"{0:.2f} {1}\".format(10,\"김정은\"))  # {0 번째꺼를  소수점 2번째까지를 출력} {1번째 출력}\n",
    "print(\"{0:10.2f} {1}\".format(10,\"김정은\"))# {0 번째꺼를 앞에 10칸 뛰우고 소수점2번째까지를 우측 정렬 출력} \n",
    "print(\"{0:<10.2f} {1}\".format(10,\"김정은\"))# {0 번째꺼를 앞뒤에 10칸 뛰우고 소수점2번째까지를 좌측 정렬 출력}  \n"
   ]
  },
  {
   "cell_type": "code",
   "execution_count": 557,
   "id": "8dd602c1",
   "metadata": {},
   "outputs": [],
   "source": [
    "#랜덤한 숫자, 문자 뽑아내기\n",
    "import random as r \n",
    "def randomNumber(): #1~10\n",
    "    num = r.randint(1,10)\n",
    "    return num\n",
    "\n",
    "def randomNumber2(): #5~10\n",
    "    num = r.randint(5,10)\n",
    "    return num\n",
    "\n",
    "def randomNumber3(): # a ~ e \n",
    "    num = r.choice(['a','b','c','d','e'])\n",
    "    return num"
   ]
  },
  {
   "cell_type": "code",
   "execution_count": 26,
   "id": "8fc4661d",
   "metadata": {},
   "outputs": [],
   "source": [
    "#소수 구하는 식\n",
    "def primeNumber(n):\n",
    "    if(n<=2):\n",
    "        return n==2\n",
    "    \n",
    "    for i in range(2, int(n**0.5)+1):\n",
    "        if n%i == 0:\n",
    "            return False\n",
    "    return True\n"
   ]
  },
  {
   "cell_type": "code",
   "execution_count": 559,
   "id": "e3433e5b",
   "metadata": {
    "collapsed": true
   },
   "outputs": [
    {
     "data": {
      "text/plain": [
       "55"
      ]
     },
     "execution_count": 559,
     "metadata": {},
     "output_type": "execute_result"
    }
   ],
   "source": [
    "#피보나치 구하는식\n",
    "def fibonacci(n):\n",
    "    if n<=1:\n",
    "        return n\n",
    "    else:\n",
    "        return fibonacci(n-1)+fibonacci(n-2)"
   ]
  },
  {
   "cell_type": "code",
   "execution_count": null,
   "id": "6c990c00",
   "metadata": {},
   "outputs": [],
   "source": [
    "#메모리 주소 확인 \n",
    "a=\"이름\"\n",
    "print(id(a)) \n",
    "a=\"얼름\"\n",
    "print(id(a)) "
   ]
  },
  {
   "cell_type": "code",
   "execution_count": 662,
   "id": "67db537a",
   "metadata": {
    "collapsed": true
   },
   "outputs": [
    {
     "name": "stdout",
     "output_type": "stream",
     "text": [
      "5\n",
      "*\n",
      "**\n",
      "***\n",
      "****\n",
      "*****\n",
      "****\n",
      "***\n",
      "**\n",
      "*\n",
      "    *\n",
      "   ***\n",
      "  *****\n",
      " *******\n",
      "*********\n",
      " *******\n",
      "  *****\n",
      "   ***\n",
      "    *\n",
      "    *\n",
      "   ***\n",
      "  *****\n",
      " *******\n",
      "*********\n",
      " *******\n",
      "  *****\n",
      "   ***\n",
      "    *\n"
     ]
    }
   ],
   "source": [
    "#별만들기 \n",
    "n= int(input(\"\")); \n",
    "\n",
    "#계단\n",
    "for i in range(1,n+1):\n",
    "    print(\"*\"*i)\n",
    "\n",
    "#역 계단\n",
    "for i in range(n-1,0,-1):\n",
    "    print(\"*\"*i)\n",
    "\n",
    "#피라미드\n",
    "for i in range(1,n+1):\n",
    "    print(\" \"*(n-i)+\"*\"*(2*i-1))\n",
    "\n",
    "#역피라미드 \n",
    "for i in range(n-1,0,-1):\n",
    "    print(\" \"*(n-i)+\"*\"*(2*i-1))\n",
    "    \n",
    "#다이아몬드\n",
    "for i in range(1, n+1): \n",
    "    print(\" \"*(n-i) + \"*\"*(2*i-1))\n",
    "for i in range(n-1, 0, -1):\n",
    "    print(\" \"*(n-i) + \"*\"*(2*i-1))"
   ]
  },
  {
   "cell_type": "code",
   "execution_count": 708,
   "id": "7662cf21",
   "metadata": {
    "collapsed": true
   },
   "outputs": [
    {
     "data": {
      "text/plain": [
       "5"
      ]
     },
     "execution_count": 708,
     "metadata": {},
     "output_type": "execute_result"
    }
   ],
   "source": [
    "#리스트 만들기\n",
    "list1 = list()            #비어있는 list 만들기  # 튜플 (변경  불가능한 리스트)\n",
    "list2 = [1]                #비어있는 list 만들기2 # 리스트(변경 가능한 리스트)\n",
    "list3 = list((1,2,3))     #123 있는 list 만들기 \n",
    "list4 = list(range(1,10)) #1~9 있는 list 만들기\n",
    "list5 = list(\"ABCDE\")     #A~E 있는 list 만들기\n",
    "\n",
    "# 인덱싱 => 배열안에서 무언가를 뽑아내는것      ex(list5[3]) >> D\n",
    "# 슬라이싱 => 배열안에서 A~B 까지를 뽑아내는것  ex(list5[:2]) >> A,B\n",
    "\n",
    "listX=['a','b','c','d','e'] \n",
    "listX.append('f')  # listX 맨뒤에 'f'  추가 \n",
    "listX.remove('f')  # listX 에서 'f' 를 제거\n",
    "listX.index('d')   # listX 에서 'd' 의 인덱스 넘퍼 확인\n",
    "listX.pop()        # listX 에서 맨마지막 원소를 제거 \n",
    "listX.reverse()    # listX 의 순서 거꾸로 \n",
    "listX.count('a')   # listX 에서 'a' 의 개수파악\n",
    "listX.insert(2,'q')# listX 에서 2 번째 인덱스 위치에 'q'를 넣기\n",
    "listX.sort()       # listX의 순서 정리 \n",
    "listX.extend(list2)# listX에 list2를 맨뒤에 넣어주기\n",
    "\n",
    "listZ=[1,2,3,4,5] \n",
    "10 in listZ #False\n",
    "1 in listZ  #True \n",
    " \n",
    "# 리스트 인덱싱 List Indexing \n",
    "listZ[:]           #리스트 전체를 출력\n",
    "listZ[2:]          # 인덱스 2부터 출력\n",
    "listZ[:2]          # 인덱스 2앞으로 출력\n",
    "listZ[1:3]         # 인덱스 1~2 출력\n",
    "\n",
    "# 리스트 길이\n",
    "len(listZ)"
   ]
  },
  {
   "cell_type": "code",
   "execution_count": 2,
   "id": "84e04999",
   "metadata": {},
   "outputs": [
    {
     "name": "stdout",
     "output_type": "stream",
     "text": [
      "홍길동\n",
      "225   나나\n",
      "321   제니\n",
      "433   주희\n",
      "112   민서\n",
      "과일  apple 의 가격은  5000  입니다\n",
      "과일  banana 의 가격은  4000  입니다\n",
      "과일  grape 의 가격은  5300  입니다\n",
      "과일  melon 의 가격은  6500  입니다\n",
      "과일  waterMelon 의 가격은  12000  입니다\n",
      "['banana', 'cheery']\n",
      "[2, 3]\n"
     ]
    }
   ],
   "source": [
    "#딕셔너리 Dictionary\n",
    "# 앞에 있는게 Key 뒤에 있는게 Value \n",
    "person = {\"이름\" : \"홍길동\", \"나이\":\"26\", \"몸무게\":82}\n",
    "\n",
    "print(person[\"이름\"])        #프린트시 이름이란 Key => 홍길동이란 값이 나옴\n",
    "person[\"이름\"]=\"김병만\"      # key 가 이름인 곳에  \"김병만\" 이란 값을 선언\n",
    "del person[\"이름\"]           # key 가 이름인 곳을 person 이란 배열에서 삭제\n",
    "\n",
    "students={225:\"나나\", 321:\"제니\",433:\"주희\", 112:\"민서\"}\n",
    "for num, name in students.items(): # students 라는 dictionary에서 for문으로 items 들출력\n",
    "    print(num,\" \",name ) #2 개 다 필요하면 변수 2개 만들어서 이렇게 출력\n",
    "\n",
    "    \n",
    "fruits_dic={'apple':5000,'banana':4000,'grape':5300,'melon':6500}\n",
    "fruits_dic['waterMelon']=12000  # Dictionary에 추가하기 \n",
    "for name , price in fruits_dic.items():\n",
    "    print(\"과일 \",name,\"의 가격은 \",price,\" 입니다\")        \n",
    "fruits_dic.clear()      # 딕셔너리의 모든걸 제거 \n",
    "\n",
    "my_dict={'apple':1,'banana':2,'cheery':3,'orange':4,'kiwi':5}\n",
    "keys = list(my_dict.keys()) # 딕셔너리 키만 뽑아낸 것 \n",
    "values = list(my_dict.values()) # 딕셔너리 값만 뽑아낸 것 \n",
    "i = list(my_dict.items()) # 딕셔너리 세트로 뽑아낸 것 \n",
    "print(keys[1:3])\n",
    "print(values[1:3])\n",
    "print(i[1:3])\n"
   ]
  },
  {
   "cell_type": "code",
   "execution_count": 731,
   "id": "0c1dd718",
   "metadata": {
    "collapsed": true
   },
   "outputs": [
    {
     "data": {
      "text/plain": [
       "4"
      ]
     },
     "execution_count": 731,
     "metadata": {},
     "output_type": "execute_result"
    }
   ],
   "source": [
    "# 패킹 , 언패킹\n",
    "\n",
    "a= (1,2) #튜플 패킹\n",
    "a[0]     # 1 \n",
    "a[1]     # 2\n",
    "\n",
    "c=(3,4)  #튜플 패킹\n",
    "d,e = c  #튜플 언패킹\n",
    "d        # 3\n",
    "e        # 4"
   ]
  },
  {
   "cell_type": "code",
   "execution_count": 734,
   "id": "db1d5145",
   "metadata": {
    "collapsed": true
   },
   "outputs": [
    {
     "name": "stdout",
     "output_type": "stream",
     "text": [
      "{1, 2, 3, 4, 5, 6}\n",
      "{1, 2, 4, 5, 6}\n"
     ]
    }
   ],
   "source": [
    "#Set 세트\n",
    "# Set의 주요 특징은 다음과 같습니다.\n",
    "# 중복된 항목을 허용하지 않습니다.\n",
    "# 순서가 없습니다.\n",
    "\n",
    "my_set ={1,2,3,4,5}\n",
    "\n",
    "# 항목 추가\n",
    "my_set.add(6)\n",
    "print(my_set)   # 출력: {1, 2, 3, 4, 5, 6}\n",
    "\n",
    "# 항목 제거\n",
    "my_set.remove(3)\n",
    "print(my_set)   # 출력: {1, 2, 4, 5, 6}"
   ]
  },
  {
   "cell_type": "markdown",
   "id": "c65a5fa1",
   "metadata": {},
   "source": [
    "# 문제 1번 (2.3)\n",
    "width 와 height라는 변수에 각각 30,60 값을 할당후 이 두변수를 이용해 다음과 같이 면적(area)를 구하는 프로그램작성하라"
   ]
  },
  {
   "cell_type": "code",
   "execution_count": 603,
   "id": "8a52414c",
   "metadata": {
    "collapsed": true
   },
   "outputs": [
    {
     "name": "stdout",
     "output_type": "stream",
     "text": [
      "1800\n"
     ]
    }
   ],
   "source": [
    "width = 30; height = 60\n",
    "area = width * height\n",
    "print(area)"
   ]
  },
  {
   "cell_type": "markdown",
   "id": "3dfc0f4a",
   "metadata": {},
   "source": [
    "# 문제 2번 (2.13)\n",
    "사용자로부터 반지름 값을 입력받아서, 이반지름을 가진 원의 둘레와 면적을 다음과 같이 출력하라 이 값을 구하기 위하여 PI= 3.141592 라는 변수를 이용하시오"
   ]
  },
  {
   "cell_type": "code",
   "execution_count": 614,
   "id": "b40cf74d",
   "metadata": {
    "collapsed": true
   },
   "outputs": [
    {
     "name": "stdout",
     "output_type": "stream",
     "text": [
      "원의 반지름을 입력하세요 : 11\n",
      "원의 둘레 = 69.115024, 원의 면적 = 380.132632000000001 \n"
     ]
    }
   ],
   "source": [
    "r = float(input(\"원의 반지름을 입력하세요 : \"))\n",
    "PI = 3.141592\n",
    "# print(\"원의 둘레 = \",2*PI*r,\",원의 면적 = \", PI*r**2) \n",
    "print(\"원의 둘레 = {0}, 원의 면적 = {1:0.15f} \".format(2*PI*r, PI*r**2)) "
   ]
  },
  {
   "cell_type": "markdown",
   "id": "0e34ae4f",
   "metadata": {},
   "source": [
    "# 문제 3번 (2.22)\n",
    "사용자로 부터 2개의 정수 a 와 b 를 입력으로 받은 다음 a 를 b 로 나눈 몫과 나머지를 다음과 같이 출력하시오"
   ]
  },
  {
   "cell_type": "code",
   "execution_count": 607,
   "id": "6123fa5e",
   "metadata": {
    "collapsed": true
   },
   "outputs": [
    {
     "name": "stdout",
     "output_type": "stream",
     "text": [
      "정수 a를 입력하시오 : 202\n",
      "정수 b를 입력하시오 : 50\n",
      "a / b의 몫 :  4\n",
      "a / b의 나머지 :  2\n"
     ]
    }
   ],
   "source": [
    "a = int(input(\"정수 a를 입력하시오 : \"))\n",
    "b = int(input(\"정수 b를 입력하시오 : \"))\n",
    "print(\"a / b의 몫 : \", round(a/b))\n",
    "print(\"a / b의 나머지 : \",a%b)"
   ]
  },
  {
   "cell_type": "markdown",
   "id": "2441ff5f",
   "metadata": {},
   "source": [
    "# 문제 1번 \n",
    "2개의 정수 a 와 b 를 입력받아서 더한값을 출력하시오"
   ]
  },
  {
   "cell_type": "code",
   "execution_count": 735,
   "id": "18c15a55",
   "metadata": {
    "scrolled": true
   },
   "outputs": [
    {
     "name": "stdout",
     "output_type": "stream",
     "text": [
      "5\n",
      "10\n",
      "15\n"
     ]
    }
   ],
   "source": [
    "a = int(input(\"\"))\n",
    "b = int(input(\"\"))\n",
    "print(a+b)"
   ]
  },
  {
   "cell_type": "markdown",
   "id": "ccdef7ee",
   "metadata": {},
   "source": [
    "# 문제 2번\n",
    "2개의 실수 a 와 b 를 입력받아서 곱한값을 출력하시오"
   ]
  },
  {
   "cell_type": "code",
   "execution_count": 736,
   "id": "447d7522",
   "metadata": {},
   "outputs": [
    {
     "name": "stdout",
     "output_type": "stream",
     "text": [
      "5\n",
      "10\n",
      "50.0\n"
     ]
    }
   ],
   "source": [
    "a = float(input(\"\"))\n",
    "b = float(input(\"\"))\n",
    "print(a*b)"
   ]
  },
  {
   "cell_type": "markdown",
   "id": "3070d30f",
   "metadata": {},
   "source": [
    "# 문제 3번\n",
    "numbers=[10,20,30,40,50]와 같은 리스트 가있다 해결하라"
   ]
  },
  {
   "cell_type": "code",
   "execution_count": 783,
   "id": "da3a7807",
   "metadata": {
    "scrolled": false
   },
   "outputs": [
    {
     "name": "stdout",
     "output_type": "stream",
     "text": [
      "첫번째 요소 : 10\n",
      "마지막인덱스 요소 : 50\n",
      "2~4 인덱스 요소 : [30, 40, 50]\n",
      "2~4 인덱스 사이 2 간격마다 출력 [20, 40]\n"
     ]
    }
   ],
   "source": [
    "numbers=[10,20,30,40,50]\n",
    "print(\"첫번째 요소 :\",numbers[0])\n",
    "print(\"마지막인덱스 요소 :\",numbers[len(numbers)-1])\n",
    "print(\"2~4 인덱스 요소 :\",numbers[2:5])\n",
    "print(\"2~4 인덱스 사이 2 간격마다 출력\",numbers[1:5:2]) "
   ]
  },
  {
   "cell_type": "markdown",
   "id": "568b04e1",
   "metadata": {},
   "source": [
    "# 문제 4번\n",
    "리스트 marvel_heroes=['아이언맨','캡틴아메리카','토르','헐크','블랙위도우']가 있다. 해결하라 "
   ]
  },
  {
   "cell_type": "code",
   "execution_count": 771,
   "id": "6812f3be",
   "metadata": {
    "scrolled": true
   },
   "outputs": [
    {
     "name": "stdout",
     "output_type": "stream",
     "text": [
      "호크아이를 추가 :  ['아이언맨', '캡틴아메리카', '토르', '헐크', '블랙위도우', '호크아이']\n",
      "헐크가 처음 나타나는 인덱스 :  ['아이언맨', '캡틴아메리카', '토르', '헐크', '블랙위도우', '호크아이']\n",
      "블랙위도우 제거  ['아이언맨', '캡틴아메리카', '토르', '헐크', '호크아이']\n",
      "알파벳 순으로 정렬 ['아이언맨', '캡틴아메리카', '토르', '헐크', '호크아이']\n"
     ]
    }
   ],
   "source": [
    "marvel_heroes=['아이언맨','캡틴아메리카','토르','헐크','블랙위도우']\n",
    "marvel_heroes.append('호크아이')\n",
    "print(\"호크아이를 추가 : \",marvel_heroes)\n",
    "marvel_heroes.index('헐크')\n",
    "print(\"헐크가 처음 나타나는 인덱스 : \",marvel_heroes)\n",
    "marvel_heroes.remove('블랙위도우')\n",
    "print(\"블랙위도우 제거 \",marvel_heroes)\n",
    "marvel_heroes.sort()\n",
    "print(\"알파벳 순으로 정렬\" , marvel_heroes) "
   ]
  },
  {
   "cell_type": "markdown",
   "id": "ba8e1463",
   "metadata": {},
   "source": [
    "# 문제 5번\n",
    "딕셔너리 fruit={'apple':[1,2,3] ,'banana':['yellow','sweet','long']} 가있다. 해결하라"
   ]
  },
  {
   "cell_type": "code",
   "execution_count": 789,
   "id": "64077d45",
   "metadata": {},
   "outputs": [
    {
     "data": {
      "text/plain": [
       "{'orange': [4, 5, 6]}"
      ]
     },
     "execution_count": 789,
     "metadata": {},
     "output_type": "execute_result"
    }
   ],
   "source": [
    "fruit={'apple':[1,2,3] ,'banana':['yellow','sweet','long']} \n",
    "fruit['apple']\n",
    "fruit['apple'][0]\n",
    "fruit={'orange':[4,5,6]}"
   ]
  }
 ],
 "metadata": {
  "kernelspec": {
   "display_name": "Python 3 (ipykernel)",
   "language": "python",
   "name": "python3"
  },
  "language_info": {
   "codemirror_mode": {
    "name": "ipython",
    "version": 3
   },
   "file_extension": ".py",
   "mimetype": "text/x-python",
   "name": "python",
   "nbconvert_exporter": "python",
   "pygments_lexer": "ipython3",
   "version": "3.10.11"
  }
 },
 "nbformat": 4,
 "nbformat_minor": 5
}
