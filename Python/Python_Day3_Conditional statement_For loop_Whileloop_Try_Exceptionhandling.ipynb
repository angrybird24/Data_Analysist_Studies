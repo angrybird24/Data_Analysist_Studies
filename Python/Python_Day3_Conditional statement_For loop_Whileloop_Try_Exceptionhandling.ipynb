{
 "cells": [
  {
   "cell_type": "markdown",
   "id": "abc9ac7c",
   "metadata": {},
   "source": [
    "# <div style=\"font-size : 46px; color: red\">3 일차 </div>"
   ]
  },
  {
   "cell_type": "code",
   "execution_count": 71,
   "id": "fca099fe",
   "metadata": {},
   "outputs": [
    {
     "name": "stdout",
     "output_type": "stream",
     "text": [
      "b가 a 보다 크다.\n",
      "a 가 b보다 크다.\n"
     ]
    }
   ],
   "source": [
    "num_a= 100\n",
    "num_b= 200\n",
    "if(num_a == num_b):\n",
    "    print(\"a와 b 가 같다.\")\n",
    "elif(num_a > num_b):\n",
    "    print(\"a 가 b보다 크다.\")\n",
    "else:\n",
    "    print(\"b가 a 보다 크다.\")\n",
    "\n",
    "num_a,num_b = changeNums(num_a,num_b)    \n",
    "\n",
    "if(num_a == num_b):\n",
    "    print(\"a와 b 가 같다.\")\n",
    "elif(num_a > num_b):\n",
    "    print(\"a 가 b보다 크다.\")\n",
    "else:\n",
    "    print(\"b가 a 보다 크다.\")\n",
    "    \n",
    "    \n",
    "def changeNums(n1,n2):\n",
    "    n1 = 300 ; n2 = 200;\n",
    "    return n1,n2;"
   ]
  },
  {
   "cell_type": "code",
   "execution_count": 70,
   "id": "01d141d3",
   "metadata": {},
   "outputs": [
    {
     "name": "stdout",
     "output_type": "stream",
     "text": [
      "정수를 입력하세요 : 50\n",
      "n =  50\n",
      "50 은(는) 짝수입니다.\n",
      "정수를 입력하세요 : 75\n",
      "n =  75\n",
      "75 은(는) 홀수입니다.\n"
     ]
    }
   ],
   "source": [
    "for i in range(0,2): \n",
    "    number=int(input(\"정수를 입력하세요 : \"))\n",
    "    print(\"n = \",number)\n",
    "    if(number % 2 == 0):\n",
    "        print(number,\"은(는) 짝수입니다.\")\n",
    "    else:\n",
    "        print(number,\"은(는) 홀수입니다.\") \n",
    "         "
   ]
  },
  {
   "cell_type": "code",
   "execution_count": 76,
   "id": "7aeb3a1a",
   "metadata": {},
   "outputs": [
    {
     "name": "stdout",
     "output_type": "stream",
     "text": [
      "점수를 입력하세요 : 88\n",
      "당신의 등급은 : B\n"
     ]
    }
   ],
   "source": [
    "n = int(input(\"점수를 입력하세요 : \"))\n",
    "if(n >= 90):\n",
    "    print(\"당신의 등급은 : A\")\n",
    "elif(n>=80):\n",
    "    print(\"당신의 등급은 : B\")\n",
    "elif(n>=70):\n",
    "    print(\"당신의 등급은 : C\")\n",
    "elif(n>=60):\n",
    "    print(\"당신의 등급은 : D\") \n",
    "else:\n",
    "    print(\"당신의 등급은 : F\") "
   ]
  },
  {
   "cell_type": "code",
   "execution_count": 89,
   "id": "def2e382",
   "metadata": {},
   "outputs": [
    {
     "name": "stdout",
     "output_type": "stream",
     "text": [
      "1\tWelcome to everyone!!\n",
      "2\tWelcome to everyone!!\n",
      "3\tWelcome to everyone!!\n",
      "4\tWelcome to everyone!!\n",
      "5\tWelcome to everyone!!\n",
      "6\tWelcome to everyone!!\n",
      "7\tWelcome to everyone!!\n",
      "8\tWelcome to everyone!!\n",
      "9\tWelcome to everyone!!\n",
      "10\tWelcome to everyone!!\n"
     ]
    }
   ],
   "source": [
    "for i in range(1,10+1):\n",
    "    print(i,\"Welcome to everyone!!\",sep=\"\\t\")"
   ]
  },
  {
   "cell_type": "code",
   "execution_count": 99,
   "id": "194156d3",
   "metadata": {},
   "outputs": [
    {
     "name": "stdout",
     "output_type": "stream",
     "text": [
      "0 1 2 3 4 "
     ]
    }
   ],
   "source": [
    "list_01=[1,2,3,4,5]\n",
    "\n",
    "for i in range(len(list_01)):\n",
    "    print(i , end=\" \")"
   ]
  },
  {
   "cell_type": "code",
   "execution_count": 103,
   "id": "4175938b",
   "metadata": {
    "scrolled": false
   },
   "outputs": [
    {
     "name": "stdout",
     "output_type": "stream",
     "text": [
      "1*1 =  1 1*2 =  2 1*3 =  3 1*4 =  4 1*5 =  5 1*6 =  6 1*7 =  7 1*8 =  8 1*9 =  9 \n",
      "2*1 =  2 2*2 =  4 2*3 =  6 2*4 =  8 2*5 = 10 2*6 = 12 2*7 = 14 2*8 = 16 2*9 = 18 \n",
      "3*1 =  3 3*2 =  6 3*3 =  9 3*4 = 12 3*5 = 15 3*6 = 18 3*7 = 21 3*8 = 24 3*9 = 27 \n",
      "4*1 =  4 4*2 =  8 4*3 = 12 4*4 = 16 4*5 = 20 4*6 = 24 4*7 = 28 4*8 = 32 4*9 = 36 \n",
      "5*1 =  5 5*2 = 10 5*3 = 15 5*4 = 20 5*5 = 25 5*6 = 30 5*7 = 35 5*8 = 40 5*9 = 45 \n",
      "6*1 =  6 6*2 = 12 6*3 = 18 6*4 = 24 6*5 = 30 6*6 = 36 6*7 = 42 6*8 = 48 6*9 = 54 \n",
      "7*1 =  7 7*2 = 14 7*3 = 21 7*4 = 28 7*5 = 35 7*6 = 42 7*7 = 49 7*8 = 56 7*9 = 63 \n",
      "8*1 =  8 8*2 = 16 8*3 = 24 8*4 = 32 8*5 = 40 8*6 = 48 8*7 = 56 8*8 = 64 8*9 = 72 \n",
      "9*1 =  9 9*2 = 18 9*3 = 27 9*4 = 36 9*5 = 45 9*6 = 54 9*7 = 63 9*8 = 72 9*9 = 81 \n"
     ]
    }
   ],
   "source": [
    "for i in range(1,10):\n",
    "    for j in range(1,10):\n",
    "        print(\"{}*{} = {:2d}\".format(i,j,i*j),end=\" \")\n",
    "    print()"
   ]
  },
  {
   "cell_type": "code",
   "execution_count": 107,
   "id": "4631eaa9",
   "metadata": {
    "scrolled": true
   },
   "outputs": [
    {
     "name": "stdout",
     "output_type": "stream",
     "text": [
      "*         \n",
      "  *       \n",
      "    *     \n",
      "      *   \n",
      "        * \n"
     ]
    }
   ],
   "source": [
    "for i in range(0,5):\n",
    "    for j in range(0,5):\n",
    "        if(j==i):\n",
    "            print(\"*\",end=\" \")\n",
    "        else:\n",
    "            print(\" \",end=\" \")\n",
    "    print()"
   ]
  },
  {
   "cell_type": "code",
   "execution_count": 113,
   "id": "917023a5",
   "metadata": {
    "scrolled": true
   },
   "outputs": [
    {
     "name": "stdout",
     "output_type": "stream",
     "text": [
      "notYet\n",
      "notYet\n",
      "notYet\n",
      "notYet\n",
      "notYet\n",
      "notYet\n",
      "notYet\n",
      "notYet\n",
      "notYet\n",
      "true\n"
     ]
    }
   ],
   "source": [
    "a = 0;\n",
    "while(True):\n",
    "    a+=1\n",
    "    if(a==10):\n",
    "        print(\"true\")\n",
    "        break\n",
    "    else:\n",
    "        print(\"notYet\")"
   ]
  },
  {
   "cell_type": "code",
   "execution_count": 117,
   "id": "6f287661",
   "metadata": {},
   "outputs": [
    {
     "name": "stdout",
     "output_type": "stream",
     "text": [
      "숫자를 입력하시오 : 0\n",
      "notYet\n",
      "notYet\n",
      "notYet\n",
      "notYet\n",
      "notYet\n",
      "notYet\n",
      "notYet\n",
      "notYet\n",
      "notYet\n",
      "true\n"
     ]
    }
   ],
   "source": [
    "try:\n",
    "    a = int(input(\"숫자를 입력하시오 : \"));\n",
    "    while(True):\n",
    "        a+=1\n",
    "        if(a==10):\n",
    "            print(\"true\")\n",
    "            break\n",
    "        else:\n",
    "            print(\"notYet\")\n",
    "except ValueError:\n",
    "    print(\"입력값 오류 \")\n",
    "except ZeroDivisionError:\n",
    "    print(\"0으로 나누기 오류\")\n",
    "except NameError:\n",
    "    print(\"변수이름 지정안한 오류\")\n",
    "except TypeErrorError:\n",
    "    print(\"타입이 틀린 오류\")\n",
    "except FileNotFoundError:\n",
    "    print(\"파일 찾을수없는 오류\")\n",
    "except IndexError:\n",
    "    print(\"인덱스 오류\")"
   ]
  },
  {
   "cell_type": "markdown",
   "id": "9012c36c",
   "metadata": {},
   "source": [
    "<div style=\"font-size:15px\"> 문제 1번 다음의 리스트를 보고 문제에 답하시오 </div>"
   ]
  },
  {
   "cell_type": "code",
   "execution_count": 10,
   "id": "be8b792a",
   "metadata": {
    "scrolled": true
   },
   "outputs": [
    {
     "name": "stdout",
     "output_type": "stream",
     "text": [
      "banana\n",
      "['banana', 'cheery']\n",
      "['apple', 'banana', 'cheery']\n",
      "['kiwi', 'melon']\n",
      "['banana', 'orange', 'melon']\n"
     ]
    }
   ],
   "source": [
    "my_list=['apple','banana','cheery','orange','kiwi','melon']\n",
    "print(my_list[1])\n",
    "print(my_list[1:3])\n",
    "print(my_list[:3])\n",
    "print(my_list[4:])\n",
    "print(my_list[1::2])\n",
    " "
   ]
  },
  {
   "cell_type": "markdown",
   "id": "db2cee48",
   "metadata": {},
   "source": [
    "<div style=\"font-size:15px\"> 문제 2번 다음의 딕셔너리를 보고 문제에 답하시오 </div>"
   ]
  },
  {
   "cell_type": "code",
   "execution_count": 28,
   "id": "88c0729a",
   "metadata": {},
   "outputs": [
    {
     "name": "stdout",
     "output_type": "stream",
     "text": [
      "3\n",
      "{'apple': 1, 'banana': 2, 'cheery': 3, 'orange': 4, 'kiwi': 5, 'melon': 6, 'mango': 7}\n"
     ]
    }
   ],
   "source": [
    "my_dictionary={'apple':1,'banana':2,'cheery':3,'orange':4,'kiwi':5,'melon':6}\n",
    "print(my_dictionary['cheery'])\n",
    "my_dictionary['mango']=7 \n",
    "print(my_dictionary)"
   ]
  },
  {
   "cell_type": "markdown",
   "id": "13a4c501",
   "metadata": {},
   "source": [
    "<div style=\"font-size:15px\"> 문제 3번 다음의 딕셔너리를 보고 문제에 답하시오 </div>"
   ]
  },
  {
   "cell_type": "code",
   "execution_count": 38,
   "id": "cddbc66a",
   "metadata": {},
   "outputs": [
    {
     "name": "stdout",
     "output_type": "stream",
     "text": [
      "90\n",
      "[2, 1]\n"
     ]
    }
   ],
   "source": [
    "my_dict={'score':[80,90,100],'rank':[3,2,1]}\n",
    "# del my_dict['score'][2]\n",
    "# my_dict['rank'][2]=4\n",
    "# my_dict['rank'].sort()\n",
    "\n",
    "print(my_dict['score'][1])\n",
    "print(my_dict['rank'][1:])"
   ]
  },
  {
   "cell_type": "markdown",
   "id": "dc5ac4ea",
   "metadata": {},
   "source": [
    "<div style=\"font-size:15px\"> 문제 4번 다음의 예제를 보고 문제에 답하시오 </div>"
   ]
  },
  {
   "cell_type": "code",
   "execution_count": 44,
   "id": "8aad4382",
   "metadata": {},
   "outputs": [
    {
     "name": "stdout",
     "output_type": "stream",
     "text": [
      "['banana', 'cheery']\n",
      "[2, 3]\n",
      "[('banana', 2), ('cheery', 3)]\n"
     ]
    }
   ],
   "source": [
    "my_dict={'apple':1,'banana':2,'cheery':3,'orange':4,'kiwi':5}\n",
    "keys = list(my_dict.keys()) \n",
    "values = list(my_dict.values()) \n",
    "i = list(my_dict.items()) \n",
    "\n",
    "print(keys[1:3])\n",
    "print(values[1:3])\n",
    "print(i[1:3])"
   ]
  }
 ],
 "metadata": {
  "kernelspec": {
   "display_name": "Python 3 (ipykernel)",
   "language": "python",
   "name": "python3"
  },
  "language_info": {
   "codemirror_mode": {
    "name": "ipython",
    "version": 3
   },
   "file_extension": ".py",
   "mimetype": "text/x-python",
   "name": "python",
   "nbconvert_exporter": "python",
   "pygments_lexer": "ipython3",
   "version": "3.10.11"
  }
 },
 "nbformat": 4,
 "nbformat_minor": 5
}
