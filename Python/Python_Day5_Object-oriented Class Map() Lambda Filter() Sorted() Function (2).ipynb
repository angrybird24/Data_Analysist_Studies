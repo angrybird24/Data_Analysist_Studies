{
 "cells": [
  {
   "cell_type": "code",
   "execution_count": null,
   "id": "8da5c026",
   "metadata": {},
   "outputs": [],
   "source": [
    "#객체지향 (Objected-Oriented_Programming, OOP)\n",
    "\n",
    "#클래스(Class)\n",
    "#클래스 = > 인스턴스를 마구찍어내기위한 틀  ex) 와플 기계 \n",
    "\n",
    "#★★ __init__  메소드는 클래스의 생성자(Instructor) 역할   \n",
    "# 클래스의 객체가 생성될 때 자동으로 호출되며, 객체를 초기화하는 데 사용\n",
    "\n",
    "#★__str__ 메소드는 클래스 함수 그대로 출력할수있게 만들수있음 \n",
    "\n",
    "#★★ __call__메소드는 객체를 함수처럼 호출할 수 있게 만드는 데 사용  ex) robon()   \n",
    "\n",
    "#★__add__ 메소드는 객체 간의 덧셈 연산을 정의하는 데 사용\n",
    "#     def __add__(self,other):\n",
    "#         return Vector(self.x + other.x , self.y +other.y)\n",
    "\n",
    "#인스턴스 (Instance)\n",
    "# 클래스로 인해 만들어 진 것  ex) 와플\n",
    "\n",
    "#속성(attribute)(멤버변수) = 클래스에 속하는 변수    ex) (클래스안) id = \"Hi\"   \n",
    "\n",
    "#동작= 함수(method)(멤버함수) = 클래스에 속하는 메서드  ex) def resetId(self)...\n",
    "#Self >>   메소드에 필수적으로 넣어야하는 매개변수   ex) def meow(self) \n",
    "#          객체 지향 프로그래밍을 구현할 때 사용되는 특수한 예약어 \n",
    "\n",
    "# instance. 여기서 tap 하면 메서드 실행가능한 것 리스트 보여줌\n",
    "#           여기서 shift + tap 하면 type 등 현재까지 결과나옴 \n",
    "\n",
    "#★메서드 목록 작성 \n",
    "##class BankAccount:  이렇게 제한사항같은걸 미리 정리 해줌 . (다른사람들이 쓸떄 이해하기 쉽게하기위함)\n",
    "    \"\"\"\n",
    "    메서드 목록. \n",
    "    deposit(self, money) 입금\n",
    "    withdraw(self,money) 출금, 현재 잔액보다 작아야합니다. \n",
    "    \"\"\""
   ]
  },
  {
   "cell_type": "code",
   "execution_count": 14,
   "id": "5a4487f6",
   "metadata": {
    "collapsed": true
   },
   "outputs": [
    {
     "name": "stdout",
     "output_type": "stream",
     "text": [
      "아오옭 . 아오옭\n",
      "내이름은 나비 색깔은 검정색 아오옭 아오옭\n",
      "내이름은 네로 색깔은 흰색 아오옭 아오옭\n",
      "내이름은 미미 색깔은 갈색 아오옭 아오옭\n",
      "네로  흰색\n",
      "미미  갈색\n",
      "내이름은 미미 색깔은 갈색 아오옭 아오옭\n",
      "hihihihi\n"
     ]
    }
   ],
   "source": [
    "class Cat:           #클래스 함수는 일반적으로 첫 글자를 대문자로 작성하는 것이 권장되고 있음.\n",
    "    def __init__(self,name,color):\n",
    "        self.name=name #name 이라는 인스턴스 변수 생성\n",
    "        self.color= color\n",
    "        \n",
    "    def meow(self):  # 이는 일반적인 함수와의 구분을 하기 위함입니다\n",
    "        print(\"아오옭 . 아오옭\")\n",
    "\n",
    "    def meow2(self):\n",
    "        print(\"내이름은\",self.name,\"색깔은\",self.color, \"아오옭 아오옭\")\n",
    "        \n",
    "    def __str__(self):\n",
    "        return \"내이름은 \"+self.name+\" 색깔은 \"+self.color+\" 아오옭 아오옭\" # 문자열로 바로출력하고싶은경우 \n",
    "    \n",
    "    def __call__(self,iter): #이객체가 호출됬을때 얘가 해야하는일 ex) ribon()\n",
    "        print(\"hi\"*iter)\n",
    "    \n",
    "ribon = Cat(\"나비\",\"검정색\") #cat을 통해 클래스의 객체를 생성. 이때부터 ribon을 이용해서 메소드 호출가능\n",
    "\n",
    "ribon.meow() # . 앞에 있는거는 인스턴스임  >> ribon - 인스턴스\n",
    "ribon.meow2()      \n",
    "\n",
    "ribon = Cat(\"네로\",\"흰색\") \n",
    "ribon.meow2()\n",
    "ribon2 = Cat(\"미미\",\"갈색\") \n",
    "ribon2.meow2()\n",
    "\n",
    "print(ribon.name,\"\",ribon.color)\n",
    "print(ribon2.name,\"\",ribon2.color)\n",
    "\n",
    "print(ribon2)\n",
    "ribon2(4)"
   ]
  },
  {
   "cell_type": "code",
   "execution_count": 72,
   "id": "d44d2b2b",
   "metadata": {
    "collapsed": true
   },
   "outputs": [
    {
     "name": "stdout",
     "output_type": "stream",
     "text": [
      "<map object at 0x000001B178C7D4E0>\n",
      "[1, 4, 9, 16]\n",
      "[1, 4, 9, 16]\n",
      "[2, 0, 12, 4]\n",
      "[2, 0, 12, 4]\n"
     ]
    }
   ],
   "source": [
    "#★ map( ) , lambda\n",
    "\n",
    "# a = map( 메서드 자리 ,[1,2,3,4])\n",
    "\n",
    "def power(x):\n",
    "    return x**2\n",
    "\n",
    "a = map(power,[1,2,3,4])\n",
    "print(a)\n",
    "\n",
    "a = list(map(power,[1,2,3,4])) #리스트로 생성해서 봄 \n",
    "print(a)\n",
    "\n",
    "\n",
    "#함수를 임시로 만드는법 => ★★ lambda \n",
    "#한줄로 쓰는거라 복잡한거는 못만듬\n",
    "\n",
    "lambda x:x**2\n",
    "    #  x1 (입력값) : x2(어떻게 출력할건지)  >> 이거를 리턴\n",
    " \n",
    "\n",
    "a = list(map(lambda x:x**2,[1,2,3,4])) \n",
    "print(a)\n",
    "      \n",
    "def power2(x):\n",
    "    return x[0]*x[1]\n",
    "\n",
    "print(list(map(power2,[(1,2),(2,0),(3,4),(4,1)])))\n",
    "\n",
    "lambda x: x[0]*x[1]\n",
    "\n",
    "print(list(map(lambda x:x[0] * x[1] ,[(1,2),(2,0),(3,4),(4,1)])))"
   ]
  },
  {
   "cell_type": "code",
   "execution_count": 46,
   "id": "476c4f8a",
   "metadata": {},
   "outputs": [
    {
     "name": "stdout",
     "output_type": "stream",
     "text": [
      "[-10, 1, 3, 7, 9]\n",
      "[3, 1, 7, -10, 9]\n",
      "[10, 5, 2, 1, -3]\n",
      "[-3, 1, 2, 5, 10]\n",
      "[['길동', 21], ['심청', 17], ['춘향', 16]]\n",
      "[['춘향', 16], ['심청', 17], ['길동', 21]]\n",
      "[['길동', 21], ['심청', 17], ['춘향', 16]]\n",
      "[['심청', 17], ['춘향', 17], ['길동', 21]]\n"
     ]
    }
   ],
   "source": [
    "# Sort 하는법 \n",
    "\n",
    "#방법 1 \n",
    "a=[3,1,7,-10,9]\n",
    "print(sorted(a))\n",
    "\n",
    "#방법 2\n",
    "a.sort\n",
    "print(a)  \n",
    "\n",
    "#방법 3\n",
    "print(sorted([1,2,-3,10,5],reverse=True))\n",
    "print(sorted([1,2,-3,10,5],reverse=False))\n",
    "\n",
    "\n",
    "#방법 4\n",
    "print(sorted([['길동',21],['춘향',16],['심청',17]], key=lambda x:x[0]))\n",
    "print(sorted([['길동',21],['춘향',16],['심청',17]], key=lambda x:x[1]))\n",
    "print(sorted([['길동',21],['춘향',16],['심청',17]], key=lambda x:x[1],reverse=True))\n",
    "\n",
    "\n",
    "# 나이순으로 하되 나이가 같을때 이름 순으로 \n",
    "print(sorted([['길동',21],['춘향',17],['심청',17]], key=lambda x:(x[1],x[0])))\n",
    "\n",
    "\n"
   ]
  },
  {
   "cell_type": "code",
   "execution_count": 84,
   "id": "f0926894",
   "metadata": {},
   "outputs": [
    {
     "name": "stdout",
     "output_type": "stream",
     "text": [
      "<filter object at 0x000001B178C7FDF0>\n",
      "[1, 3, 5]\n",
      "<filter object at 0x000001B178BCA950>\n",
      "[1, 3, 5]\n"
     ]
    }
   ],
   "source": [
    "# filter()\n",
    "\n",
    "# filter(,[1,2,3,4,5])\n",
    "\n",
    "def odd(x):\n",
    "    if (x % 2==0):\n",
    "        return False\n",
    "    else:\n",
    "        return True\n",
    "\n",
    "\n",
    "def odd2(x):\n",
    "    return x%2!=0\n",
    "    \n",
    "    \n",
    "print(filter(odd,[1,2,3,4,5]))\n",
    "print(list(filter(odd,[1,2,3,4,5])))\n",
    "\n",
    "lambda x: x%2 !=0 \n",
    "\n",
    "print(filter(lambda x: x%2 !=0 ,[1,2,3,4,5]))\n",
    "print(list(filter(lambda x: x%2 !=0 ,[1,2,3,4,5])))"
   ]
  },
  {
   "cell_type": "code",
   "execution_count": 29,
   "id": "8d00bbbf",
   "metadata": {
    "collapsed": true
   },
   "outputs": [
    {
     "name": "stdout",
     "output_type": "stream",
     "text": [
      "0 , 3\n",
      "3 , 4\n"
     ]
    }
   ],
   "source": [
    "class Vector:\n",
    "    def __init__(self,x,y):\n",
    "        self.x = x\n",
    "        self.y = y\n",
    "    \n",
    "    def __str__(self):\n",
    "        return str(self.x) +\" , \"+str(self.y) \n",
    "    \n",
    "    def __add__(self,other):\n",
    "        return Vector(self.x + other.x , self.y +other.y)\n",
    "    \n",
    "    def __call__(self,x,y):\n",
    "        self.x = x \n",
    "        self.y = y\n",
    "        \n",
    "v1 = Vector(1,3)\n",
    "v2 = Vector(-1,0)\n",
    "\n",
    "\n",
    "print(v1+v2) #__add__\n",
    "\n",
    "v1(3,4) #call \n",
    "print(v1)\n",
    "\n"
   ]
  },
  {
   "cell_type": "code",
   "execution_count": 48,
   "id": "9abf2e4d",
   "metadata": {
    "collapsed": true
   },
   "outputs": [
    {
     "name": "stdout",
     "output_type": "stream",
     "text": [
      "홍길동 님의 통장번호는 1234-0001 이고 남은 잔액은 : 0 입니다.\n",
      "2000원이 입금되었습니다. 잔고는 2000원입니다.\n",
      "홍길동 님의 통장번호는 1234-0001 이고 남은 잔액은 : 2000 입니다.\n",
      "홍길동 님의 통장번호는 1234-0001 이고 남은 잔액은 : 1500 입니다.\n",
      "계좌 잔고는 1500원으로 인출 요구 금액 5000원보다 적습니다.\n"
     ]
    }
   ],
   "source": [
    "class BankAccount:\n",
    "    \"\"\"\n",
    "    메서드 목록. \n",
    "    deposit(self, money) 입금\n",
    "    withdraw(self,money) 출금, 현재 잔액보다 작아야합니다.\n",
    "    \n",
    "    \"\"\"\n",
    "    def __init__(self,__name,__account_num,__balance=0):\n",
    "        self.__name=__name\n",
    "        self.__account_num=__account_num\n",
    "        self.__balance= __balance\n",
    "    \n",
    "    def get_name(self):\n",
    "        return self.__name\n",
    "    \n",
    "    def get_account_num(self):\n",
    "        return self.__account_num\n",
    "    \n",
    "    def get_balance(self):\n",
    "        return self.__balance\n",
    "    \n",
    "    def deposit(self,money):\n",
    "        self.__balance+= money\n",
    "        print(str(money)+\"원이 입금되었습니다. 잔고는 \"+str(self.__balance)+\"원입니다.\")\n",
    "        \n",
    "    def withdraw(self,money):\n",
    "        if(self.__balance < money):\n",
    "            print(\"계좌 잔고는 \"+str(self.__balance) +\"원으로 인출 요구 금액 \"+str(money)+\"원보다 적습니다.\")\n",
    "        self.__balance-=money \n",
    "        \n",
    "    def __str__(self):\n",
    "        return str(self.__name) + \" 님의 통장번호는 \"+ str(self.__account_num) +\" 이고 남은 잔액은 : \"+ str(self.__balance)+\" 입니다.\"\n",
    "        \n",
    "account1 = BankAccount(\"홍길동\",\"1234-0001\")\n",
    "print(account1)\n",
    "account1.deposit(2000)\n",
    "print(account1) \n",
    "account1.withdraw(500)\n",
    "print(account1) \n",
    "account1.withdraw(5000)\n",
    "\n",
    "account1"
   ]
  },
  {
   "cell_type": "code",
   "execution_count": 1,
   "id": "649bbe5d",
   "metadata": {
    "collapsed": true
   },
   "outputs": [
    {
     "name": "stdout",
     "output_type": "stream",
     "text": [
      "5\n",
      "4\n",
      "8\n",
      "2.0\n"
     ]
    }
   ],
   "source": [
    "# 문제 1  \n",
    "class Calculator:\n",
    "    def __init__(self,num =0):\n",
    "        self.num = num\n",
    "        \n",
    "    def add(self, num):\n",
    "        self.num += num\n",
    "        \n",
    "    def subtract(self, num):\n",
    "        self.num -= num\n",
    "    \n",
    "    def multiple(self, num):\n",
    "        self.num *= num\n",
    "    \n",
    "    def devide(self, num):\n",
    "        self.num /= num\n",
    "    \n",
    "    def __str__(self):\n",
    "        return str(self.num)\n",
    "\n",
    "num1 = Calculator()\n",
    "num1.add(5)\n",
    "print(num1)\n",
    "num1.subtract(1)\n",
    "print(num1)\n",
    "num1.multiple(2)\n",
    "print(num1)\n",
    "num1.devide(4)\n",
    "print(num1)"
   ]
  },
  {
   "cell_type": "code",
   "execution_count": 11,
   "id": "bc87ddb6",
   "metadata": {
    "collapsed": true
   },
   "outputs": [
    {
     "name": "stdout",
     "output_type": "stream",
     "text": [
      "5\n",
      "78.5398\n"
     ]
    }
   ],
   "source": [
    "#문제2\n",
    "import math as m\n",
    "class Circle:\n",
    "    def __init__(self,radius):\n",
    "        self.radius = radius\n",
    "        \n",
    "    def get_area(self):\n",
    "        return round(m.pi * self.radius**2,4)\n",
    "\n",
    "r=  Circle(5)\n",
    "\n",
    "print(r.radius)\n",
    "print(r.get_area())\n"
   ]
  },
  {
   "cell_type": "code",
   "execution_count": 73,
   "id": "72c50430",
   "metadata": {},
   "outputs": [
    {
     "name": "stdout",
     "output_type": "stream",
     "text": [
      "[24, 144]\n",
      "[24, 144]\n"
     ]
    }
   ],
   "source": [
    "#문제 10.6\n",
    "#filter, lambda 2번 만 \n",
    "\n",
    "n_list=[44,66,34,24,144,98,38,568,234,345]\n",
    "new_list=[24,144] \n",
    "\n",
    "\n",
    "\n",
    "# 1번째 filter와 lambda 함수 사용\n",
    "\n",
    "result1 = list(filter(lambda x: x % 12 == 0, n_list))\n",
    "\n",
    "print(result1)\n",
    "\n",
    "# 2번째 filter와 lambda 함수 사용 new_list 안에 있는거만 필터링해줌 \n",
    "result2 = list(filter(lambda x: x in new_list, result1))\n",
    "\n",
    "print(result2) "
   ]
  },
  {
   "cell_type": "code",
   "execution_count": 84,
   "id": "d3d54671",
   "metadata": {},
   "outputs": [
    {
     "name": "stdout",
     "output_type": "stream",
     "text": [
      "['SUNDAY', 'MONDAY', 'TUESDAY', 'WEDNESDAY', 'THURSDAY', 'FRIDAY', 'SATURDAY']\n",
      "['SUN', 'MON', 'TUE', 'WED', 'THU', 'FRI', 'SAT']\n"
     ]
    }
   ],
   "source": [
    "#문제 10.12\n",
    "#map , lambda 2번만 \n",
    "#글자수 앞에 3 개만 대문자로 출력하기 \n",
    "list1=['sunday','monday','tuesday','wednesday','thursday','friday','saturday']\n",
    " \n",
    "a = list(map(lambda x : x.upper() ,list1))\n",
    "print(a)\n",
    "\n",
    "a = list(map(lambda x : x.upper()[:3] ,list1))\n",
    "print(a)\n"
   ]
  },
  {
   "cell_type": "code",
   "execution_count": 91,
   "id": "5067e506",
   "metadata": {},
   "outputs": [
    {
     "data": {
      "text/plain": [
       "[2004, 2008, 2012, 2016, 2020, 2024, 2028]"
      ]
     },
     "execution_count": 91,
     "metadata": {},
     "output_type": "execute_result"
    }
   ],
   "source": [
    "#문제 10.13\n",
    "#윤년 람다식, 필터로 \n",
    "\n",
    "list(filter(lambda x: (x % 4==0 and x % 100!=0) or (x % 400 ==0),range(2001,2031)\n",
    "\n"
   ]
  },
  {
   "cell_type": "code",
   "execution_count": 110,
   "id": "acde6e77",
   "metadata": {},
   "outputs": [
    {
     "name": "stdout",
     "output_type": "stream",
     "text": [
      "[2, 4, 6, 8, 3, 3, 23]\n",
      "[3, 3, 23, 2, 4, 6, 8]\n"
     ]
    }
   ],
   "source": [
    "#sorted 문제\n",
    "# mylist=[3,6,3,2,4,8,23] 을 홀수->짝수 순으로 정렬하고, 같은 홀수끼리 , 짝수끼리는 오름차수로 정렬하시오\n",
    "# 예상 결과 : [3,3,23,2,4,6,8]\n",
    "\n",
    "mylist=[3,6,3,2,4,8,23]\n",
    "\n",
    "\n",
    "print(sorted(mylist,key=lambda x:(x%2,x)))\n",
    "# 람다식에보면 True 보다는 False 가 더 크기때문에 x %2  이게 True 이면 먼저 나오게, 그리고 뒤에 x 를 나오게하는데 sorted 하게 \n",
    "\n",
    "print(sorted(mylist,key=lambda x:(x%2==0,x))) #예상결과 처럼나오게 하려면 이렇게 \n"
   ]
  },
  {
   "cell_type": "code",
   "execution_count": 7,
   "id": "dbc68316",
   "metadata": {},
   "outputs": [],
   "source": [
    "#객체지향\n",
    "class SoccerGame:\n",
    "    def __init__(self, id, level): \n",
    "        self.id = id\n",
    "        self.level = level\n",
    "    \n",
    "    def resetId(self,id):\n",
    "        self.id = id\n",
    "    \n",
    "    def getId(self):\n",
    "        return self.id"
   ]
  },
  {
   "cell_type": "code",
   "execution_count": 11,
   "id": "75078b02",
   "metadata": {
    "collapsed": true
   },
   "outputs": [
    {
     "name": "stdout",
     "output_type": "stream",
     "text": [
      "Bird25\n",
      "Bird24\n"
     ]
    }
   ],
   "source": [
    "player1  = SoccerGame(\"Bird24\",55)\n",
    "a = player1.getId()\n",
    "player1.resetId(\"Bird25\")\n",
    "print(player1.id)\n",
    "print(a)"
   ]
  },
  {
   "cell_type": "code",
   "execution_count": 44,
   "id": "bbcf3e79",
   "metadata": {},
   "outputs": [
    {
     "name": "stdout",
     "output_type": "stream",
     "text": [
      "odd :  [1, 3, 5, 7, 9]\n",
      "even :  [2, 4, 6, 8, 10]\n"
     ]
    }
   ],
   "source": [
    "#짝수찾기 함수\n",
    "def findEven(n):            \n",
    "    for i in my_list:\n",
    "        if(i%2!=0): \n",
    "            odd.append(i)\n",
    "            \n",
    "#홀수찾기 함수\n",
    "def findOdd(n):\n",
    "    for i in my_list:\n",
    "        if(i%2==0):\n",
    "            even.append(i)\n",
    "            \n",
    "my_list=[1,2,3,4,5,6,7,8,9,10];  odd =[];  even =[];             \n",
    "findOdd(my_list);  findEven(my_list)\n",
    "print(\"odd : \", odd);  print(\"even : \", even) \n"
   ]
  },
  {
   "cell_type": "code",
   "execution_count": 89,
   "id": "2050b49d",
   "metadata": {},
   "outputs": [
    {
     "name": "stdout",
     "output_type": "stream",
     "text": [
      "{0, 1, 2, 5, 6, 7}\n",
      "[0, 1, 2, 5, 6, 7]\n"
     ]
    }
   ],
   "source": [
    "# 두 개의 배열에서 다른 숫자 찾기 \n",
    "\n",
    "#방법1\n",
    "def findNum(a,b):\n",
    "    a = set(a) ^ set(b) \n",
    "    return a\n",
    "\n",
    "#방법2\n",
    "def findNum2(a,b):  \n",
    "    r=a\n",
    "    for i in b:\n",
    "        if(i not in a):\n",
    "            r.append(i)\n",
    "        elif(i in b):\n",
    "            r.remove(i)\n",
    "    return r\n",
    "    \n",
    "    \n",
    "list_01=[0,1,2,3,4] ; list_02=[3,4,5,6,7] \n",
    "print(findNum(list_01,list_02)) \n",
    "print(findNum2(list_01,list_02)) \n"
   ]
  },
  {
   "cell_type": "code",
   "execution_count": null,
   "id": "ab540b16",
   "metadata": {},
   "outputs": [],
   "source": []
  }
 ],
 "metadata": {
  "kernelspec": {
   "display_name": "Python 3 (ipykernel)",
   "language": "python",
   "name": "python3"
  },
  "language_info": {
   "codemirror_mode": {
    "name": "ipython",
    "version": 3
   },
   "file_extension": ".py",
   "mimetype": "text/x-python",
   "name": "python",
   "nbconvert_exporter": "python",
   "pygments_lexer": "ipython3",
   "version": "3.10.11"
  }
 },
 "nbformat": 4,
 "nbformat_minor": 5
}
