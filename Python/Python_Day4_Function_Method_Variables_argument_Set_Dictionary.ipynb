{
 "cells": [
  {
   "cell_type": "code",
   "execution_count": 151,
   "id": "4527d01a",
   "metadata": {
    "scrolled": true
   },
   "outputs": [
    {
     "name": "stdout",
     "output_type": "stream",
     "text": [
      "********************\n"
     ]
    }
   ],
   "source": [
    "#함수 는 메서드와 달리 직접 호출함 , 객체를 받지 않음 \n",
    "def print_stars():\n",
    "            print(\"********************\")\n",
    "print_stars()\n",
    "\n",
    "# 용어\n",
    "def sum(a,b):       # a,b   =>> 매개변수(parameter)\n",
    "    return a+b     # 리턴값=>> 반환값\n",
    "result= sum(10,20)  # 10,20 =>> 인수 또는 인자  \n",
    "\n",
    "# 4가지로 만들어질수있음 \n",
    "# 매개변수 O , 반환값 O\n",
    "# 매개변수 O , 반환값 X\n",
    "# 매개변수 X , 반환값 O\n",
    "# 매개변수 X , 반환값 X"
   ]
  },
  {
   "cell_type": "code",
   "execution_count": 157,
   "id": "c16cb152",
   "metadata": {
    "collapsed": true
   },
   "outputs": [
    {
     "name": "stdout",
     "output_type": "stream",
     "text": [
      "********************\n",
      "++++++++++++++++++++\n",
      "++++++++++++++++++++\n",
      "--------------------\n"
     ]
    }
   ],
   "source": [
    "#메서드는 함수와 달리 첫번째 매개변수를 'self' 로 받으며 해당클래스의 객체에서 호출 \n",
    "#객체의 상태를 변경해야할경우 메서드 사용, 단순한 사용일경우 함수를 사용하는게 좋음 \n",
    "class ClassStar:\n",
    "    def printStar(self, n):\n",
    "        for i in range(n):\n",
    "            print(\"********************\")\n",
    "    def printPlus(self, n):\n",
    "        for i in range(n):\n",
    "            print(\"++++++++++++++++++++\")\n",
    "            \n",
    "    def printMinus(self, n):\n",
    "        for i in range(n):\n",
    "            print(\"--------------------\") \n",
    "            \n",
    "a = ClassStar()\n",
    "a.printStar(1)\n",
    "a.printPlus(2)\n",
    "a.printMinus(1) "
   ]
  },
  {
   "cell_type": "code",
   "execution_count": 171,
   "id": "1ff602ed",
   "metadata": {
    "collapsed": true
   },
   "outputs": [
    {
     "name": "stdout",
     "output_type": "stream",
     "text": [
      "밑변 10, 높이 20 인 삼각형의 면적은 100\n"
     ]
    }
   ],
   "source": [
    "def print_area(width, height):\n",
    "    return width*height/2\n",
    "result=print_area(10,20)\n",
    "print(\"밑변 10, 높이 20 인 삼각형의 면적은\",round(result))"
   ]
  },
  {
   "cell_type": "code",
   "execution_count": 211,
   "id": "6c171989",
   "metadata": {
    "collapsed": true
   },
   "outputs": [
    {
     "name": "stdout",
     "output_type": "stream",
     "text": [
      "반지름이 10인 원의 면적은  314.2 ,원의 둘레는  62.8\n"
     ]
    }
   ],
   "source": [
    "import math as m\n",
    "def print_mult(a,b):      # 지역변수 (Local variable)\n",
    "    print(a,\"과\",b,\"의 곱은\",a*b,\"입니다.\")\n",
    "print_mult(10,20)         # 전역변수 (Global variable)\n",
    "\n",
    "def circle_area_circle(radius):\n",
    "    return round(m.pi*radius**2,1),round(m.pi * 2 * radius,1) \n",
    "\n",
    "radius=10\n",
    "area,circle=circle_area_circle(radius)\n",
    "print(\"반지름이 10인 원의 면적은 \",area,\",원의 둘레는 \",circle)"
   ]
  },
  {
   "cell_type": "code",
   "execution_count": 13,
   "id": "9ecb8922",
   "metadata": {
    "scrolled": false
   },
   "outputs": [
    {
     "name": "stdout",
     "output_type": "stream",
     "text": [
      "함수내부 :  1649632742736 1649632745936\n",
      "함수외부 :  1649632742736 1649632745936\n"
     ]
    }
   ],
   "source": [
    "#256을 넘어가면 다른 메모리 주소값을 할당함 \n",
    "#파이썬에서는 -5부터 256까지의 정수 리터럴은 이미 인터프리터에서 메모리 상에 캐싱되어 있으며,\n",
    "#이들에 대해서는 항상 같은 메모리 주소가 할당됩니다.\n",
    "\n",
    "#이것은 파이썬이 자주 사용되는 정수 값들을 빠르게 처리하기 위한 최적화 방식입니다.\n",
    "#따라서, a 변수에 256을 할당하면 b 변수에 256을 할당할 때와 같은 메모리 주소가 할당됩니다. \n",
    "#하지만, b 변수에 257을 할당하면 이 값은 -5부터 256까지의 값들과 달리 캐싱되어 있지 않으므로 \n",
    "#새로운 메모리 공간에 할당됩니다. 이로 인해 a와 b의 메모리 주소가 함수 내부와 외부에서 다르게 출력되는 것입니다.\n",
    "\n",
    "def print_sum():\n",
    "    a=100\n",
    "    b=200\n",
    "    print(\"함수내부 : \",id(a),id(b))\n",
    "    \n",
    "a=100\n",
    "b=200\n",
    "\n",
    "print_sum()\n",
    "\n",
    "print(\"함수외부 : \",id(a),id(b))"
   ]
  },
  {
   "cell_type": "code",
   "execution_count": 10,
   "id": "594a6ea6",
   "metadata": {
    "scrolled": true
   },
   "outputs": [
    {
     "name": "stdout",
     "output_type": "stream",
     "text": [
      "함수내부 :  1649632747728 1649715971440\n",
      "함수외부 :  1649632747728 1649715985136\n"
     ]
    }
   ],
   "source": [
    "def print_sum2():\n",
    "    a=256\n",
    "    b=257\n",
    "    print(\"함수내부 : \",id(a),id(b))\n",
    "    \n",
    "a=256\n",
    "b=257\n",
    "\n",
    "print_sum2()\n",
    "print(\"함수외부 : \",id(a),id(b))\n"
   ]
  },
  {
   "cell_type": "code",
   "execution_count": 12,
   "id": "c6d3182c",
   "metadata": {
    "scrolled": true
   },
   "outputs": [
    {
     "name": "stdout",
     "output_type": "stream",
     "text": [
      "함수내부 :  1649632742736 1649632745936\n",
      "함수외부 :  1649632742736 1649632745936\n"
     ]
    }
   ],
   "source": [
    "#지역변수 global \n",
    "\n",
    "def print_sum3():\n",
    "    global a,b # 전역변수를 지역번수로 해줌 ( 메모리 주소 같음 )\n",
    "    a=100\n",
    "    b=200\n",
    "    print(\"함수내부 : \",id(a),id(b))\n",
    "    \n",
    "a=10\n",
    "b=20\n",
    "\n",
    "print_sum3()\n",
    "print(\"함수외부 : \",id(a),id(b))"
   ]
  },
  {
   "cell_type": "code",
   "execution_count": 15,
   "id": "8d8820e1",
   "metadata": {
    "scrolled": true
   },
   "outputs": [
    {
     "name": "stdout",
     "output_type": "stream",
     "text": [
      "함수내부 :  1649719139920 1649632745936\n",
      "함수외부 :  1649632739856 1649632745936\n"
     ]
    }
   ],
   "source": [
    "#전역상수 \n",
    "GLOBAL_VALUE=1024 #그러나 다른 C 언어나 Java 와는다르게 파이썬 전역상수는 변경가능함 \n",
    "\n",
    "def print_sum4():  \n",
    "    global GLOBAL_VALUE\n",
    "    a=GLOBAL_VALUE\n",
    "    b=200\n",
    "    print(\"함수내부 : \",id(a),id(b))\n",
    "    \n",
    "a=10\n",
    "b=200\n",
    "\n",
    "print_sum4()\n",
    "print(\"함수외부 : \",id(a),id(b))"
   ]
  },
  {
   "cell_type": "code",
   "execution_count": 19,
   "id": "d81b47f1",
   "metadata": {},
   "outputs": [
    {
     "name": "stdout",
     "output_type": "stream",
     "text": [
      "div(4) =  2.0\n",
      "div(6,3) =  2.0\n"
     ]
    }
   ],
   "source": [
    "#default 값\n",
    "#ex) def greet(name, greeting=\"Hello\"):\n",
    "\n",
    "#키워드 인자값  키워드 인자(keyword argument)는 함수 호출 시 인자의 이름과 값을 함께 전달하는 방식입니다.\n",
    "#ex) def greet(name=\"Alice\", greeting=\"Hi\")\n",
    "\n",
    "def print_star(n=1): # 매개변수 n 은 Default 값 1을 가짐  \n",
    "    for _ in range(n):\n",
    "        print(\"*****\")\n",
    "\n",
    "# def div(b=2,a): 이렇게하면 오류가 남\n",
    "\n",
    "def div(a,b=2): # default 인자는 뒤로 보내야함! \n",
    "    return a/b\n",
    "print('div(4) = ' , div(4))\n",
    "print(\"div(6,3) = \", div(6,3))"
   ]
  },
  {
   "cell_type": "code",
   "execution_count": null,
   "id": "e8f98fd5",
   "metadata": {},
   "outputs": [],
   "source": [
    "# 이렇게 명확하게 지정해줬을때 인자 순서는 상관없다\n",
    "# 즉, 인자순서 외울 필요 없음 \n",
    "result1,result2,result3 = (a=1 , b=-3 , c=4)\n",
    "result1,result2,result3 = (a=1 , c=4 , b=-3 )\n",
    "result1,result2,result3 = (b=-3 , c=4 , a=1)"
   ]
  },
  {
   "cell_type": "code",
   "execution_count": 32,
   "id": "01d1aaa1",
   "metadata": {},
   "outputs": [],
   "source": [
    "def func(a,b,c):\n",
    "    print(a,b,c)\n",
    "# func(1,2,3)     #OK\n",
    "# func(1,c=2,b=3) #OK \n",
    "# func(1,b=2,3)   #!!에러뜸!! b 위치에 인자가 있기에 끝에 보내주지 않았기에 \n",
    "# func(1,3,b=2)   #!!에러뜸!! b 에다가 3을 할당하면서 c 위치에 b 를 또 2로 할당하기때문"
   ]
  },
  {
   "cell_type": "code",
   "execution_count": 67,
   "id": "91d253d0",
   "metadata": {
    "scrolled": false
   },
   "outputs": [
    {
     "name": "stdout",
     "output_type": "stream",
     "text": [
      "합계 : 60 \t평균 : 20.0\n",
      "합계 : 150 \t평균 : 30.0\n"
     ]
    }
   ],
   "source": [
    "# 가변인자 *args 한꺼번에 튜플형식으로 함수 매개변수에 넣어줌 \n",
    "def foo(*args):\n",
    "    print(\"인자의 개수 :\",len(args))\n",
    "# foo(1,2,3) \n",
    "\n",
    "def sum_nums(*args):\n",
    "    print(\"합계 :\", sum(args),\"\\t평균 :\" ,sum(args)/len(args))\n",
    "# sum_nums(10,20,30)\n",
    "# sum_nums(10,20,30,40,50)\n",
    "    \n",
    "def sum_nums2(*args):\n",
    "    result =0\n",
    "    for n in args:\n",
    "        result +=n\n",
    "    return result, result/len(args)\n",
    "\n",
    "_sum, _avg = sum_nums2(10,20,30)\n",
    "print(\"합계 :\",_sum  ,\"\\t평균 :\" , _avg)\n",
    "_sum, _avg = sum_nums2(10,20,30,40,50)\n",
    "print(\"합계 :\",_sum  ,\"\\t평균 :\" , _avg)"
   ]
  },
  {
   "cell_type": "code",
   "execution_count": 17,
   "id": "7e8863a5",
   "metadata": {},
   "outputs": [
    {
     "name": "stdout",
     "output_type": "stream",
     "text": [
      "세 수를 입력하시오: 1 2 3\n",
      "1 2 3\n",
      "6  ,  3\n"
     ]
    }
   ],
   "source": [
    "# ★★★★★ 심화꿀팁 \n",
    "#input 여러개 받는법\n",
    "\n",
    "#방법1\n",
    "num1, num2, num3 = map(int, input(\"세 수를 입력하시오: \").split()) \n",
    "\n",
    "\n",
    "#방법2 숫자가 엄청많을때 \n",
    "numlist =[]\n",
    "for nums in input().split()[:3]:\n",
    "    numlist.append(int(nums))\n",
    "    \n",
    "result=0\n",
    "cnt=0\n",
    "for num in numlist:\n",
    "    result += num\n",
    "    cnt +=1\n",
    "    \n",
    "print(result,\" , \",cnt)"
   ]
  },
  {
   "cell_type": "code",
   "execution_count": 69,
   "id": "3022947e",
   "metadata": {},
   "outputs": [
    {
     "name": "stdout",
     "output_type": "stream",
     "text": [
      "입력값 1 : 100\n",
      "입력값 2 : 200\n",
      "높은숫자 :  200\n",
      "낮은숫자 :  100\n"
     ]
    }
   ],
   "source": [
    "#4.3\n",
    "def max2(m,n):\n",
    "    if(m>n):\n",
    "        return m\n",
    "    else:\n",
    "        return n\n",
    "\n",
    "def min2(m,n):\n",
    "    if(m<n):\n",
    "        return m\n",
    "    else:\n",
    "        return n\n",
    "    \n",
    "num1= int(input(\"입력값 1 : \"))\n",
    "num2= int(input(\"입력값 2 : \"))\n",
    "\n",
    "print(\"높은숫자 : \",max2(num1,num2))\n",
    "print(\"낮은숫자 : \",min2(num1,num2))"
   ]
  },
  {
   "cell_type": "code",
   "execution_count": 80,
   "id": "985238ac",
   "metadata": {},
   "outputs": [
    {
     "name": "stdout",
     "output_type": "stream",
     "text": [
      "세 수를 입력하시오: 10 30 20\n",
      "20.0\n",
      "30\n",
      "20\n"
     ]
    }
   ],
   "source": [
    "#4.7\n",
    "def mean3(a,b,c):\n",
    "    return (a+b+c)/3\n",
    "    \n",
    "def max3(a,b,c):\n",
    "    checkList = [a,b,c]\n",
    "    checkList.sort()\n",
    "    return checkList[2]\n",
    "    \n",
    "def min3(a,b,c):\n",
    "    checkList = [a,b,c]\n",
    "    checkList.sort()\n",
    "    return checkList[0]\n",
    "num1, num2, num3 = map(int, input(\"세 수를 입력하시오: \").split()) \n",
    "print(mean3(num1,num2,num3))\n",
    "print(max3(num2,num2,num3))\n",
    "print(min3(num2,num2,num3))"
   ]
  },
  {
   "cell_type": "code",
   "execution_count": 13,
   "id": "019285fa",
   "metadata": {
    "collapsed": true
   },
   "outputs": [
    {
     "name": "stdout",
     "output_type": "stream",
     "text": [
      "반지름을 입력하시오 : 6\n",
      "넓이 :  113.097 ,  둘레 :  37.699\n",
      "반지름을 입력하시오 : 22\n",
      "넓이 :  1520.531 ,  둘레 :  138.23\n",
      "반지름을 입력하시오 : 4\n",
      "넓이 :  50.265 ,  둘레 :  25.133\n",
      "반지름을 입력하시오 : -1\n",
      "프로그램을 종료합니다.\n"
     ]
    }
   ],
   "source": [
    "#4.23\n",
    "import math as m\n",
    "def area_and_circumference(r):\n",
    "    return round(m.pi*r**2,3),round(m.pi * 2 * r,3)   \n",
    "while(True):\n",
    "    num=int(input(\"반지름을 입력하시오 : \"))\n",
    "    if(num<0):\n",
    "        print(\"프로그램을 종료합니다.\")\n",
    "        break\n",
    "    else:\n",
    "        area,circle=area_and_circumference(num)\n",
    "        print(\"넓이 : \",area,\",  둘레 : \",circle)\n"
   ]
  },
  {
   "cell_type": "code",
   "execution_count": 1,
   "id": "d7aac7ee",
   "metadata": {},
   "outputs": [
    {
     "name": "stdout",
     "output_type": "stream",
     "text": [
      "2개 숫자 입력하시오 : 2 3\n",
      "5\n",
      "-1\n",
      "6\n",
      "0.6666666666666666\n",
      "2~9를 입력하세요 (종료= 1) :2\n",
      "2  x  1 = 2\n",
      "2  x  2 = 4\n",
      "2  x  3 = 6\n",
      "2  x  4 = 8\n",
      "2  x  5 = 10\n",
      "2  x  6 = 12\n",
      "2  x  7 = 14\n",
      "2  x  8 = 16\n",
      "2  x  9 = 18\n",
      "2~9를 입력하세요 (종료= 1) :3\n",
      "3  x  1 = 3\n",
      "3  x  2 = 6\n",
      "3  x  3 = 9\n",
      "3  x  4 = 12\n",
      "3  x  5 = 15\n",
      "3  x  6 = 18\n",
      "3  x  7 = 21\n",
      "3  x  8 = 24\n",
      "3  x  9 = 27\n",
      "2~9를 입력하세요 (종료= 1) :1\n"
     ]
    }
   ],
   "source": [
    "#Test1\n",
    "def funcPlus(a,b):\n",
    "    return a+b\n",
    "def funcMinus(a,b):\n",
    "    return a-b\n",
    "def funcMulti(a,b):\n",
    "    return a*b\n",
    "def funcDevi(a,b):\n",
    "    return a/b\n",
    "\n",
    "n1,n2 = map(int,input(\"2개 숫자 입력하시오 : \").split())\n",
    "print(funcPlus(n1,n2))\n",
    "print(funcMinus(n1,n2))\n",
    "print(funcMulti(n1,n2))\n",
    "print(funcDevi(n1,n2))\n",
    "\n",
    "\n",
    "#Test2\n",
    "def multiplication(n):\n",
    "    for i in range (1,10):\n",
    "        print(n,\" x \", i ,\"=\", n*i)\n",
    "\n",
    "num=1\n",
    "while(True):\n",
    "    num=int(input(\"2~9를 입력하세요 (종료= 1) :\"))\n",
    "    if(num == 1 ):\n",
    "        break\n",
    "    elif(num <= 0):\n",
    "        print(\"잘못입력하셨습니다.\")\n",
    "    else:    \n",
    "        multiplication(num)"
   ]
  },
  {
   "cell_type": "code",
   "execution_count": 195,
   "id": "b570f4eb",
   "metadata": {
    "collapsed": true
   },
   "outputs": [
    {
     "name": "stdout",
     "output_type": "stream",
     "text": [
      "두 개의 해가 있습니다. x1 = 3.0 x2 = -7.0\n"
     ]
    }
   ],
   "source": [
    "import math \n",
    "def quadraticEquation(a, b, c):\n",
    "    discriminant = b**2 - 4*a*c\n",
    "    if discriminant < 0:\n",
    "        print(\"해가 無\")\n",
    "    elif discriminant == 0:\n",
    "        x = -b / (2*a)\n",
    "        print(\"중근 x =\", x)\n",
    "    else:\n",
    "        x1 = (-b + math.sqrt(discriminant)) / (2*a)\n",
    "        x2 = (-b - math.sqrt(discriminant)) / (2*a)\n",
    "        print(\"두 개의 해 有  x1 =\", x1, \"x2 =\", x2)\n",
    "        \n",
    "quadraticEquation(1,4,-21)"
   ]
  },
  {
   "cell_type": "code",
   "execution_count": 193,
   "id": "1ca95fef",
   "metadata": {
    "collapsed": true
   },
   "outputs": [
    {
     "name": "stdout",
     "output_type": "stream",
     "text": [
      "두 개의 해가 있습니다. x1 = 3.0 x2 = -7.0\n"
     ]
    }
   ],
   "source": [
    "import math\n",
    "\n",
    "def quadraticEquation(a, b, c):\n",
    "    discriminant = b**2 - 4*a*c\n",
    "    if discriminant < 0:\n",
    "        print(\"해가 없습니다.\")\n",
    "    elif discriminant == 0:\n",
    "        x = -b / (2*a)\n",
    "        print(\"중근입니다. x =\", x)\n",
    "    else:\n",
    "        x1 = (-b + math.sqrt(discriminant)) / (2*a)\n",
    "        x2 = (-b - math.sqrt(discriminant)) / (2*a)\n",
    "        print(\"두 개의 해가 있습니다. x1 =\", x1, \"x2 =\", x2)\n",
    "\n",
    "# 이차방정식의 계수를 지정합니다.\n",
    "a = 1\n",
    "b = 4\n",
    "c = -21\n",
    "\n",
    "# 함수를 호출하여 해를 출력합니다.\n",
    "quadraticEquation(a, b, c)"
   ]
  },
  {
   "cell_type": "code",
   "execution_count": 41,
   "id": "1c7d45a3",
   "metadata": {
    "collapsed": true
   },
   "outputs": [
    {
     "name": "stdout",
     "output_type": "stream",
     "text": [
      "[3, 4, 5]\n",
      "[3, 4, 5]\n",
      "['d', 'c', 'e']\n"
     ]
    }
   ],
   "source": [
    "#공통된 것을 리스트에서 찾는것  - for , if 문사용\n",
    "list1=[1,2,3,4,5]\n",
    "list2=[3,4,5,6,7] \n",
    "result=[]\n",
    "for n1 in list1:\n",
    "    for n2 in list2:\n",
    "        if n1 == n2:\n",
    "            result.append(n1)\n",
    "print(result)\n",
    "\n",
    "#공통된 것을 리스트에서 찾는것  - set , & 함수 사용 \n",
    "a = ['a', 'b', 'c', 'd', 'e']\n",
    "b = ['c', 'd', 'e', 'f', 'g']\n",
    "c = list(set(a) & set(b))\n",
    "print(c)\n",
    "\n",
    "\n",
    "list_01=[0,1,2,3,4]\n",
    "list_02=[3,4,5,6,7]\n",
    "result=[] \n",
    "\n",
    "# 두 개의 배열에서 다른 숫자 찾기\n",
    "result = set(list_01) ^ set(list_02)\n",
    "result=set(result)\n",
    "      \n",
    "print(result)\n",
    "        "
   ]
  },
  {
   "cell_type": "code",
   "execution_count": 45,
   "id": "0fa79cb1",
   "metadata": {
    "collapsed": true
   },
   "outputs": [
    {
     "data": {
      "text/plain": [
       "2"
      ]
     },
     "execution_count": 45,
     "metadata": {},
     "output_type": "execute_result"
    }
   ],
   "source": [
    "#문자열안에 특정문자열 개수파악 \n",
    "text=\"Hello, Python!\"\n",
    "text.count('o')"
   ]
  },
  {
   "cell_type": "code",
   "execution_count": 120,
   "id": "cf142042",
   "metadata": {
    "collapsed": true
   },
   "outputs": [
    {
     "name": "stdout",
     "output_type": "stream",
     "text": [
      "Eve\n"
     ]
    }
   ],
   "source": [
    "employees=[(\"Alice\",27,\"F\"),(\"Bob\",33,\"M\"),(\"Charlie\",40,\"M\"),(\"Eve\",35,\"F\")]\n",
    "for i in employees: \n",
    "    if( i[1] >= 30 and i[2]==\"F\"):\n",
    "          print(i[0])"
   ]
  },
  {
   "cell_type": "code",
   "execution_count": 131,
   "id": "56b2ef98",
   "metadata": {
    "collapsed": true
   },
   "outputs": [
    {
     "name": "stdout",
     "output_type": "stream",
     "text": [
      "Alice : 92 ,(A)\n",
      "Bob : 85 ,(B)\n",
      "Charlie : 78 ,(C)\n",
      ": 92 ,(A)\n",
      ": 85 ,(B)\n",
      ": 78 ,(C)\n"
     ]
    }
   ],
   "source": [
    "#딕셔너리에서 키, 값 빼내기\n",
    "\n",
    "students={\"Alice\":92 , \"Bob\":85 , \"Charlie\":78 }\n",
    "\n",
    "#방법 1 \n",
    "for student in students.items(): \n",
    "    if (student[1] >= 90 ):\n",
    "        print(student[0] ,\":\",student[1],\",(A)\")\n",
    "    elif (student[1] >= 80 ):\n",
    "        print(student[0] ,\":\",student[1],\",(B)\")\n",
    "    elif (student[1] >= 70 ):\n",
    "        print(student[0] ,\":\",student[1],\",(C)\")\n",
    "    else:\n",
    "        print(student[0] ,\":\",student[1],\",(F)\")\n",
    "        \n",
    "#방법 2  \n",
    "for name,score in students.items(): \n",
    "    if (score >= 90 ):\n",
    "        print(name ,\":\",score,\",(A)\")\n",
    "    elif (score >= 80 ):\n",
    "        print(name,\":\",score,\",(B)\")\n",
    "    elif (score >= 70 ):\n",
    "        print(name ,\":\",score,\",(C)\")\n",
    "    else:\n",
    "        print(name,\":\",score,\",(F)\")"
   ]
  }
 ],
 "metadata": {
  "kernelspec": {
   "display_name": "Python 3 (ipykernel)",
   "language": "python",
   "name": "python3"
  },
  "language_info": {
   "codemirror_mode": {
    "name": "ipython",
    "version": 3
   },
   "file_extension": ".py",
   "mimetype": "text/x-python",
   "name": "python",
   "nbconvert_exporter": "python",
   "pygments_lexer": "ipython3",
   "version": "3.10.11"
  }
 },
 "nbformat": 4,
 "nbformat_minor": 5
}
