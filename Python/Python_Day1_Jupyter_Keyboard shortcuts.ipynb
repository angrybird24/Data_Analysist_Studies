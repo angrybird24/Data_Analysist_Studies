{
 "cells": [
  {
   "cell_type": "markdown",
   "id": "725d6f1d",
   "metadata": {},
   "source": [
    "-\n",
    "<div style=\"font-size: 30px;\">창원아카데미</div>\n",
    "\n",
    "It's the First day. \n",
    "I dont know why Jupyter's using labtop\n",
    "\n",
    "* Date : 2023 May 2th \n",
    "* Location : CWNU\n",
    "\n",
    "\n",
    "# 단축키 \n",
    "# Shift + Enter: 현재 셀 실행 후 다음 셀로 이동\n",
    "# Ctrl + Enter: 현재 셀 실행 후 이동하지 않음\n",
    "# Alt + Enter: 현재 셀 실행 후 다음 셀 추가\n",
    "# 셀 추가/삭제 단축키\n",
    "# A: 현재 셀 위에 새로운 셀 추가\n",
    "# B: 현재 셀 아래에 새로운 셀 추가\n",
    "# D, D: 현재 셀 삭제\n",
    "# Z: 이전에 실행한 셀 복원\n",
    "# C: 복사\n",
    "# V: 붙여넣기\n",
    "\n",
    "\n"
   ]
  },
  {
   "cell_type": "code",
   "execution_count": 7,
   "id": "243e01cf",
   "metadata": {
    "collapsed": true
   },
   "outputs": [
    {
     "name": "stdout",
     "output_type": "stream",
     "text": [
      "1>> Hello World!\n",
      "2>> Hello World!\n",
      "3>> HelloWorld!\n",
      "4>> 100\n",
      "5>> 6\n"
     ]
    }
   ],
   "source": [
    "print(\"1>> Hello World!\");\n",
    "\n",
    "print(\"2>> Hello\",\"World!\");\n",
    "\n",
    "print(\"3>> Hello\"+ \"World!\");\n",
    "\n",
    "print(\"4>> \"+str(100));\n",
    "\n",
    "print(\"5>> \"+str(2+4));\n"
   ]
  },
  {
   "cell_type": "code",
   "execution_count": 8,
   "id": "a26ecf19",
   "metadata": {
    "collapsed": true
   },
   "outputs": [
    {
     "name": "stdout",
     "output_type": "stream",
     "text": [
      "=========================\n",
      "안녕하세요~\n",
      "저는 홍길동입니다.\n",
      "백수입니다. \n",
      "=========================\n"
     ]
    }
   ],
   "source": [
    "# Q 6\n",
    "print(\"=========================\")\n",
    "print(\"안녕하세요~\")\n",
    "print(\"저는 홍길동입니다.\")\n",
    "print(\"백수입니다. \")\n",
    "print(\"=========================\")"
   ]
  },
  {
   "cell_type": "code",
   "execution_count": 9,
   "id": "33b8d963",
   "metadata": {
    "collapsed": true
   },
   "outputs": [
    {
     "name": "stdout",
     "output_type": "stream",
     "text": [
      "120.0 km\n"
     ]
    }
   ],
   "source": [
    "# Q 11\n",
    "# 80km / 1시간30분 / 거 = 속*시\n",
    "print(str(80*1.5) +\" km\")"
   ]
  },
  {
   "cell_type": "code",
   "execution_count": 10,
   "id": "b616d72a",
   "metadata": {
    "collapsed": true
   },
   "outputs": [
    {
     "name": "stdout",
     "output_type": "stream",
     "text": [
      "95.0 km\n"
     ]
    }
   ],
   "source": [
    "# Q 12 \n",
    "#평균 속도 = 이동 거리 ÷ 이동하는 데 걸린 시간\n",
    "\n",
    "print(str(190/2) +\" km\")"
   ]
  },
  {
   "cell_type": "code",
   "execution_count": 11,
   "id": "a6ffafae",
   "metadata": {
    "collapsed": true
   },
   "outputs": [
    {
     "name": "stdout",
     "output_type": "stream",
     "text": [
      "    *\n",
      "   ***\n",
      "  *****\n",
      " *******\n",
      "*********\n",
      " *******\n",
      "  *****\n",
      "   ***\n",
      "    *\n"
     ]
    }
   ],
   "source": [
    "n = 5  \n",
    "for i in range(1, n+1): \n",
    "    print(\" \"*(n-i) + \"*\"*(2*i-1))\n",
    "for i in range(n-1, 0, -1):\n",
    "    print(\" \"*(n-i) + \"*\"*(2*i-1))"
   ]
  },
  {
   "cell_type": "code",
   "execution_count": 1,
   "id": "d3c558b9",
   "metadata": {},
   "outputs": [
    {
     "name": "stdout",
     "output_type": "stream",
     "text": [
      "ㅈㄷ12ㅇ\n"
     ]
    }
   ],
   "source": [
    "import re  # 태그끼리 찾아주기 \n",
    "text = input()\n",
    "tag_list = re.findall(r\"<([^>]*)>\", text) \n",
    "a = [] \n",
    "b = []    \n",
    "for tag in tag_list:\n",
    "    if '/' in tag:\n",
    "        b.append(tag)\n",
    "    else:\n",
    "        a.append(tag) \n",
    "for tag in a:\n",
    "    if '/' + tag in b:\n",
    "        b.remove('/' + tag)\n",
    "    else:\n",
    "        print(tag) "
   ]
  },
  {
   "cell_type": "code",
   "execution_count": 13,
   "id": "ea1ad773",
   "metadata": {
    "collapsed": true
   },
   "outputs": [
    {
     "data": {
      "text/plain": [
       "'창원대학교'"
      ]
     },
     "execution_count": 13,
     "metadata": {},
     "output_type": "execute_result"
    }
   ],
   "source": [
    "\"창원\"+\"대학교\" "
   ]
  },
  {
   "cell_type": "code",
   "execution_count": 14,
   "id": "64543f9b",
   "metadata": {
    "collapsed": true
   },
   "outputs": [
    {
     "name": "stdout",
     "output_type": "stream",
     "text": [
      "30.6\n",
      "30\n",
      "31\n"
     ]
    }
   ],
   "source": [
    "import math\n",
    "print(round(10.2*3, 3))  # 소수점 ~번째까지\n",
    "print(math.floor(10.2*3)) # 소수점 내림\n",
    "print(math.ceil(10.2*3))  # 소수점 올림\n"
   ]
  },
  {
   "cell_type": "code",
   "execution_count": 15,
   "id": "d1c8ce64",
   "metadata": {
    "collapsed": true
   },
   "outputs": [
    {
     "name": "stdout",
     "output_type": "stream",
     "text": [
      "hi\n",
      "hi1\n",
      "hi2\n",
      "hi3\n",
      "hi4\n",
      "\n",
      "hi1\n",
      "hi2\n",
      "hi3\n",
      "hi4\n",
      "hi5\n",
      "\n",
      "h1\n",
      "h2\n",
      "h3\n",
      "h4\n",
      "h5\n"
     ]
    }
   ],
   "source": [
    "# print 방법  1 \n",
    "print(\"hi\")\n",
    "print(\"hi1\")\n",
    "print(\"hi2\")\n",
    "print(\"hi3\")\n",
    "print(\"hi4\")\n",
    "\n",
    "# print 방법  2\n",
    "print('''\\nhi1\\nhi2\\nhi3\\nhi4\\nhi5''')\n",
    "\n",
    "\n",
    "# print 방법  3\n",
    "print(\"\\nh1\",\"h2\",\"h3\",\"h4\",\"h5\",sep=\"\\n\")"
   ]
  },
  {
   "cell_type": "code",
   "execution_count": 18,
   "id": "b74e4020",
   "metadata": {},
   "outputs": [
    {
     "name": "stdout",
     "output_type": "stream",
     "text": [
      "50\n"
     ]
    }
   ],
   "source": [
    "a=0\n",
    "for i in range(0,5):\n",
    "    a+= 10\n",
    "print(a)"
   ]
  },
  {
   "cell_type": "code",
   "execution_count": 23,
   "id": "705ce395",
   "metadata": {},
   "outputs": [
    {
     "name": "stdout",
     "output_type": "stream",
     "text": [
      "my age is 27 .\n",
      "my age is 27\n"
     ]
    }
   ],
   "source": [
    "# Format 2 가지\n",
    "age = 27\n",
    "\n",
    "#방법1\n",
    "print(f\"my age is {age} .\")\n",
    "\n",
    "#방법2 \n",
    "print(\"my age is {}\".format(age))"
   ]
  },
  {
   "cell_type": "code",
   "execution_count": 50,
   "id": "3528c361",
   "metadata": {},
   "outputs": [
    {
     "name": "stdout",
     "output_type": "stream",
     "text": [
      "my name is hi age is 27\n",
      "3.1415\n",
      "3.14\n",
      "23.1415\n"
     ]
    }
   ],
   "source": [
    "name = \"hi\"\n",
    "\n",
    "print(\"my name is {x} age is {y}\".format(x=name, y=str(age)))\n",
    "\n",
    "pi = 3.1415\n",
    "\n",
    "print(\"{}\".format(pi))\n",
    "print(\"{:.2f}\".format(pi))\n",
    "\n",
    "num = 1023.1415 \n",
    "print(\"{:05.4f}\".format(num % 1000))"
   ]
  },
  {
   "cell_type": "code",
   "execution_count": 72,
   "id": "4a49f361",
   "metadata": {
    "scrolled": true
   },
   "outputs": [
    {
     "name": "stdout",
     "output_type": "stream",
     "text": [
      "섭씨    화씨\n",
      "0\t32.0\n",
      "10\t50.0\n",
      "20\t68.0\n",
      "30\t86.0\n",
      "40\t104.0\n",
      "50\t122.0\n"
     ]
    }
   ],
   "source": [
    "#섭씨온도 ->화씨온도\n",
    "\n",
    "print(\"섭씨    화씨\")\n",
    "for c in range(0,51,10):\n",
    "    f = (9/5) * c + 32\n",
    "    print(str(c) + \"\\t\"+ str(f))"
   ]
  },
  {
   "cell_type": "code",
   "execution_count": 97,
   "id": "9028a665",
   "metadata": {
    "collapsed": true
   },
   "outputs": [
    {
     "name": "stdout",
     "output_type": "stream",
     "text": [
      "1  *  1  =  1\n",
      "1  *  2  =  2\n",
      "1  *  3  =  3\n",
      "1  *  4  =  4\n",
      "1  *  5  =  5\n",
      "1  *  6  =  6\n",
      "1  *  7  =  7\n",
      "1  *  8  =  8\n",
      "1  *  9  =  9\n",
      "\n",
      "2  *  1  =  2\n",
      "2  *  2  =  4\n",
      "2  *  3  =  6\n",
      "2  *  4  =  8\n",
      "2  *  5  =  10\n",
      "2  *  6  =  12\n",
      "2  *  7  =  14\n",
      "2  *  8  =  16\n",
      "2  *  9  =  18\n",
      "\n",
      "3  *  1  =  3\n",
      "3  *  2  =  6\n",
      "3  *  3  =  9\n",
      "3  *  4  =  12\n",
      "3  *  5  =  15\n",
      "3  *  6  =  18\n",
      "3  *  7  =  21\n",
      "3  *  8  =  24\n",
      "3  *  9  =  27\n",
      "\n",
      "4  *  1  =  4\n",
      "4  *  2  =  8\n",
      "4  *  3  =  12\n",
      "4  *  4  =  16\n",
      "4  *  5  =  20\n",
      "4  *  6  =  24\n",
      "4  *  7  =  28\n",
      "4  *  8  =  32\n",
      "4  *  9  =  36\n",
      "\n",
      "5  *  1  =  5\n",
      "5  *  2  =  10\n",
      "5  *  3  =  15\n",
      "5  *  4  =  20\n",
      "5  *  5  =  25\n",
      "5  *  6  =  30\n",
      "5  *  7  =  35\n",
      "5  *  8  =  40\n",
      "5  *  9  =  45\n",
      "\n",
      "6  *  1  =  6\n",
      "6  *  2  =  12\n",
      "6  *  3  =  18\n",
      "6  *  4  =  24\n",
      "6  *  5  =  30\n",
      "6  *  6  =  36\n",
      "6  *  7  =  42\n",
      "6  *  8  =  48\n",
      "6  *  9  =  54\n",
      "\n",
      "7  *  1  =  7\n",
      "7  *  2  =  14\n",
      "7  *  3  =  21\n",
      "7  *  4  =  28\n",
      "7  *  5  =  35\n",
      "7  *  6  =  42\n",
      "7  *  7  =  49\n",
      "7  *  8  =  56\n",
      "7  *  9  =  63\n",
      "\n",
      "8  *  1  =  8\n",
      "8  *  2  =  16\n",
      "8  *  3  =  24\n",
      "8  *  4  =  32\n",
      "8  *  5  =  40\n",
      "8  *  6  =  48\n",
      "8  *  7  =  56\n",
      "8  *  8  =  64\n",
      "8  *  9  =  72\n",
      "\n",
      "9  *  1  =  9\n",
      "9  *  2  =  18\n",
      "9  *  3  =  27\n",
      "9  *  4  =  36\n",
      "9  *  5  =  45\n",
      "9  *  6  =  54\n",
      "9  *  7  =  63\n",
      "9  *  8  =  72\n",
      "9  *  9  =  81\n",
      "\n"
     ]
    }
   ],
   "source": [
    "# 구구단 세로 \n",
    "for a in range(1,10): \n",
    "    for b in range(1,10):\n",
    "        print(a , \" * \", b ,\" = \" , a*b )\n",
    "    print()"
   ]
  },
  {
   "cell_type": "code",
   "execution_count": 102,
   "id": "ce356abf",
   "metadata": {
    "collapsed": true
   },
   "outputs": [
    {
     "name": "stdout",
     "output_type": "stream",
     "text": [
      "1 * 1 =  1   1 * 2 =  2   1 * 3 =  3   1 * 4 =  4   1 * 5 =  5   1 * 6 =  6   1 * 7 =  7   1 * 8 =  8   1 * 9 =  9   \n",
      "2 * 1 =  2   2 * 2 =  4   2 * 3 =  6   2 * 4 =  8   2 * 5 = 10   2 * 6 = 12   2 * 7 = 14   2 * 8 = 16   2 * 9 = 18   \n",
      "3 * 1 =  3   3 * 2 =  6   3 * 3 =  9   3 * 4 = 12   3 * 5 = 15   3 * 6 = 18   3 * 7 = 21   3 * 8 = 24   3 * 9 = 27   \n",
      "4 * 1 =  4   4 * 2 =  8   4 * 3 = 12   4 * 4 = 16   4 * 5 = 20   4 * 6 = 24   4 * 7 = 28   4 * 8 = 32   4 * 9 = 36   \n",
      "5 * 1 =  5   5 * 2 = 10   5 * 3 = 15   5 * 4 = 20   5 * 5 = 25   5 * 6 = 30   5 * 7 = 35   5 * 8 = 40   5 * 9 = 45   \n",
      "6 * 1 =  6   6 * 2 = 12   6 * 3 = 18   6 * 4 = 24   6 * 5 = 30   6 * 6 = 36   6 * 7 = 42   6 * 8 = 48   6 * 9 = 54   \n",
      "7 * 1 =  7   7 * 2 = 14   7 * 3 = 21   7 * 4 = 28   7 * 5 = 35   7 * 6 = 42   7 * 7 = 49   7 * 8 = 56   7 * 9 = 63   \n",
      "8 * 1 =  8   8 * 2 = 16   8 * 3 = 24   8 * 4 = 32   8 * 5 = 40   8 * 6 = 48   8 * 7 = 56   8 * 8 = 64   8 * 9 = 72   \n",
      "9 * 1 =  9   9 * 2 = 18   9 * 3 = 27   9 * 4 = 36   9 * 5 = 45   9 * 6 = 54   9 * 7 = 63   9 * 8 = 72   9 * 9 = 81   \n"
     ]
    }
   ],
   "source": [
    "# 구구단 가로 \n",
    "for i in range(1, 10):\n",
    "    for j in range(1, 10):\n",
    "        print(\"{} * {} = {:2}   \".format(i, j, i*j), end=\"\")\n",
    "    print()"
   ]
  },
  {
   "cell_type": "markdown",
   "id": "1b1602c5",
   "metadata": {},
   "source": [
    "# <div style = \"font-size= 25px\"> 1 번 문제 </div>\n",
    "두값 a , b 의 평균을 출력하는 프로그램을 작성하시오 "
   ]
  },
  {
   "cell_type": "code",
   "execution_count": 7,
   "id": "ed2efd78",
   "metadata": {},
   "outputs": [
    {
     "name": "stdout",
     "output_type": "stream",
     "text": [
      "5\n",
      "1.5\n",
      "3.25\n"
     ]
    }
   ],
   "source": [
    "a = float(input(\"\"))\n",
    "b = float(input(\"\"))\n",
    "c = (a+b)/2\n",
    "print(c)"
   ]
  },
  {
   "cell_type": "markdown",
   "id": "2477a0bb",
   "metadata": {},
   "source": [
    "# <div style = \"font-size= 25px\"> 2 번 문제 </div>\n",
    "국적,이름 \"출생년도\" 를 입력받아 ,국적, 이름, \"나이\" 를 출력하는 프로그램을 작성하시오 ex)저는 대한민국에서..."
   ]
  },
  {
   "cell_type": "code",
   "execution_count": 32,
   "id": "83ccf68e",
   "metadata": {},
   "outputs": [
    {
     "name": "stdout",
     "output_type": "stream",
     "text": [
      "대한민국\n",
      "임경용\n",
      "2005\n",
      "저는  대한민국 에서 태어난  임경용  입니다. 그리고 나이는  18 입니다.\n"
     ]
    }
   ],
   "source": [
    "country = input(\"\")\n",
    "name = input(\"\")\n",
    "DOB = int(input(\"\"))\n",
    "\n",
    "print(\"저는 \",country , \"에서 태어난 \", name,\" 입니다. 그리고 나이는 \", 2023-DOB ,\"입니다.\")"
   ]
  },
  {
   "cell_type": "markdown",
   "id": "b6aeebb4",
   "metadata": {},
   "source": [
    " # <div style = \"font-size= 25px\"> 3 번 문제 </div>\n",
    "  원의 반지름을 입력받아 원의 면적을 구하는 프로그램을 작성하시오 ."
   ]
  },
  {
   "cell_type": "code",
   "execution_count": 31,
   "id": "dea090b2",
   "metadata": {
    "scrolled": true
   },
   "outputs": [
    {
     "name": "stdout",
     "output_type": "stream",
     "text": [
      "5\n",
      "78.54\n"
     ]
    }
   ],
   "source": [
    "from math import pi\n",
    "c = float(input(\"\"))\n",
    "c = pi * c**2\n",
    "print(round(c ,2))"
   ]
  }
 ],
 "metadata": {
  "kernelspec": {
   "display_name": "Python 3 (ipykernel)",
   "language": "python",
   "name": "python3"
  },
  "language_info": {
   "codemirror_mode": {
    "name": "ipython",
    "version": 3
   },
   "file_extension": ".py",
   "mimetype": "text/x-python",
   "name": "python",
   "nbconvert_exporter": "python",
   "pygments_lexer": "ipython3",
   "version": "3.10.11"
  }
 },
 "nbformat": 4,
 "nbformat_minor": 5
}
