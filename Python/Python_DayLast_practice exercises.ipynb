{
 "cells": [
  {
   "cell_type": "code",
   "execution_count": 30,
   "id": "c3739a8f",
   "metadata": {
    "collapsed": true
   },
   "outputs": [
    {
     "name": "stdout",
     "output_type": "stream",
     "text": [
      "{0, 1, 2, 5, 6, 7}\n",
      "{0, 1, 2, 5, 6, 7}\n",
      "[0, 1, 2, 5, 6, 7]\n"
     ]
    }
   ],
   "source": [
    "#연습 1\n",
    "\n",
    "#방법 1 \n",
    "list_01 = [0,1,2,3,4]\n",
    "list_02 = [3,4,5,6,7]  \n",
    "print(set(list_01)^set(list_02))\n",
    "\n",
    "\n",
    "#방법2 \n",
    "\n",
    "def unique (x,y):\n",
    "    return (set(x)^set(y))\n",
    "print(unique(list_01,list_02))\n",
    "\n",
    "\n",
    "#방법3\n",
    "\n",
    "def unique2(list1,list2):\n",
    "    uniques=[]\n",
    "    for e in list1:\n",
    "        if e not in list2:\n",
    "            uniques.append(e)\n",
    "    for e in list2:\n",
    "        if e not in list1:\n",
    "            uniques.append(e)\n",
    "    return uniques\n",
    "   \n",
    "print(unique2(list_01,list_02))"
   ]
  },
  {
   "cell_type": "code",
   "execution_count": 49,
   "id": "42cf8c64",
   "metadata": {
    "collapsed": true
   },
   "outputs": [
    {
     "name": "stdout",
     "output_type": "stream",
     "text": [
      "Alice   82\n",
      "Bob   90\n",
      "Ethan   94\n",
      "[('Alice', 82), ('Bob', 90), ('Ethan', 94)]\n"
     ]
    }
   ],
   "source": [
    "#연습 2 \n",
    "#80점이상 출력\n",
    "\n",
    "#방법1\n",
    "korean_scores={\"Alice\":82,\"Bob\":90,\"Charlie\":75,\"David\":67,\"Ethan\":94}\n",
    "for j,i in korean_scores.items():\n",
    "    if(i >= 80):\n",
    "        print(j,\" \",i)\n",
    "        \n",
    "#방법2\n",
    "print(list(filter(lambda x:x[1]>=80,korean_scores.items())))"
   ]
  },
  {
   "cell_type": "code",
   "execution_count": 59,
   "id": "c69a431f",
   "metadata": {
    "collapsed": true
   },
   "outputs": [
    {
     "name": "stdout",
     "output_type": "stream",
     "text": [
      "['apple', 'banana', 'cherry']\n"
     ]
    },
    {
     "data": {
      "text/plain": [
       "['apple', 'banana', 'cherry']"
      ]
     },
     "execution_count": 59,
     "metadata": {},
     "output_type": "execute_result"
    }
   ],
   "source": [
    "#연습 3 \n",
    "#값일치 하는 리스트 요소반환 하는 함수작성\n",
    "fruit={\"apple\",\"banana\",\"cherry\",\"durian\"}\n",
    "fruit_dict={\"a\":\"apple\",\"b\":\"banana\",\"c\":\"cherry\"}\n",
    "    \n",
    "# 방법1\n",
    "\n",
    "def fruit_List (x,y): \n",
    "    checkList = []\n",
    "    for value in fruit_dict.values():\n",
    "            if(value in fruit):\n",
    "                checkList.append(value)\n",
    "    return checkList       \n",
    "        \n",
    "print(fruit_List(fruit,fruit_dict))\n",
    "\n",
    "\n",
    "#방법2\n",
    "#심화! \n",
    "print(list(filter(lambda x:x in fruit_dict.values(),fruit)))"
   ]
  },
  {
   "cell_type": "code",
   "execution_count": 93,
   "id": "a28c2154",
   "metadata": {
    "collapsed": true
   },
   "outputs": [
    {
     "name": "stdout",
     "output_type": "stream",
     "text": [
      "입력하세요 :   \n",
      "문자열이 입력되지 않았습니다\n"
     ]
    }
   ],
   "source": [
    "#연습 4\n",
    "# 대 소 숫 각각몇개 있는지 함수 , 입력문자열없으면 \"문자열이 입력되지 않았습니다\" , isupper(), islower(),isdigit()\n",
    "def findStr(x):\n",
    "    b=0 ; s =0; n=0; \n",
    "    x=x.strip()\n",
    "    if x:\n",
    "        for i in x:\n",
    "            if (i.isupper()):\n",
    "                b+=1 \n",
    "            elif (i.islower()):\n",
    "                s+=1 \n",
    "            elif (i.isdigit()):\n",
    "                n+=1\n",
    "        print(\"대문자 개수 : \",b,\"소문자 개수 : \",s,\"숫자 개수 : \",n)\n",
    "    else:\n",
    "        print(\"문자열이 입력되지 않았습니다\")\n",
    "         \n",
    "str1 = input(\"입력하세요 : \") \n",
    "str1.strip() \n",
    "findStr(str1)"
   ]
  },
  {
   "cell_type": "code",
   "execution_count": 56,
   "id": "d827f464",
   "metadata": {},
   "outputs": [
    {
     "name": "stdout",
     "output_type": "stream",
     "text": [
      "grapefruit\n"
     ]
    }
   ],
   "source": [
    "#연습 5\n",
    "#가장 긴문자열 작는 프로그램작성 , 클래스 \"LongestStringFinder\" 클래스 정의 find_longest_string() 멤버함수 >> 반환값이가장큰문자열\n",
    "\n",
    "string_list ={\"apple\",\"banana\",\"orange\",\"grapefruit\",\"pear\"}\n",
    "\n",
    "class LongestStringFinder:\n",
    "    def find_longest_string(self,list1):\n",
    "        longOne =\"\"\n",
    "        for i in list1:\n",
    "            if(len(longOne)<len(i)):\n",
    "                longOne=i\n",
    "        return str(longOne)\n",
    "    \n",
    "a = LongestStringFinder() \n",
    "print(a.find_longest_string(string_list)) "
   ]
  },
  {
   "cell_type": "code",
   "execution_count": 2,
   "id": "a8f13d4b",
   "metadata": {
    "collapsed": true
   },
   "outputs": [
    {
     "name": "stdout",
     "output_type": "stream",
     "text": [
      "원하는 작업을 선택하세요 : 1\n",
      "숫자를 입력하세요 : 5\n",
      "결과 :  5\n",
      "원하는 작업을 선택하세요 : 2\n",
      "숫자를 입력하세요 : 1\n",
      "결과 :  4\n",
      "원하는 작업을 선택하세요 : 3\n",
      "숫자를 입력하세요 : 4\n",
      "결과 :  16\n",
      "원하는 작업을 선택하세요 : 4\n",
      "숫자를 입력하세요 : 8\n",
      "결과 :  2.0\n",
      "원하는 작업을 선택하세요 : 5\n",
      "프로그램을 종료합니다. \n"
     ]
    }
   ],
   "source": [
    "#연습 6 \n",
    "#계산기 클래스 정의 하고 계산기 프로그램 작성  1덧셈,2뺄셈 3곱셈 4나눗셈 5종료  .> 프로그램을 종료합니다. \n",
    "#원하는 작업을 선택하세요 : 1   .> 숫자를 입력하세요 : 5    결과 : 5   \n",
    "class Calculator:\n",
    "    def __init__(self,num =0):\n",
    "        self.num = num\n",
    "        \n",
    "    def add(self):\n",
    "        num=int(input(\"숫자를 입력하세요 : \"))\n",
    "        self.num += num\n",
    "        print(\"결과 : \",self.num )\n",
    "        \n",
    "    def subtract(self):\n",
    "        num=int(input(\"숫자를 입력하세요 : \"))\n",
    "        self.num -= num\n",
    "        print(\"결과 : \", self.num )\n",
    "    \n",
    "    def multiple(self):\n",
    "        num=int(input(\"숫자를 입력하세요 : \"))\n",
    "        self.num *= num\n",
    "        print(\"결과 : \", self.num )\n",
    "    \n",
    "    def devide(self):\n",
    "        num=int(input(\"숫자를 입력하세요 : \"))\n",
    "        self.num /= num\n",
    "        print(\"결과 : \", self.num )\n",
    "\n",
    "    def finish(self):\n",
    "        print(\"프로그램을 종료합니다. \")\n",
    "        \n",
    "num = 0\n",
    "cc=Calculator() \n",
    "\n",
    "'''\n",
    "1 . 덧셈\n",
    "2 . 뺄셈\n",
    "3 . 곱셉\n",
    "4 . 나눗셈\n",
    "5 . 종료\n",
    "'''\n",
    "while(True):\n",
    "    num= int(input(\"원하는 작업을 선택하세요 : \"))\n",
    "    if(num==1): cc.add()\n",
    "    elif(num==2): cc.subtract()\n",
    "    elif(num==3): cc.multiple()\n",
    "    elif(num==4): cc.devide()\n",
    "    elif(num==5): cc.finish(); break"
   ]
  }
 ],
 "metadata": {
  "kernelspec": {
   "display_name": "Python 3 (ipykernel)",
   "language": "python",
   "name": "python3"
  },
  "language_info": {
   "codemirror_mode": {
    "name": "ipython",
    "version": 3
   },
   "file_extension": ".py",
   "mimetype": "text/x-python",
   "name": "python",
   "nbconvert_exporter": "python",
   "pygments_lexer": "ipython3",
   "version": "3.10.11"
  }
 },
 "nbformat": 4,
 "nbformat_minor": 5
}
