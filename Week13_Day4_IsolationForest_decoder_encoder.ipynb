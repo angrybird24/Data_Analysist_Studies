{
 "cells": [
  {
   "cell_type": "markdown",
   "metadata": {
    "id": "uEQlN46USNFy"
   },
   "source": [
    "##  LOF 이상 탐지(거리, 밀도기반 이상탐지)\n",
    "___\n",
    "* 정의\n",
    "```\n",
    "# Density-based Methods LOF(Local Outlier Factor) \n",
    "# 대부분의 이상탐지 알고리즘은 Global(전역) 관점에서 개별의 관측치가 이상인지 판별함 (O2는 아웃라이어 아님)\n",
    "# 위의 단점을 극복하기 위해, Local(국소적) 정보를 이용하여 이상인지를 판별함 (O2는 아웃라이어임)\n",
    "# LOF는 관측치가 데이터 안에서 얼마나 벗어나 있는가에 대한 정도를 나타냄\n",
    "# 'K' Hyper parameter를 통해 주변 데이터를 몇 개까지 고려할지를 결정, LOF 값을 threshold로 설정해서 아웃라이어를 결정\n",
    "# LOF < 1 : 밀도가 높은 분포\n",
    "# LOF = 1 : 이웃 관측치와 비슷한 분포\n",
    "# LOF > 1 : 밀도가 낮은분포, 크면 클수록 이상치 정도가 큼\n",
    "```\n",
    "<img src = \"https://drive.google.com/uc?id=1Oa2Han1oF7NILaq26sMTd4nf0bg9QioF\">\n",
    "<img src = \"https://drive.google.com/uc?id=1f1ccNCWYhaNa75GnG2Nu3PSkGokpUfmA\">\n",
    "\n",
    "\n",
    "* 장단점\n",
    "```\n",
    "  # [good] 굉장히 밀집한 클러스터에서 조금만 떨어져 있어도 이상치로 탐지\n",
    "  # [good] KNN과 다르게 특별한 라벨링이 없어도 사용할 수 있음(Unsupervised Learning), 고장의 전조증상은 고장이라고 라벨링 되지 않음.\n",
    "  # [good] Local Outlier를 탐지할 수 있음\n",
    "  # [good] 데이터에 대한 가정이 필요 없음(데이터 분포에 대한 가정)\n",
    "  # [bad] 데이터의 차원수가 증가할 수록 계산량이 많음\n",
    "  # [bad] 이상치 판단 기준 설정 어려움 (※ 밀집도가 다른 여러 클러스터가 존재한다면 민감하게 반응함)\n",
    "```\n",
    "  \n",
    "* 사용방법\n",
    "```\n",
    "# sklearn.neighbors 패키지 활용\n",
    "# n_neighbors 결정 (※ 이외에 다양한 Hyper parameter 결정)\n",
    "# 표준화(Min-Max nomalization or z-score standardization)\n",
    "# 새로운 Data에 대해 지속 수행\n",
    "```\n",
    "\n",
    "* 현업사례\n",
    "```\n",
    "# 공정(설비) 데이터 이상탐지\n",
    "# 공정 센서 데이터 실시간 이상탐지\n",
    "```\n"
   ]
  },
  {
   "cell_type": "markdown",
   "metadata": {
    "id": "MAFQkR9JxwYR"
   },
   "source": [
    "### 실습\n",
    "___"
   ]
  },
  {
   "cell_type": "code",
   "execution_count": 23,
   "metadata": {
    "ExecuteTime": {
     "end_time": "2023-07-23T06:16:55.447240Z",
     "start_time": "2023-07-23T06:16:55.431240Z"
    },
    "id": "lOzacnpjStgU"
   },
   "outputs": [],
   "source": [
    "import numpy as np\n",
    "import pandas as pd\n",
    "from sklearn.neighbors import LocalOutlierFactor\n",
    "\n",
    "# ▶ Toy data 생성 (3차원 데이터), 데이터를 수정하면서 LOF를 이해해 보세요. \n",
    "df_train = pd.DataFrame([\n",
    "        [2, 1, 3],\n",
    "        [2, 1, 3],\n",
    "        [2, 1, 3],\n",
    "        [3, 2, 5],\n",
    "        [3, 4, 7],\n",
    "        [5, 5, 10],\n",
    "        [7, 5, 12],\n",
    "        [2, 5, 7],\n",
    "        [8, 9, 13],\n",
    "        [9, 10, 13],\n",
    "        [10, 50, 12], # ▶ 이상값 추가\n",
    "        [11, 45, 13], # ▶ 이상값 추가\n",
    "        [12, 50, 15], \n",
    "        [13, 47, 14], \n",
    "        [6, 12, 12]\n",
    "    ], columns=['hour', 'attendance', 'score'])\n",
    "\n",
    "df_test = pd.DataFrame([\n",
    "        [9, 2, 13],\n",
    "        [6, 10, 12],\n",
    "        [2, 4, 6]\n",
    "    ], columns=['hour', 'attendance', 'score'])"
   ]
  },
  {
   "cell_type": "code",
   "execution_count": 24,
   "metadata": {
    "ExecuteTime": {
     "end_time": "2023-07-23T06:08:40.770186Z",
     "start_time": "2023-07-23T06:08:40.752178Z"
    },
    "colab": {
     "base_uri": "https://localhost:8080/",
     "height": 143
    },
    "executionInfo": {
     "elapsed": 282,
     "status": "ok",
     "timestamp": 1667279627444,
     "user": {
      "displayName": "박지환",
      "userId": "03562376240636475247"
     },
     "user_tz": -540
    },
    "id": "ljxRI-jwTSou",
    "outputId": "132872f1-5d11-485d-c481-552129a451c5"
   },
   "outputs": [
    {
     "data": {
      "text/html": [
       "<div>\n",
       "<style scoped>\n",
       "    .dataframe tbody tr th:only-of-type {\n",
       "        vertical-align: middle;\n",
       "    }\n",
       "\n",
       "    .dataframe tbody tr th {\n",
       "        vertical-align: top;\n",
       "    }\n",
       "\n",
       "    .dataframe thead th {\n",
       "        text-align: right;\n",
       "    }\n",
       "</style>\n",
       "<table border=\"1\" class=\"dataframe\">\n",
       "  <thead>\n",
       "    <tr style=\"text-align: right;\">\n",
       "      <th></th>\n",
       "      <th>hour</th>\n",
       "      <th>attendance</th>\n",
       "      <th>score</th>\n",
       "    </tr>\n",
       "  </thead>\n",
       "  <tbody>\n",
       "    <tr>\n",
       "      <th>0</th>\n",
       "      <td>2</td>\n",
       "      <td>1</td>\n",
       "      <td>3</td>\n",
       "    </tr>\n",
       "    <tr>\n",
       "      <th>1</th>\n",
       "      <td>2</td>\n",
       "      <td>1</td>\n",
       "      <td>3</td>\n",
       "    </tr>\n",
       "    <tr>\n",
       "      <th>2</th>\n",
       "      <td>2</td>\n",
       "      <td>1</td>\n",
       "      <td>3</td>\n",
       "    </tr>\n",
       "    <tr>\n",
       "      <th>3</th>\n",
       "      <td>3</td>\n",
       "      <td>2</td>\n",
       "      <td>5</td>\n",
       "    </tr>\n",
       "    <tr>\n",
       "      <th>4</th>\n",
       "      <td>3</td>\n",
       "      <td>4</td>\n",
       "      <td>7</td>\n",
       "    </tr>\n",
       "    <tr>\n",
       "      <th>5</th>\n",
       "      <td>5</td>\n",
       "      <td>5</td>\n",
       "      <td>10</td>\n",
       "    </tr>\n",
       "    <tr>\n",
       "      <th>6</th>\n",
       "      <td>7</td>\n",
       "      <td>5</td>\n",
       "      <td>12</td>\n",
       "    </tr>\n",
       "    <tr>\n",
       "      <th>7</th>\n",
       "      <td>2</td>\n",
       "      <td>5</td>\n",
       "      <td>7</td>\n",
       "    </tr>\n",
       "    <tr>\n",
       "      <th>8</th>\n",
       "      <td>8</td>\n",
       "      <td>9</td>\n",
       "      <td>13</td>\n",
       "    </tr>\n",
       "    <tr>\n",
       "      <th>9</th>\n",
       "      <td>9</td>\n",
       "      <td>10</td>\n",
       "      <td>13</td>\n",
       "    </tr>\n",
       "    <tr>\n",
       "      <th>10</th>\n",
       "      <td>10</td>\n",
       "      <td>50</td>\n",
       "      <td>12</td>\n",
       "    </tr>\n",
       "    <tr>\n",
       "      <th>11</th>\n",
       "      <td>11</td>\n",
       "      <td>45</td>\n",
       "      <td>13</td>\n",
       "    </tr>\n",
       "    <tr>\n",
       "      <th>12</th>\n",
       "      <td>12</td>\n",
       "      <td>50</td>\n",
       "      <td>15</td>\n",
       "    </tr>\n",
       "    <tr>\n",
       "      <th>13</th>\n",
       "      <td>13</td>\n",
       "      <td>47</td>\n",
       "      <td>14</td>\n",
       "    </tr>\n",
       "    <tr>\n",
       "      <th>14</th>\n",
       "      <td>6</td>\n",
       "      <td>12</td>\n",
       "      <td>12</td>\n",
       "    </tr>\n",
       "  </tbody>\n",
       "</table>\n",
       "</div>"
      ],
      "text/plain": [
       "    hour  attendance  score\n",
       "0      2           1      3\n",
       "1      2           1      3\n",
       "2      2           1      3\n",
       "3      3           2      5\n",
       "4      3           4      7\n",
       "5      5           5     10\n",
       "6      7           5     12\n",
       "7      2           5      7\n",
       "8      8           9     13\n",
       "9      9          10     13\n",
       "10    10          50     12\n",
       "11    11          45     13\n",
       "12    12          50     15\n",
       "13    13          47     14\n",
       "14     6          12     12"
      ]
     },
     "execution_count": 24,
     "metadata": {},
     "output_type": "execute_result"
    }
   ],
   "source": [
    "# ▶ 데이터 확인\n",
    "df_train"
   ]
  },
  {
   "cell_type": "code",
   "execution_count": 29,
   "metadata": {
    "ExecuteTime": {
     "end_time": "2023-07-23T06:18:59.667448Z",
     "start_time": "2023-07-23T06:18:59.643918Z"
    },
    "colab": {
     "base_uri": "https://localhost:8080/",
     "height": 394
    },
    "executionInfo": {
     "elapsed": 288,
     "status": "ok",
     "timestamp": 1667279993558,
     "user": {
      "displayName": "박지환",
      "userId": "03562376240636475247"
     },
     "user_tz": -540
    },
    "id": "pc8zLnDcTTsk",
    "outputId": "faa317af-d9cd-4424-d498-2585056f4be5"
   },
   "outputs": [
    {
     "data": {
      "text/html": [
       "<div>\n",
       "<style scoped>\n",
       "    .dataframe tbody tr th:only-of-type {\n",
       "        vertical-align: middle;\n",
       "    }\n",
       "\n",
       "    .dataframe tbody tr th {\n",
       "        vertical-align: top;\n",
       "    }\n",
       "\n",
       "    .dataframe thead th {\n",
       "        text-align: right;\n",
       "    }\n",
       "</style>\n",
       "<table border=\"1\" class=\"dataframe\">\n",
       "  <thead>\n",
       "    <tr style=\"text-align: right;\">\n",
       "      <th></th>\n",
       "      <th>hour</th>\n",
       "      <th>attendance</th>\n",
       "      <th>score</th>\n",
       "      <th>outlier</th>\n",
       "      <th>LOF</th>\n",
       "    </tr>\n",
       "  </thead>\n",
       "  <tbody>\n",
       "    <tr>\n",
       "      <th>0</th>\n",
       "      <td>2</td>\n",
       "      <td>1</td>\n",
       "      <td>3</td>\n",
       "      <td>1</td>\n",
       "      <td>-0.992962</td>\n",
       "    </tr>\n",
       "    <tr>\n",
       "      <th>1</th>\n",
       "      <td>2</td>\n",
       "      <td>1</td>\n",
       "      <td>3</td>\n",
       "      <td>1</td>\n",
       "      <td>-0.992962</td>\n",
       "    </tr>\n",
       "    <tr>\n",
       "      <th>2</th>\n",
       "      <td>2</td>\n",
       "      <td>1</td>\n",
       "      <td>3</td>\n",
       "      <td>1</td>\n",
       "      <td>-0.992962</td>\n",
       "    </tr>\n",
       "    <tr>\n",
       "      <th>3</th>\n",
       "      <td>3</td>\n",
       "      <td>2</td>\n",
       "      <td>5</td>\n",
       "      <td>1</td>\n",
       "      <td>-0.995530</td>\n",
       "    </tr>\n",
       "    <tr>\n",
       "      <th>4</th>\n",
       "      <td>3</td>\n",
       "      <td>4</td>\n",
       "      <td>7</td>\n",
       "      <td>1</td>\n",
       "      <td>-0.999269</td>\n",
       "    </tr>\n",
       "    <tr>\n",
       "      <th>5</th>\n",
       "      <td>5</td>\n",
       "      <td>5</td>\n",
       "      <td>10</td>\n",
       "      <td>1</td>\n",
       "      <td>-1.002090</td>\n",
       "    </tr>\n",
       "    <tr>\n",
       "      <th>6</th>\n",
       "      <td>7</td>\n",
       "      <td>5</td>\n",
       "      <td>12</td>\n",
       "      <td>1</td>\n",
       "      <td>-1.002803</td>\n",
       "    </tr>\n",
       "    <tr>\n",
       "      <th>7</th>\n",
       "      <td>2</td>\n",
       "      <td>5</td>\n",
       "      <td>7</td>\n",
       "      <td>1</td>\n",
       "      <td>-1.000510</td>\n",
       "    </tr>\n",
       "    <tr>\n",
       "      <th>8</th>\n",
       "      <td>8</td>\n",
       "      <td>9</td>\n",
       "      <td>13</td>\n",
       "      <td>1</td>\n",
       "      <td>-1.009523</td>\n",
       "    </tr>\n",
       "    <tr>\n",
       "      <th>9</th>\n",
       "      <td>9</td>\n",
       "      <td>10</td>\n",
       "      <td>13</td>\n",
       "      <td>1</td>\n",
       "      <td>-1.011280</td>\n",
       "    </tr>\n",
       "    <tr>\n",
       "      <th>10</th>\n",
       "      <td>10</td>\n",
       "      <td>50</td>\n",
       "      <td>12</td>\n",
       "      <td>1</td>\n",
       "      <td>-0.994541</td>\n",
       "    </tr>\n",
       "    <tr>\n",
       "      <th>11</th>\n",
       "      <td>11</td>\n",
       "      <td>45</td>\n",
       "      <td>13</td>\n",
       "      <td>1</td>\n",
       "      <td>-1.001771</td>\n",
       "    </tr>\n",
       "    <tr>\n",
       "      <th>12</th>\n",
       "      <td>12</td>\n",
       "      <td>50</td>\n",
       "      <td>15</td>\n",
       "      <td>-1</td>\n",
       "      <td>-0.992962</td>\n",
       "    </tr>\n",
       "    <tr>\n",
       "      <th>13</th>\n",
       "      <td>13</td>\n",
       "      <td>47</td>\n",
       "      <td>14</td>\n",
       "      <td>1</td>\n",
       "      <td>-0.997628</td>\n",
       "    </tr>\n",
       "    <tr>\n",
       "      <th>14</th>\n",
       "      <td>6</td>\n",
       "      <td>12</td>\n",
       "      <td>12</td>\n",
       "      <td>1</td>\n",
       "      <td>-1.013840</td>\n",
       "    </tr>\n",
       "  </tbody>\n",
       "</table>\n",
       "</div>"
      ],
      "text/plain": [
       "    hour  attendance  score  outlier       LOF\n",
       "0      2           1      3        1 -0.992962\n",
       "1      2           1      3        1 -0.992962\n",
       "2      2           1      3        1 -0.992962\n",
       "3      3           2      5        1 -0.995530\n",
       "4      3           4      7        1 -0.999269\n",
       "5      5           5     10        1 -1.002090\n",
       "6      7           5     12        1 -1.002803\n",
       "7      2           5      7        1 -1.000510\n",
       "8      8           9     13        1 -1.009523\n",
       "9      9          10     13        1 -1.011280\n",
       "10    10          50     12        1 -0.994541\n",
       "11    11          45     13        1 -1.001771\n",
       "12    12          50     15       -1 -0.992962\n",
       "13    13          47     14        1 -0.997628\n",
       "14     6          12     12        1 -1.013840"
      ]
     },
     "execution_count": 29,
     "metadata": {},
     "output_type": "execute_result"
    }
   ],
   "source": [
    "# ▶ 모델 생성 및 예측, n_neighbors, contamination을 변경해보세요. 제일 먼저는 default 값으로 설정해보고 상황에 맞춰 변경해보기 바랍니다.\n",
    "outlier = LocalOutlierFactor(n_neighbors=5, contamination=0.01)\n",
    "y_predict = outlier.fit_predict(df_train)\n",
    "df_train['outlier'] = y_predict\n",
    "df_train"
   ]
  },
  {
   "cell_type": "code",
   "execution_count": 30,
   "metadata": {},
   "outputs": [
    {
     "data": {
      "text/plain": [
       "array([ 1,  1,  1,  1,  1,  1,  1,  1,  1,  1,  1,  1, -1,  1,  1])"
      ]
     },
     "execution_count": 30,
     "metadata": {},
     "output_type": "execute_result"
    }
   ],
   "source": [
    "y_predict"
   ]
  },
  {
   "cell_type": "code",
   "execution_count": 31,
   "metadata": {
    "ExecuteTime": {
     "end_time": "2023-07-23T06:09:51.739791Z",
     "start_time": "2023-07-23T06:09:51.727535Z"
    },
    "colab": {
     "base_uri": "https://localhost:8080/"
    },
    "executionInfo": {
     "elapsed": 253,
     "status": "ok",
     "timestamp": 1667279999147,
     "user": {
      "displayName": "박지환",
      "userId": "03562376240636475247"
     },
     "user_tz": -540
    },
    "id": "2waIWPoxVm3S",
    "outputId": "af27d916-a1d5-44d2-8a81-d6c5c24daf80"
   },
   "outputs": [
    {
     "data": {
      "text/html": [
       "<div>\n",
       "<style scoped>\n",
       "    .dataframe tbody tr th:only-of-type {\n",
       "        vertical-align: middle;\n",
       "    }\n",
       "\n",
       "    .dataframe tbody tr th {\n",
       "        vertical-align: top;\n",
       "    }\n",
       "\n",
       "    .dataframe thead th {\n",
       "        text-align: right;\n",
       "    }\n",
       "</style>\n",
       "<table border=\"1\" class=\"dataframe\">\n",
       "  <thead>\n",
       "    <tr style=\"text-align: right;\">\n",
       "      <th></th>\n",
       "      <th>hour</th>\n",
       "      <th>attendance</th>\n",
       "      <th>score</th>\n",
       "      <th>outlier</th>\n",
       "      <th>LOF</th>\n",
       "    </tr>\n",
       "  </thead>\n",
       "  <tbody>\n",
       "    <tr>\n",
       "      <th>0</th>\n",
       "      <td>2</td>\n",
       "      <td>1</td>\n",
       "      <td>3</td>\n",
       "      <td>1</td>\n",
       "      <td>-0.974400</td>\n",
       "    </tr>\n",
       "    <tr>\n",
       "      <th>1</th>\n",
       "      <td>2</td>\n",
       "      <td>1</td>\n",
       "      <td>3</td>\n",
       "      <td>1</td>\n",
       "      <td>-0.974400</td>\n",
       "    </tr>\n",
       "    <tr>\n",
       "      <th>2</th>\n",
       "      <td>2</td>\n",
       "      <td>1</td>\n",
       "      <td>3</td>\n",
       "      <td>1</td>\n",
       "      <td>-0.974400</td>\n",
       "    </tr>\n",
       "    <tr>\n",
       "      <th>3</th>\n",
       "      <td>3</td>\n",
       "      <td>2</td>\n",
       "      <td>5</td>\n",
       "      <td>1</td>\n",
       "      <td>-1.061541</td>\n",
       "    </tr>\n",
       "    <tr>\n",
       "      <th>4</th>\n",
       "      <td>3</td>\n",
       "      <td>4</td>\n",
       "      <td>7</td>\n",
       "      <td>1</td>\n",
       "      <td>-0.976211</td>\n",
       "    </tr>\n",
       "    <tr>\n",
       "      <th>5</th>\n",
       "      <td>5</td>\n",
       "      <td>5</td>\n",
       "      <td>10</td>\n",
       "      <td>1</td>\n",
       "      <td>-1.066162</td>\n",
       "    </tr>\n",
       "    <tr>\n",
       "      <th>6</th>\n",
       "      <td>7</td>\n",
       "      <td>5</td>\n",
       "      <td>12</td>\n",
       "      <td>1</td>\n",
       "      <td>-1.196848</td>\n",
       "    </tr>\n",
       "    <tr>\n",
       "      <th>7</th>\n",
       "      <td>2</td>\n",
       "      <td>5</td>\n",
       "      <td>7</td>\n",
       "      <td>1</td>\n",
       "      <td>-0.951798</td>\n",
       "    </tr>\n",
       "    <tr>\n",
       "      <th>8</th>\n",
       "      <td>8</td>\n",
       "      <td>9</td>\n",
       "      <td>13</td>\n",
       "      <td>1</td>\n",
       "      <td>-1.175923</td>\n",
       "    </tr>\n",
       "    <tr>\n",
       "      <th>9</th>\n",
       "      <td>9</td>\n",
       "      <td>10</td>\n",
       "      <td>13</td>\n",
       "      <td>1</td>\n",
       "      <td>-1.205353</td>\n",
       "    </tr>\n",
       "    <tr>\n",
       "      <th>10</th>\n",
       "      <td>10</td>\n",
       "      <td>50</td>\n",
       "      <td>12</td>\n",
       "      <td>1</td>\n",
       "      <td>-2.363511</td>\n",
       "    </tr>\n",
       "    <tr>\n",
       "      <th>11</th>\n",
       "      <td>11</td>\n",
       "      <td>45</td>\n",
       "      <td>13</td>\n",
       "      <td>1</td>\n",
       "      <td>-2.298734</td>\n",
       "    </tr>\n",
       "    <tr>\n",
       "      <th>12</th>\n",
       "      <td>12</td>\n",
       "      <td>50</td>\n",
       "      <td>15</td>\n",
       "      <td>-1</td>\n",
       "      <td>-2.368587</td>\n",
       "    </tr>\n",
       "    <tr>\n",
       "      <th>13</th>\n",
       "      <td>13</td>\n",
       "      <td>47</td>\n",
       "      <td>14</td>\n",
       "      <td>1</td>\n",
       "      <td>-2.330428</td>\n",
       "    </tr>\n",
       "    <tr>\n",
       "      <th>14</th>\n",
       "      <td>6</td>\n",
       "      <td>12</td>\n",
       "      <td>12</td>\n",
       "      <td>1</td>\n",
       "      <td>-1.221231</td>\n",
       "    </tr>\n",
       "  </tbody>\n",
       "</table>\n",
       "</div>"
      ],
      "text/plain": [
       "    hour  attendance  score  outlier       LOF\n",
       "0      2           1      3        1 -0.974400\n",
       "1      2           1      3        1 -0.974400\n",
       "2      2           1      3        1 -0.974400\n",
       "3      3           2      5        1 -1.061541\n",
       "4      3           4      7        1 -0.976211\n",
       "5      5           5     10        1 -1.066162\n",
       "6      7           5     12        1 -1.196848\n",
       "7      2           5      7        1 -0.951798\n",
       "8      8           9     13        1 -1.175923\n",
       "9      9          10     13        1 -1.205353\n",
       "10    10          50     12        1 -2.363511\n",
       "11    11          45     13        1 -2.298734\n",
       "12    12          50     15       -1 -2.368587\n",
       "13    13          47     14        1 -2.330428\n",
       "14     6          12     12        1 -1.221231"
      ]
     },
     "execution_count": 31,
     "metadata": {},
     "output_type": "execute_result"
    }
   ],
   "source": [
    "# ▶ LOF 값 확인\n",
    "# ▶ negative_outlier_factor_ : The opposite LOF of the training samples. LOF 값이 음수로 나옴.\n",
    "outlier.negative_outlier_factor_\n",
    "df_train[\"LOF\"]= outlier.negative_outlier_factor_\n",
    "df_train"
   ]
  },
  {
   "cell_type": "code",
   "execution_count": 32,
   "metadata": {
    "ExecuteTime": {
     "end_time": "2023-07-23T06:14:37.608659Z",
     "start_time": "2023-07-23T06:14:37.530180Z"
    },
    "colab": {
     "base_uri": "https://localhost:8080/",
     "height": 357
    },
    "executionInfo": {
     "elapsed": 927,
     "status": "ok",
     "timestamp": 1667280002369,
     "user": {
      "displayName": "박지환",
      "userId": "03562376240636475247"
     },
     "user_tz": -540
    },
    "id": "cDq_8FuDJwLm",
    "outputId": "ff3fa5d7-a4df-49b6-8ae2-5afda184f087"
   },
   "outputs": [
    {
     "data": {
      "image/png": "[encoded data removed]",
      "text/plain": [
       "<Figure size 900x600 with 1 Axes>"
      ]
     },
     "metadata": {},
     "output_type": "display_data"
    }
   ],
   "source": [
    "# ▶ 3D plot 및 확인\n",
    "import matplotlib.pyplot as plt\n",
    "from mpl_toolkits.mplot3d import Axes3D\n",
    "\n",
    "fig = plt.figure(figsize=(9, 6))\n",
    "ax = fig.add_subplot(111, projection='3d')\n",
    "\n",
    "df_red = df_train[df_train['outlier']==-1]\n",
    "df_green = df_train[df_train['outlier']==1]\n",
    "\n",
    "ax.scatter(df_red['hour'], df_red['attendance'],df_red['score'], color = 'r', alpha = 0.5);\n",
    "ax.scatter(df_green['hour'], df_green['attendance'],df_green['score'], color = 'g', alpha = 0.5);"
   ]
  },
  {
   "cell_type": "code",
   "execution_count": 33,
   "metadata": {
    "ExecuteTime": {
     "end_time": "2023-07-23T06:24:26.706900Z",
     "start_time": "2023-07-23T06:24:26.697901Z"
    }
   },
   "outputs": [],
   "source": [
    "# 글로벌, 로컬 관점에서 모두 LOF를 적용할 수 있다. \n",
    "# LOF 값을 이용하여 scoring 방법으로 outlier 탐지가 가능하다.\n",
    "# 연산량이 많고, 클러스터가 많으면 잘 고려해야 한다.\n",
    "# 실제 분석에서는 데이터 표준화가 필요하다. \n",
    "# n_neighbors, contamination  하이퍼 파라미터 조절 필요"
   ]
  },
  {
   "cell_type": "markdown",
   "metadata": {
    "id": "kLPtC9QpWbwT"
   },
   "source": [
    "##  Isolation Forest 이상 탐지(분류모델 기반 이상탐지)\n",
    "___\n",
    "* 먼저 Decision Tree부터 알고가자.\n",
    "    - https://bkshin.tistory.com/entry/%EB%A8%B8%EC%8B%A0%EB%9F%AC%EB%8B%9D-4-%EA%B2%B0%EC%A0%95-%ED%8A%B8%EB%A6%ACDecision-Tree\n",
    "* 그리고 Random Forest\n",
    "    - https://bkshin.tistory.com/entry/%EB%A8%B8%EC%8B%A0%EB%9F%AC%EB%8B%9D-5-%EB%9E%9C%EB%8D%A4-%ED%8F%AC%EB%A0%88%EC%8A%A4%ED%8A%B8Random-Forest%EC%99%80-%EC%95%99%EC%83%81%EB%B8%94Ensemble\n",
    "* 정의\n",
    "```\n",
    "# Unsupervised Anomaly Deteciotn 중 하나의 기법\n",
    "# 여러 개의 의사결정나무(decision tree)를 종합한 앙상블 기반의 이상탐지 기법\n",
    "# 의사결정나무를 지속적으로 분기시키면서 모든 데이터 관측치의 고립 정도 여부에 따라 이상치를 판별하는 방법\n",
    "# 비정상 데이터라면 의사결정나무 루트(root)에서 가까운 단계에서 고립(1~10 정도의 데이터인데, 100,000이란 데이터는 금방 고립될 것이다)\n",
    "# 정상 데이터라면 루트(root)에서 먼 단계에서 고립\n",
    "# 특정 관측치가 고립되는 Leaf 노드까지의 거리를 Outlier Score로 정의\n",
    "# 루트(root) 노드까지의 평균 거리가 짧을 수록 Outlier Score가 높아짐\n",
    "```\n",
    "<img src = \"https://drive.google.com/uc?id=1tcAaNi2mAcdxj__gM_uzJBN221xMhuAM\" width=\"450\" height=\"200\">\n",
    "<img src = \"https://drive.google.com/uc?id=15fCn00JASUkSO0dj7hM1TgpqJGGMKIld\" width=\"400\" height=\"\">\n",
    "\n",
    "* 장단점\n",
    "```\n",
    "  # [good] 군집기반 이상탐지 알고리즘(KNN, LOF)에 비해 계산량이 매우 적음 (※ Sampling 사용해서 Tree 생성)\n",
    "  # [good] Anomaly Detection 성능 우수 (※ Robust)\n",
    "  # [good] Train data에 이상치가 포함되지 않아도 잘 동작함 \n",
    "  # [bad] 분리를 위한 선을 수직과 수평으로만 자르기 때문에 잘못된 scoring이 발생할 수 있음 (※ 대안책 Extended Isolation Forest)\n",
    "      - 클러스터가 여러개인 데이터세트의 경우, 클러스터 중심에 있는데 아웃라이어 인데, 아니라고 하는 경우가 있음.\n",
    "      - Extended Isolation Forest는 원형이나 다른 방법으로 고립시킴.\n",
    "```\n",
    "  \n",
    "* 사용방법\n",
    "```\n",
    "# from sklearn.ensemble import IsolationForest\n",
    "# 데이터 현황(분포 및 특성) 파악 (차원축소나 클러스터링을 통해)\n",
    "# Hyper-paramter 결정(트리개수, 아웃라이어 관련)\n",
    "# 학습 및 예측\n",
    "# threshold 및 scoring (현업과 지속적으로 소통하면서 결정)\n",
    "```\n",
    "\n",
    "* 현업사례\n",
    "```\n",
    "# 로그 데이터 이상탐지\n",
    "# 품질관리를 위한 이상탐지\n",
    "```\n"
   ]
  },
  {
   "cell_type": "markdown",
   "metadata": {
    "id": "vuNnN6sMlNzm"
   },
   "source": [
    "### 실습\n",
    "___"
   ]
  },
  {
   "cell_type": "code",
   "execution_count": 28,
   "metadata": {
    "ExecuteTime": {
     "end_time": "2023-02-05T00:44:57.642541Z",
     "start_time": "2023-02-05T00:44:57.553554Z"
    },
    "id": "a3FKMcgBWe9p"
   },
   "outputs": [],
   "source": [
    "import numpy as np\n",
    "import pandas as pd\n",
    "from sklearn.ensemble import IsolationForest\n",
    "\n",
    "rng = np.random.RandomState(42)\n",
    "# ▶ Generating training data \n",
    "X_train = 0.2 * rng.randn(1000, 2)\n",
    "X_train = np.r_[X_train + 3, X_train]\n",
    "X_train = pd.DataFrame(X_train, columns = ['x1', 'x2'])\n",
    "\n",
    "# ▶ Generating new, 'normal' observation\n",
    "X_test = 0.2 * rng.randn(200, 2)\n",
    "X_test = np.r_[X_test + 3, X_test]\n",
    "X_test = pd.DataFrame(X_test, columns = ['x1', 'x2'])\n",
    "\n",
    "# ▶ Generating outliers\n",
    "X_outliers = rng.uniform(low=-1, high=5, size=(50, 2))\n",
    "X_outliers = pd.DataFrame(X_outliers, columns = ['x1', 'x2'])"
   ]
  },
  {
   "cell_type": "code",
   "execution_count": 29,
   "metadata": {
    "ExecuteTime": {
     "end_time": "2023-02-05T00:44:57.747542Z",
     "start_time": "2023-02-05T00:44:57.646543Z"
    },
    "colab": {
     "base_uri": "https://localhost:8080/",
     "height": 611
    },
    "executionInfo": {
     "elapsed": 693,
     "status": "ok",
     "timestamp": 1667282746239,
     "user": {
      "displayName": "박지환",
      "userId": "03562376240636475247"
     },
     "user_tz": -540
    },
    "id": "S8Mb4bpaYwHY",
    "outputId": "c7fca33a-1b93-4b8d-eb11-c7551ecf5796"
   },
   "outputs": [
    {
     "data": {
      "text/plain": [
       "<matplotlib.legend.Legend at 0x27deefab5b0>"
      ]
     },
     "execution_count": 29,
     "metadata": {},
     "output_type": "execute_result"
    },
    {
     "data": {
      "image/png": "[encoded data removed]",
      "text/plain": [
       "<Figure size 1000x1000 with 1 Axes>"
      ]
     },
     "metadata": {},
     "output_type": "display_data"
    }
   ],
   "source": [
    "import matplotlib.pyplot as plt\n",
    "plt.style.use(['dark_background'])\n",
    "plt.rcParams['figure.figsize'] = [10, 10]\n",
    "\n",
    "# ▶ Train set\n",
    "p1 = plt.scatter(X_train.x1, X_train.x2, c='white', s=20*2, edgecolor='k', label='training observations')\n",
    "\n",
    "# ▶ Test set, 정상 Sample로 구성\n",
    "p2 = plt.scatter(X_test.x1, X_test.x2, c='green', s=20*2, edgecolor='k', label='new regular obs.')\n",
    "\n",
    "# ▶ Outlier set\n",
    "p3 = plt.scatter(X_outliers.x1, X_outliers.x2, c='red', s=20*2, edgecolor='k', label='new abnormal obs.')\n",
    "\n",
    "plt.legend()\n",
    "# plt.gcf().set_size_inches(5, 5)"
   ]
  },
  {
   "cell_type": "code",
   "execution_count": 30,
   "metadata": {
    "ExecuteTime": {
     "end_time": "2023-02-05T00:44:57.912457Z",
     "start_time": "2023-02-05T00:44:57.748542Z"
    },
    "id": "QX0oBhMqYxlJ"
   },
   "outputs": [],
   "source": [
    "# ▶ Model 학습 및 예측\n",
    "# - n_estimators : 나무의 개수 (※ default 100)\n",
    "# - max_samples : 샘플링 데이터 개수 (※ 정수, 실수(0~1), 전체 데이터 개수 or 256 중 작은 수)\n",
    "# - contamination : 전체 데이터에서 이상치의 비율, 이 비율에 따라 이상치로 판단하기 위한 score의 threshold를 정의\n",
    "# - max_features : 학습 시 사용할 Feature (※ default 1, 모두 사용)\n",
    "\n",
    "clf = IsolationForest(max_samples=100, contamination = 0.05, random_state=42)\n",
    "clf.fit(X_train)\n",
    "y_pred_train = clf.predict(X_train)\n",
    "y_pred_test = clf.predict(X_test)\n",
    "y_pred_outliers = clf.predict(X_outliers)"
   ]
  },
  {
   "cell_type": "code",
   "execution_count": 31,
   "metadata": {
    "ExecuteTime": {
     "end_time": "2023-02-05T00:44:57.927466Z",
     "start_time": "2023-02-05T00:44:57.914457Z"
    },
    "colab": {
     "base_uri": "https://localhost:8080/"
    },
    "executionInfo": {
     "elapsed": 469,
     "status": "ok",
     "timestamp": 1667282751148,
     "user": {
      "displayName": "박지환",
      "userId": "03562376240636475247"
     },
     "user_tz": -540
    },
    "id": "opYSYGxYbKGw",
    "outputId": "4f0578b6-8f29-4a0b-cdc5-eae889b2fd35"
   },
   "outputs": [
    {
     "data": {
      "text/plain": [
       "array([-1, -1, -1,  1, -1, -1, -1,  1, -1, -1, -1, -1, -1, -1,  1, -1, -1,\n",
       "       -1, -1, -1, -1, -1, -1, -1, -1, -1, -1, -1, -1, -1, -1, -1, -1, -1,\n",
       "       -1, -1, -1, -1, -1, -1, -1, -1, -1, -1, -1, -1, -1, -1, -1,  1])"
      ]
     },
     "execution_count": 31,
     "metadata": {},
     "output_type": "execute_result"
    }
   ],
   "source": [
    "# ▶ -1 : Outlier / 1 : Normal\n",
    "y_pred_outliers"
   ]
  },
  {
   "cell_type": "code",
   "execution_count": 32,
   "metadata": {
    "ExecuteTime": {
     "end_time": "2023-02-05T00:44:57.957467Z",
     "start_time": "2023-02-05T00:44:57.928467Z"
    },
    "colab": {
     "base_uri": "https://localhost:8080/"
    },
    "executionInfo": {
     "elapsed": 1,
     "status": "ok",
     "timestamp": 1667282751606,
     "user": {
      "displayName": "박지환",
      "userId": "03562376240636475247"
     },
     "user_tz": -540
    },
    "id": "OlQqvdzRSSkN",
    "outputId": "e5015229-c796-4720-b6da-e4a38e9f9a43"
   },
   "outputs": [
    {
     "data": {
      "text/plain": [
       "array([-0.07397915, -0.10344893, -0.06839828,  0.00754778, -0.02594477,\n",
       "       -0.10344893, -0.03858639,  0.02753773, -0.06375707, -0.06988794,\n",
       "       -0.09467105, -0.07814982, -0.08015771, -0.04450317,  0.12127897,\n",
       "       -0.08251879, -0.0615171 , -0.0839109 , -0.08435337, -0.01324472,\n",
       "       -0.09467105, -0.08594633, -0.09647411, -0.09101499, -0.0648407 ,\n",
       "       -0.08185362, -0.0200524 , -0.03235862, -0.06813104, -0.07117076,\n",
       "       -0.09423924, -0.02588178, -0.05521445, -0.08650631, -0.03681947,\n",
       "       -0.04963059, -0.09951997, -0.09951997, -0.08342488, -0.03517144,\n",
       "       -0.06276045, -0.08643544, -0.08145166, -0.05683871, -0.06592612,\n",
       "       -0.00561074, -0.08398277, -0.03698318, -0.02039574,  0.00107149])"
      ]
     },
     "execution_count": 32,
     "metadata": {},
     "output_type": "execute_result"
    }
   ],
   "source": [
    "# ▶ Score, 낮을 수록 Outlier, 음수\n",
    "clf.decision_function(X_outliers)"
   ]
  },
  {
   "cell_type": "code",
   "execution_count": 33,
   "metadata": {
    "ExecuteTime": {
     "end_time": "2023-02-05T00:44:57.987467Z",
     "start_time": "2023-02-05T00:44:57.958467Z"
    },
    "colab": {
     "base_uri": "https://localhost:8080/"
    },
    "executionInfo": {
     "elapsed": 511,
     "status": "ok",
     "timestamp": 1667282755172,
     "user": {
      "displayName": "박지환",
      "userId": "03562376240636475247"
     },
     "user_tz": -540
    },
    "id": "i6FNhKLsSw0S",
    "outputId": "9be4377f-5e0c-4e23-a2de-4297fe9990df"
   },
   "outputs": [
    {
     "data": {
      "text/plain": [
       "array([0.13520326, 0.12503499, 0.04709557, 0.14023926, 0.11374595])"
      ]
     },
     "execution_count": 33,
     "metadata": {},
     "output_type": "execute_result"
    }
   ],
   "source": [
    "# ▶ Score, 높을 수록 Nomral(Inlier), 양수\n",
    "clf.decision_function(X_test)[0:5]"
   ]
  },
  {
   "cell_type": "code",
   "execution_count": 34,
   "metadata": {
    "ExecuteTime": {
     "end_time": "2023-02-05T00:44:58.092467Z",
     "start_time": "2023-02-05T00:44:57.988467Z"
    },
    "colab": {
     "base_uri": "https://localhost:8080/",
     "height": 592
    },
    "executionInfo": {
     "elapsed": 566,
     "status": "ok",
     "timestamp": 1667282756173,
     "user": {
      "displayName": "박지환",
      "userId": "03562376240636475247"
     },
     "user_tz": -540
    },
    "id": "9yOHpAUZbCj7",
    "outputId": "25730938-35b7-46ef-b58d-bce9666fb4cb"
   },
   "outputs": [
    {
     "data": {
      "image/png": "[encoded data removed]",
      "text/plain": [
       "<Figure size 1000x1000 with 1 Axes>"
      ]
     },
     "metadata": {},
     "output_type": "display_data"
    }
   ],
   "source": [
    "# ▶ Outlier Label 할당\n",
    "X_outliers = X_outliers.assign(y = y_pred_outliers)\n",
    "\n",
    "p1 = plt.scatter(X_train.x1, X_train.x2, c='white',\n",
    "                 s=20*2, edgecolor='k', label=\"training observations\")\n",
    "\n",
    "p2 = plt.scatter(X_outliers.loc[X_outliers.y == -1, ['x1']], \n",
    "                 X_outliers.loc[X_outliers.y == -1, ['x2']], \n",
    "                 c='red', s=20*2, edgecolor='k', label=\"detected outliers\")\n",
    "\n",
    "p3 = plt.scatter(X_outliers.loc[X_outliers.y == 1, ['x1']], \n",
    "                 X_outliers.loc[X_outliers.y == 1, ['x2']], \n",
    "                 c='green', s=20*2, edgecolor='k', label=\"detected regular obs\")\n",
    "plt.legend()\n",
    "plt.gcf().set_size_inches(10, 10)"
   ]
  },
  {
   "cell_type": "code",
   "execution_count": 35,
   "metadata": {
    "ExecuteTime": {
     "end_time": "2023-02-05T00:44:58.107467Z",
     "start_time": "2023-02-05T00:44:58.093467Z"
    },
    "colab": {
     "base_uri": "https://localhost:8080/"
    },
    "executionInfo": {
     "elapsed": 282,
     "status": "ok",
     "timestamp": 1667282826287,
     "user": {
      "displayName": "박지환",
      "userId": "03562376240636475247"
     },
     "user_tz": -540
    },
    "id": "TF7-wmoQoBWe",
    "outputId": "08d3b2f6-b3f4-4795-d169-c29517c8df11"
   },
   "outputs": [
    {
     "name": "stdout",
     "output_type": "stream",
     "text": [
      "테스트 데이터셋에서 정확도: 0.96\n",
      "이상치 데이터셋에서 정확도: 0.92\n"
     ]
    }
   ],
   "source": [
    "# ▶ 정상 data set을 얼만큼 정상으로 예측하였는지?\n",
    "print(\"테스트 데이터셋에서 정확도:\", list(y_pred_test).count(1)/y_pred_test.shape[0])\n",
    "\n",
    "# ▶ Outlier data set을 얼마나 Outlier로 예측하였는지?\n",
    "print(\"이상치 데이터셋에서 정확도:\", list(y_pred_outliers).count(-1)/y_pred_outliers.shape[0])"
   ]
  },
  {
   "cell_type": "code",
   "execution_count": null,
   "metadata": {},
   "outputs": [],
   "source": []
  },
  {
   "cell_type": "code",
   "execution_count": null,
   "metadata": {},
   "outputs": [],
   "source": [
    "AutoEncoder로 이상탐지 \n",
    "\n"
   ]
  },
  {
   "cell_type": "code",
   "execution_count": 3,
   "metadata": {},
   "outputs": [],
   "source": [
    "import numpy as np\n",
    "import pandas as pd\n",
    "import matplotlib.pyplot as plt\n",
    "import seaborn as sns\n",
    "\n",
    "from pyod.utils.data import generate_data\n",
    "X_train , X_test , y_train , y_test = generate_data(n_train=20000 ,\n",
    "                                                    n_test=2000 ,\n",
    "                                                    n_features= 300 ,\n",
    "                                                    contamination=0.1,\n",
    "                                                    random_state=0)"
   ]
  },
  {
   "cell_type": "code",
   "execution_count": 4,
   "metadata": {},
   "outputs": [
    {
     "name": "stdout",
     "output_type": "stream",
     "text": [
      "(20000, 300) (20000,)\n"
     ]
    }
   ],
   "source": [
    "print(X_train.shape, y_train.shape)"
   ]
  },
  {
   "cell_type": "code",
   "execution_count": 5,
   "metadata": {},
   "outputs": [],
   "source": [
    "from sklearn.preprocessing import StandardScaler\n",
    "sc= StandardScaler()\n",
    "X_train_sc = sc.fit_transform(X_train)\n",
    "X_test_sc = sc.transform(X_test)"
   ]
  },
  {
   "cell_type": "code",
   "execution_count": null,
   "metadata": {},
   "outputs": [],
   "source": []
  },
  {
   "cell_type": "code",
   "execution_count": 6,
   "metadata": {},
   "outputs": [
    {
     "name": "stdout",
     "output_type": "stream",
     "text": [
      "Model: \"model_2\"\n",
      "_________________________________________________________________\n",
      " Layer (type)                Output Shape              Param #   \n",
      "=================================================================\n",
      " input_3 (InputLayer)        [(None, 300)]             0         \n",
      "                                                                 \n",
      " model (Functional)          (None, 100)               80300     \n",
      "                                                                 \n",
      " model_1 (Functional)        (None, 300)               80500     \n",
      "                                                                 \n",
      "=================================================================\n",
      "Total params: 160,800\n",
      "Trainable params: 160,800\n",
      "Non-trainable params: 0\n",
      "_________________________________________________________________\n"
     ]
    }
   ],
   "source": [
    "from tensorflow.keras import layers\n",
    "from tensorflow.keras.models import Model\n",
    "n_features = 300 #종류 300종류 \n",
    "latent_dim = 100 #100차원\n",
    "\n",
    "#인코더\n",
    "enc_inputs = layers.Input(shape=(n_features,)) #sample 갯수 빼고  \n",
    "x = layers.Dense(200 , activation = \"relu\" )(enc_inputs) #은닉계층엔 relu\n",
    "enc_outputs = layers.Dense(latent_dim, activation=\"relu\")(x) #Latent vector # 차원의 개수 \n",
    "\n",
    "encoder = Model(inputs = enc_inputs , outputs= enc_outputs)\n",
    "\n",
    "#디코더 \n",
    "dec_inputs = layers.Input(shape=(latent_dim,))#Latent vector\n",
    "x = layers.Dense(200 , activation = \"relu\" )(dec_inputs) \n",
    "dec_outputs = layers.Dense(n_features)(x) \n",
    "\n",
    "decoder = Model(inputs = dec_inputs , outputs= dec_outputs)\n",
    "\n",
    "#오토인코더\n",
    "inputs = layers.Input(shape=(n_features,))\n",
    "latent = encoder(inputs)\n",
    "outputs = decoder(latent)\n",
    "\n",
    "\n",
    "AE = Model(inputs = inputs , outputs = outputs)\n",
    "AE.compile(optimizer=\"adam\",\n",
    "           loss = \"mse\")\n",
    "AE.summary()"
   ]
  },
  {
   "cell_type": "code",
   "execution_count": 7,
   "metadata": {},
   "outputs": [
    {
     "name": "stdout",
     "output_type": "stream",
     "text": [
      "Model: \"model\"\n",
      "_________________________________________________________________\n",
      " Layer (type)                Output Shape              Param #   \n",
      "=================================================================\n",
      " input_1 (InputLayer)        [(None, 300)]             0         \n",
      "                                                                 \n",
      " dense (Dense)               (None, 200)               60200     \n",
      "                                                                 \n",
      " dense_1 (Dense)             (None, 100)               20100     \n",
      "                                                                 \n",
      "=================================================================\n",
      "Total params: 80,300\n",
      "Trainable params: 80,300\n",
      "Non-trainable params: 0\n",
      "_________________________________________________________________\n"
     ]
    }
   ],
   "source": [
    "encoder.summary()"
   ]
  },
  {
   "cell_type": "code",
   "execution_count": 8,
   "metadata": {},
   "outputs": [
    {
     "name": "stdout",
     "output_type": "stream",
     "text": [
      "Model: \"model_1\"\n",
      "_________________________________________________________________\n",
      " Layer (type)                Output Shape              Param #   \n",
      "=================================================================\n",
      " input_2 (InputLayer)        [(None, 100)]             0         \n",
      "                                                                 \n",
      " dense_2 (Dense)             (None, 200)               20200     \n",
      "                                                                 \n",
      " dense_3 (Dense)             (None, 300)               60300     \n",
      "                                                                 \n",
      "=================================================================\n",
      "Total params: 80,500\n",
      "Trainable params: 80,500\n",
      "Non-trainable params: 0\n",
      "_________________________________________________________________\n"
     ]
    }
   ],
   "source": [
    "decoder.summary()"
   ]
  },
  {
   "cell_type": "code",
   "execution_count": 9,
   "metadata": {},
   "outputs": [
    {
     "name": "stdout",
     "output_type": "stream",
     "text": [
      "Epoch 1/20\n",
      "125/125 [==============================] - 1s 2ms/step - loss: 0.1920 - val_loss: 16.0061\n",
      "Epoch 2/20\n",
      "125/125 [==============================] - 0s 1ms/step - loss: 0.1725 - val_loss: 15.2013\n",
      "Epoch 3/20\n",
      "125/125 [==============================] - 0s 1ms/step - loss: 0.1664 - val_loss: 17.0707\n",
      "Epoch 4/20\n",
      "125/125 [==============================] - 0s 1ms/step - loss: 0.1654 - val_loss: 18.3962\n",
      "Epoch 5/20\n",
      "125/125 [==============================] - 0s 1ms/step - loss: 0.1637 - val_loss: 18.5818\n",
      "Epoch 6/20\n",
      "125/125 [==============================] - 0s 1ms/step - loss: 0.1625 - val_loss: 19.4282\n",
      "Epoch 7/20\n",
      "125/125 [==============================] - 0s 1ms/step - loss: 0.1621 - val_loss: 20.1990\n",
      "Epoch 8/20\n",
      "125/125 [==============================] - 0s 1ms/step - loss: 0.1618 - val_loss: 20.6357\n",
      "Epoch 9/20\n",
      "125/125 [==============================] - 0s 1ms/step - loss: 0.1615 - val_loss: 21.0827\n",
      "Epoch 10/20\n",
      "125/125 [==============================] - 0s 1ms/step - loss: 0.1612 - val_loss: 21.5463\n",
      "Epoch 11/20\n",
      "125/125 [==============================] - 0s 1ms/step - loss: 0.1610 - val_loss: 21.7029\n",
      "Epoch 12/20\n",
      "125/125 [==============================] - 0s 1ms/step - loss: 0.1608 - val_loss: 21.9627\n",
      "Epoch 13/20\n",
      "125/125 [==============================] - 0s 1ms/step - loss: 0.1607 - val_loss: 22.5567\n",
      "Epoch 14/20\n",
      "125/125 [==============================] - 0s 1ms/step - loss: 0.1605 - val_loss: 22.8007\n",
      "Epoch 15/20\n",
      "125/125 [==============================] - 0s 1ms/step - loss: 0.1603 - val_loss: 23.0306\n",
      "Epoch 16/20\n",
      "125/125 [==============================] - 0s 1ms/step - loss: 0.1597 - val_loss: 23.2211\n",
      "Epoch 17/20\n",
      "125/125 [==============================] - 0s 1ms/step - loss: 0.1596 - val_loss: 23.3637\n",
      "Epoch 18/20\n",
      "125/125 [==============================] - 0s 1ms/step - loss: 0.1595 - val_loss: 23.6086\n",
      "Epoch 19/20\n",
      "125/125 [==============================] - 0s 1ms/step - loss: 0.1594 - val_loss: 23.9257\n",
      "Epoch 20/20\n",
      "125/125 [==============================] - 0s 1ms/step - loss: 0.1593 - val_loss: 24.0150\n"
     ]
    },
    {
     "data": {
      "text/plain": [
       "<keras.callbacks.History at 0x1fa92d8d310>"
      ]
     },
     "execution_count": 9,
     "metadata": {},
     "output_type": "execute_result"
    }
   ],
   "source": [
    "#학습 \n",
    "AE.fit(X_train_sc, X_train_sc , validation_split=0.2 , batch_size = 128 , epochs = 20) #autoencoder 는 입력을 복원 , 출력도 같음 "
   ]
  },
  {
   "cell_type": "code",
   "execution_count": 10,
   "metadata": {},
   "outputs": [
    {
     "name": "stdout",
     "output_type": "stream",
     "text": [
      "63/63 [==============================] - 0s 514us/step\n"
     ]
    },
    {
     "data": {
      "text/plain": [
       "(2000, 300)"
      ]
     },
     "execution_count": 10,
     "metadata": {},
     "output_type": "execute_result"
    }
   ],
   "source": [
    "p_test = AE.predict(X_test_sc) # X_test 에 대해서 복원함. -> p _test로 지정\n",
    "p_test.shape #== X_test 랑 똑같음  "
   ]
  },
  {
   "cell_type": "code",
   "execution_count": 11,
   "metadata": {},
   "outputs": [
    {
     "data": {
      "text/plain": [
       "(2000, 300)"
      ]
     },
     "execution_count": 11,
     "metadata": {},
     "output_type": "execute_result"
    }
   ],
   "source": [
    "X_test.shape"
   ]
  },
  {
   "cell_type": "code",
   "execution_count": 12,
   "metadata": {},
   "outputs": [],
   "source": [
    "# rce (reconstruction Error ) 재건 에러 , 복원오차 \n",
    "def reconstruction_error(x, p):\n",
    "\n",
    "    # return np.mean(np.abs(x - p))\n",
    "    #x 랑 p 는 sample이 2000개있음. 2000 X 300개 의 싹다 평균내서 값 딱 1개나옴\n",
    "\n",
    "    # 그래서 샘플별로 따로 해줘야함. \n",
    "    return np.mean(np.abs(x - p) , axis = 1)\n",
    "\n",
    "rce = reconstruction_error(X_test_sc, p_test)"
   ]
  },
  {
   "cell_type": "code",
   "execution_count": 13,
   "metadata": {},
   "outputs": [
    {
     "data": {
      "text/plain": [
       "array([0.34828634, 0.32436085, 0.31487801, ..., 6.44203129, 6.39292754,\n",
       "       6.02524987])"
      ]
     },
     "execution_count": 13,
     "metadata": {},
     "output_type": "execute_result"
    }
   ],
   "source": [
    "rce"
   ]
  },
  {
   "cell_type": "code",
   "execution_count": 14,
   "metadata": {},
   "outputs": [
    {
     "data": {
      "text/plain": [
       "(2000,)"
      ]
     },
     "execution_count": 14,
     "metadata": {},
     "output_type": "execute_result"
    }
   ],
   "source": [
    "rce.shape #2000개 나옴 "
   ]
  },
  {
   "cell_type": "code",
   "execution_count": 15,
   "metadata": {},
   "outputs": [
    {
     "data": {
      "image/png": "[encoded data removed]",
      "text/plain": [
       "<Figure size 640x480 with 1 Axes>"
      ]
     },
     "metadata": {},
     "output_type": "display_data"
    }
   ],
   "source": [
    "\n",
    "plt.figure()\n",
    "sns.histplot(x=rce, hue=y_test ,bins =50, kde=True ) \n",
    "plt.show()\n"
   ]
  },
  {
   "cell_type": "code",
   "execution_count": 16,
   "metadata": {},
   "outputs": [
    {
     "data": {
      "image/png": "[encoded data removed]",
      "text/plain": [
       "<Figure size 640x480 with 1 Axes>"
      ]
     },
     "metadata": {},
     "output_type": "display_data"
    }
   ],
   "source": [
    "from sklearn.metrics import f1_score , recall_score , precision_score,roc_curve\n",
    "recall = []\n",
    "precision = []\n",
    "f1 = []\n",
    "\n",
    "thresholds = np.arange(0, 1, 0.01)\n",
    "for thres in thresholds:\n",
    "    results = rce > thres\n",
    "    recall.append(recall_score(y_test, results))\n",
    "    precision.append(precision_score(y_test, results))\n",
    "    f1.append(f1_score(y_test, results))\n",
    "\n",
    "plt.figure()\n",
    "plt.plot(thresholds, recall, label='recall')\n",
    "plt.plot(thresholds, precision, label='precision')\n",
    "plt.plot(thresholds, f1, label='f1')\n",
    "\n",
    "plt.axvline(thresholds[np.argmax(f1)], color='red', linestyle='--')\n",
    "plt.text(thresholds[np.argmax(f1)], 1.05, 'threshold = {}\\nf1 = {:.4f}'.format(thresholds[np.argmax(f1)], np.max(f1)),\n",
    "         color='red', horizontalalignment='center')\n",
    "\n",
    "plt.legend()\n",
    "plt.show()"
   ]
  },
  {
   "cell_type": "code",
   "execution_count": 17,
   "metadata": {},
   "outputs": [
    {
     "data": {
      "image/png": "[encoded data removed]",
      "text/plain": [
       "<Figure size 640x480 with 1 Axes>"
      ]
     },
     "metadata": {},
     "output_type": "display_data"
    }
   ],
   "source": [
    "fpr , tpr, _ = roc_curve(y_test,rce)\n",
    "plt.figure()\n",
    "plt.plot(fpr,tpr)\n",
    "plt.show()"
   ]
  },
  {
   "cell_type": "code",
   "execution_count": null,
   "metadata": {},
   "outputs": [],
   "source": [
    "#실습\n",
    "\n",
    "@@@@@@@@@@@@@@@@@@@@@@@@@@@@@@@@@@@\n",
    "@@@@@@@@@@@@@@@@@@@@@@@@@@@@@@@@@@@\n",
    "@@@@@@@@@@@@@@@@@@@@@@@@@@@@@@@@@@@\n",
    "@@@@@@@@@@@@@@@@@@@@@@@@@@@@@@@@@@@\n",
    "@@@@@@@@@@@@@@@@@@@@@@@@@@@@@@@@@@@ "
   ]
  },
  {
   "cell_type": "code",
   "execution_count": 20,
   "metadata": {},
   "outputs": [
    {
     "data": {
      "text/html": [
       "<div>\n",
       "<style scoped>\n",
       "    .dataframe tbody tr th:only-of-type {\n",
       "        vertical-align: middle;\n",
       "    }\n",
       "\n",
       "    .dataframe tbody tr th {\n",
       "        vertical-align: top;\n",
       "    }\n",
       "\n",
       "    .dataframe thead th {\n",
       "        text-align: right;\n",
       "    }\n",
       "</style>\n",
       "<table border=\"1\" class=\"dataframe\">\n",
       "  <thead>\n",
       "    <tr style=\"text-align: right;\">\n",
       "      <th></th>\n",
       "      <th>Time</th>\n",
       "      <th>V1</th>\n",
       "      <th>V2</th>\n",
       "      <th>V3</th>\n",
       "      <th>V4</th>\n",
       "      <th>V5</th>\n",
       "      <th>V6</th>\n",
       "      <th>V7</th>\n",
       "      <th>V8</th>\n",
       "      <th>V9</th>\n",
       "      <th>...</th>\n",
       "      <th>V21</th>\n",
       "      <th>V22</th>\n",
       "      <th>V23</th>\n",
       "      <th>V24</th>\n",
       "      <th>V25</th>\n",
       "      <th>V26</th>\n",
       "      <th>V27</th>\n",
       "      <th>V28</th>\n",
       "      <th>Amount</th>\n",
       "      <th>Class</th>\n",
       "    </tr>\n",
       "  </thead>\n",
       "  <tbody>\n",
       "    <tr>\n",
       "      <th>0</th>\n",
       "      <td>0.0</td>\n",
       "      <td>-1.359807</td>\n",
       "      <td>-0.072781</td>\n",
       "      <td>2.536347</td>\n",
       "      <td>1.378155</td>\n",
       "      <td>-0.338321</td>\n",
       "      <td>0.462388</td>\n",
       "      <td>0.239599</td>\n",
       "      <td>0.098698</td>\n",
       "      <td>0.363787</td>\n",
       "      <td>...</td>\n",
       "      <td>-0.018307</td>\n",
       "      <td>0.277838</td>\n",
       "      <td>-0.110474</td>\n",
       "      <td>0.066928</td>\n",
       "      <td>0.128539</td>\n",
       "      <td>-0.189115</td>\n",
       "      <td>0.133558</td>\n",
       "      <td>-0.021053</td>\n",
       "      <td>149.62</td>\n",
       "      <td>0</td>\n",
       "    </tr>\n",
       "  </tbody>\n",
       "</table>\n",
       "<p>1 rows × 31 columns</p>\n",
       "</div>"
      ],
      "text/plain": [
       "   Time        V1        V2        V3        V4        V5        V6        V7  \\\n",
       "0   0.0 -1.359807 -0.072781  2.536347  1.378155 -0.338321  0.462388  0.239599   \n",
       "\n",
       "         V8        V9  ...       V21       V22       V23       V24       V25  \\\n",
       "0  0.098698  0.363787  ... -0.018307  0.277838 -0.110474  0.066928  0.128539   \n",
       "\n",
       "        V26       V27       V28  Amount  Class  \n",
       "0 -0.189115  0.133558 -0.021053  149.62      0  \n",
       "\n",
       "[1 rows x 31 columns]"
      ]
     },
     "execution_count": 20,
     "metadata": {},
     "output_type": "execute_result"
    }
   ],
   "source": [
    "import numpy as np\n",
    "import pandas as pd\n",
    "import matplotlib.pyplot as plt\n",
    "import seaborn as sns\n",
    "\n",
    "from pyod.utils.data import generate_data\n",
    "data = pd.read_csv(\"creditcard.csv\") \n",
    "data.head(1)"
   ]
  },
  {
   "cell_type": "code",
   "execution_count": 21,
   "metadata": {
    "scrolled": true
   },
   "outputs": [
    {
     "data": {
      "text/html": [
       "<div>\n",
       "<style scoped>\n",
       "    .dataframe tbody tr th:only-of-type {\n",
       "        vertical-align: middle;\n",
       "    }\n",
       "\n",
       "    .dataframe tbody tr th {\n",
       "        vertical-align: top;\n",
       "    }\n",
       "\n",
       "    .dataframe thead th {\n",
       "        text-align: right;\n",
       "    }\n",
       "</style>\n",
       "<table border=\"1\" class=\"dataframe\">\n",
       "  <thead>\n",
       "    <tr style=\"text-align: right;\">\n",
       "      <th></th>\n",
       "      <th>V1</th>\n",
       "      <th>V2</th>\n",
       "      <th>V3</th>\n",
       "      <th>V4</th>\n",
       "      <th>V5</th>\n",
       "      <th>V6</th>\n",
       "      <th>V7</th>\n",
       "      <th>V8</th>\n",
       "      <th>V9</th>\n",
       "      <th>V10</th>\n",
       "      <th>...</th>\n",
       "      <th>V20</th>\n",
       "      <th>V21</th>\n",
       "      <th>V22</th>\n",
       "      <th>V23</th>\n",
       "      <th>V24</th>\n",
       "      <th>V25</th>\n",
       "      <th>V26</th>\n",
       "      <th>V27</th>\n",
       "      <th>V28</th>\n",
       "      <th>Amount</th>\n",
       "    </tr>\n",
       "  </thead>\n",
       "  <tbody>\n",
       "    <tr>\n",
       "      <th>0</th>\n",
       "      <td>-1.359807</td>\n",
       "      <td>-0.072781</td>\n",
       "      <td>2.536347</td>\n",
       "      <td>1.378155</td>\n",
       "      <td>-0.338321</td>\n",
       "      <td>0.462388</td>\n",
       "      <td>0.239599</td>\n",
       "      <td>0.098698</td>\n",
       "      <td>0.363787</td>\n",
       "      <td>0.090794</td>\n",
       "      <td>...</td>\n",
       "      <td>0.251412</td>\n",
       "      <td>-0.018307</td>\n",
       "      <td>0.277838</td>\n",
       "      <td>-0.110474</td>\n",
       "      <td>0.066928</td>\n",
       "      <td>0.128539</td>\n",
       "      <td>-0.189115</td>\n",
       "      <td>0.133558</td>\n",
       "      <td>-0.021053</td>\n",
       "      <td>149.62</td>\n",
       "    </tr>\n",
       "  </tbody>\n",
       "</table>\n",
       "<p>1 rows × 29 columns</p>\n",
       "</div>"
      ],
      "text/plain": [
       "         V1        V2        V3        V4        V5        V6        V7  \\\n",
       "0 -1.359807 -0.072781  2.536347  1.378155 -0.338321  0.462388  0.239599   \n",
       "\n",
       "         V8        V9       V10  ...       V20       V21       V22       V23  \\\n",
       "0  0.098698  0.363787  0.090794  ...  0.251412 -0.018307  0.277838 -0.110474   \n",
       "\n",
       "        V24       V25       V26       V27       V28  Amount  \n",
       "0  0.066928  0.128539 -0.189115  0.133558 -0.021053  149.62  \n",
       "\n",
       "[1 rows x 29 columns]"
      ]
     },
     "execution_count": 21,
     "metadata": {},
     "output_type": "execute_result"
    }
   ],
   "source": [
    "normal_data = data[data[\"Class\"] == 0].drop([\"Time\", \"Class\"], axis=1)\n",
    "anormal_data = data[data[\"Class\"] == 1].drop([\"Time\", \"Class\"], axis=1)\n",
    "normal_data.head(1)"
   ]
  },
  {
   "cell_type": "code",
   "execution_count": 22,
   "metadata": {},
   "outputs": [],
   "source": [
    "from sklearn.preprocessing import StandardScaler\n",
    "X_train = normal_data.values[:283823]\n",
    "X_normal_test = normal_data.values[283823:]\n",
    "X_anormal_test = anormal_data.values\n",
    "\n",
    "sc = StandardScaler()\n",
    "X_train_std = sc.fit_transform(X_train)\n",
    "X_normal_test_std = sc.transform(X_normal_test)\n",
    "X_anormal_test_std = sc.transform(X_anormal_test)"
   ]
  },
  {
   "cell_type": "code",
   "execution_count": 34,
   "metadata": {},
   "outputs": [
    {
     "name": "stdout",
     "output_type": "stream",
     "text": [
      "Model: \"model_20\"\n",
      "_________________________________________________________________\n",
      " Layer (type)                Output Shape              Param #   \n",
      "=================================================================\n",
      " input_21 (InputLayer)       [(None, 29)]              0         \n",
      "                                                                 \n",
      " model_18 (Functional)       (None, 10)                8010      \n",
      "                                                                 \n",
      " model_19 (Functional)       (None, 29)                8029      \n",
      "                                                                 \n",
      "=================================================================\n",
      "Total params: 16,039\n",
      "Trainable params: 16,039\n",
      "Non-trainable params: 0\n",
      "_________________________________________________________________\n"
     ]
    }
   ],
   "source": [
    "from tensorflow.keras import layers\n",
    "from tensorflow.keras.models import Model \n",
    "n_features = 29 \n",
    "latent_dim = 10\n",
    "\n",
    "#인코더\n",
    "enc_inputs = layers.Input(shape=(n_features,)) #sample 갯수 빼고  \n",
    "x = layers.Dense(200 , activation = \"relu\" )(enc_inputs) #은닉계층엔 relu\n",
    "enc_outputs = layers.Dense(latent_dim, activation=\"relu\")(x) #Latent vector # 차원의 개수 \n",
    "\n",
    "encoder = Model(inputs = enc_inputs , outputs= enc_outputs)\n",
    "\n",
    "#디코더 \n",
    "dec_inputs = layers.Input(shape=(latent_dim,))#Latent vector\n",
    "x = layers.Dense(200 , activation = \"relu\" )(dec_inputs) \n",
    "dec_outputs = layers.Dense(n_features)(x) \n",
    "\n",
    "decoder = Model(inputs = dec_inputs , outputs= dec_outputs)\n",
    "\n",
    "#오토인코더\n",
    "inputs = layers.Input(shape=(n_features,))\n",
    "latent = encoder(inputs)\n",
    "outputs = decoder(latent)\n",
    "\n",
    "\n",
    "AE = Model(inputs = inputs , outputs = outputs)\n",
    "AE.compile(optimizer=\"adam\",\n",
    "           loss = \"mse\")\n",
    "AE.summary()"
   ]
  },
  {
   "cell_type": "code",
   "execution_count": 37,
   "metadata": {},
   "outputs": [
    {
     "name": "stdout",
     "output_type": "stream",
     "text": [
      "Epoch 1/20\n",
      "1774/1774 [==============================] - 3s 1ms/step - loss: 0.3203 - val_loss: 0.2462\n",
      "Epoch 2/20\n",
      "1774/1774 [==============================] - 2s 1ms/step - loss: 0.1753 - val_loss: 0.1708\n",
      "Epoch 3/20\n",
      "1774/1774 [==============================] - 2s 1ms/step - loss: 0.1410 - val_loss: 0.1452\n",
      "Epoch 4/20\n",
      "1774/1774 [==============================] - 2s 1ms/step - loss: 0.1237 - val_loss: 0.1272\n",
      "Epoch 5/20\n",
      "1774/1774 [==============================] - 2s 1ms/step - loss: 0.1117 - val_loss: 0.1190\n",
      "Epoch 6/20\n",
      "1774/1774 [==============================] - 2s 1ms/step - loss: 0.1028 - val_loss: 0.1100\n",
      "Epoch 7/20\n",
      "1774/1774 [==============================] - 2s 1ms/step - loss: 0.0971 - val_loss: 0.1027\n",
      "Epoch 8/20\n",
      "1774/1774 [==============================] - 2s 1ms/step - loss: 0.0921 - val_loss: 0.0998\n",
      "Epoch 9/20\n",
      "1774/1774 [==============================] - 2s 1ms/step - loss: 0.0880 - val_loss: 0.0956\n",
      "Epoch 10/20\n",
      "1774/1774 [==============================] - 2s 1ms/step - loss: 0.0859 - val_loss: 0.0949\n",
      "Epoch 11/20\n",
      "1774/1774 [==============================] - 2s 1ms/step - loss: 0.0832 - val_loss: 0.0923\n",
      "Epoch 12/20\n",
      "1774/1774 [==============================] - 2s 1ms/step - loss: 0.0804 - val_loss: 0.0886\n",
      "Epoch 13/20\n",
      "1774/1774 [==============================] - 2s 1ms/step - loss: 0.0787 - val_loss: 0.0871\n",
      "Epoch 14/20\n",
      "1774/1774 [==============================] - 2s 1ms/step - loss: 0.0771 - val_loss: 0.0910\n",
      "Epoch 15/20\n",
      "1774/1774 [==============================] - 2s 1ms/step - loss: 0.0744 - val_loss: 0.0832\n",
      "Epoch 16/20\n",
      "1774/1774 [==============================] - 2s 1ms/step - loss: 0.0727 - val_loss: 0.0876\n",
      "Epoch 17/20\n",
      "1774/1774 [==============================] - 2s 1ms/step - loss: 0.0711 - val_loss: 0.0883\n",
      "Epoch 18/20\n",
      "1774/1774 [==============================] - 2s 1ms/step - loss: 0.0690 - val_loss: 0.0804\n",
      "Epoch 19/20\n",
      "1774/1774 [==============================] - 2s 1ms/step - loss: 0.0676 - val_loss: 0.0804\n",
      "Epoch 20/20\n",
      "1774/1774 [==============================] - 2s 1ms/step - loss: 0.0663 - val_loss: 0.0768\n"
     ]
    },
    {
     "data": {
      "text/plain": [
       "<keras.callbacks.History at 0x20f389799a0>"
      ]
     },
     "execution_count": 37,
     "metadata": {},
     "output_type": "execute_result"
    }
   ],
   "source": [
    "AE.fit(X_train_std, X_train_std , validation_split=0.2 , batch_size = 128 , epochs = 20)"
   ]
  },
  {
   "cell_type": "code",
   "execution_count": 38,
   "metadata": {},
   "outputs": [
    {
     "name": "stdout",
     "output_type": "stream",
     "text": [
      "16/16 [==============================] - 0s 2ms/step\n",
      "16/16 [==============================] - 0s 2ms/step\n"
     ]
    }
   ],
   "source": [
    "def reconstruction_error(x, p): \n",
    "    return np.mean(np.abs(x - p) , axis = 1)\n",
    "    \n",
    "p_normal = AE.predict(X_normal_test_std)\n",
    "p_anormal = AE.predict(X_anormal_test_std) \n",
    "\n",
    "\n",
    "\n",
    "re_normal = reconstruction_error(X_normal_test_std, p_normal) \n",
    "re_anormal = reconstruction_error(X_anormal_test_std, p_anormal) \n",
    "\n",
    "re_all = np.concatenate([re_normal, re_anormal])\n",
    "label_all = np.concatenate([np.zeros_like(re_normal),\n",
    "                            np.ones_like(re_anormal)]) \n"
   ]
  },
  {
   "cell_type": "code",
   "execution_count": 39,
   "metadata": {},
   "outputs": [
    {
     "data": {
      "image/png": "[encoded data removed]",
      "text/plain": [
       "<Figure size 640x480 with 1 Axes>"
      ]
     },
     "metadata": {},
     "output_type": "display_data"
    }
   ],
   "source": [
    "from sklearn.metrics import f1_score , recall_score , precision_score,roc_curve\n",
    "recall = []\n",
    "precision = []\n",
    "f1 = []\n",
    "\n",
    "thresholds = np.arange(0, 1, 0.01)\n",
    "for thres in thresholds:\n",
    "    results = re_all > thres\n",
    "    recall.append(recall_score(label_all, results))\n",
    "    precision.append(precision_score(label_all, results))\n",
    "    f1.append(f1_score(label_all, results))\n",
    "\n",
    "plt.figure()\n",
    "plt.plot(thresholds, recall, label='recall')\n",
    "plt.plot(thresholds, precision, label='precision')\n",
    "plt.plot(thresholds, f1, label='f1')\n",
    "\n",
    "plt.axvline(thresholds[np.argmax(f1)], color='red', linestyle='--')\n",
    "plt.text(thresholds[np.argmax(f1)], 1.05, 'threshold = {}\\nf1 = {:.4f}'.format(thresholds[np.argmax(f1)], np.max(f1)),\n",
    "         color='red', horizontalalignment='center')\n",
    "\n",
    "plt.legend()\n",
    "plt.show()"
   ]
  },
  {
   "cell_type": "code",
   "execution_count": 40,
   "metadata": {},
   "outputs": [
    {
     "data": {
      "image/png": "[encoded data removed]",
      "text/plain": [
       "<Figure size 640x480 with 1 Axes>"
      ]
     },
     "metadata": {},
     "output_type": "display_data"
    }
   ],
   "source": [
    "plt.figure()\n",
    "sns.histplot(x=re_all , bins=50, hue=label_all , kde=True)\n",
    "plt.show()"
   ]
  },
  {
   "cell_type": "code",
   "execution_count": 42,
   "metadata": {},
   "outputs": [
    {
     "data": {
      "image/png": "[encoded data removed]",
      "text/plain": [
       "<Figure size 640x480 with 1 Axes>"
      ]
     },
     "metadata": {},
     "output_type": "display_data"
    }
   ],
   "source": [
    "fpr , tpr, _ = roc_curve(label_all,re_all)\n",
    "plt.figure()\n",
    "plt.plot(fpr,tpr)\n",
    "plt.show()"
   ]
  },
  {
   "cell_type": "code",
   "execution_count": null,
   "metadata": {},
   "outputs": [],
   "source": []
  },
  {
   "cell_type": "code",
   "execution_count": null,
   "metadata": {},
   "outputs": [],
   "source": []
  },
  {
   "cell_type": "code",
   "execution_count": null,
   "metadata": {},
   "outputs": [],
   "source": []
  },
  {
   "cell_type": "code",
   "execution_count": null,
   "metadata": {},
   "outputs": [],
   "source": []
  },
  {
   "cell_type": "code",
   "execution_count": null,
   "metadata": {},
   "outputs": [],
   "source": []
  },
  {
   "cell_type": "code",
   "execution_count": null,
   "metadata": {},
   "outputs": [],
   "source": []
  },
  {
   "cell_type": "code",
   "execution_count": null,
   "metadata": {},
   "outputs": [],
   "source": []
  },
  {
   "cell_type": "code",
   "execution_count": null,
   "metadata": {},
   "outputs": [],
   "source": []
  },
  {
   "cell_type": "code",
   "execution_count": null,
   "metadata": {},
   "outputs": [],
   "source": []
  },
  {
   "cell_type": "code",
   "execution_count": null,
   "metadata": {},
   "outputs": [],
   "source": []
  },
  {
   "cell_type": "code",
   "execution_count": null,
   "metadata": {},
   "outputs": [],
   "source": []
  },
  {
   "cell_type": "code",
   "execution_count": null,
   "metadata": {},
   "outputs": [],
   "source": []
  },
  {
   "cell_type": "code",
   "execution_count": null,
   "metadata": {},
   "outputs": [],
   "source": []
  },
  {
   "cell_type": "code",
   "execution_count": null,
   "metadata": {},
   "outputs": [],
   "source": []
  }
 ],
 "metadata": {
  "colab": {
   "provenance": []
  },
  "hide_input": false,
  "kernelspec": {
   "display_name": "Python 3",
   "language": "python",
   "name": "python3"
  },
  "language_info": {
   "codemirror_mode": {
    "name": "ipython",
    "version": 3
   },
   "file_extension": ".py",
   "mimetype": "text/x-python",
   "name": "python",
   "nbconvert_exporter": "python",
   "pygments_lexer": "ipython3",
   "version": "3.6.13"
  },
  "toc": {
   "base_numbering": 1,
   "nav_menu": {},
   "number_sections": true,
   "sideBar": true,
   "skip_h1_title": false,
   "title_cell": "Table of Contents",
   "title_sidebar": "Contents",
   "toc_cell": false,
   "toc_position": {
    "height": "calc(100% - 180px)",
    "left": "10px",
    "top": "150px",
    "width": "424.925px"
   },
   "toc_section_display": true,
   "toc_window_display": true
  },
  "varInspector": {
   "cols": {
    "lenName": 16,
    "lenType": 16,
    "lenVar": 40
   },
   "kernels_config": {
    "python": {
     "delete_cmd_postfix": "",
     "delete_cmd_prefix": "del ",
     "library": "var_list.py",
     "varRefreshCmd": "print(var_dic_list())"
    },
    "r": {
     "delete_cmd_postfix": ") ",
     "delete_cmd_prefix": "rm(",
     "library": "var_list.r",
     "varRefreshCmd": "cat(var_dic_list()) "
    }
   },
   "types_to_exclude": [
    "module",
    "function",
    "builtin_function_or_method",
    "instance",
    "_Feature"
   ],
   "window_display": false
  }
 },
 "nbformat": 4,
 "nbformat_minor": 4
}
