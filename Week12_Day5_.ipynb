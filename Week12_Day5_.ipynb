{
 "cells": [
  {
   "cell_type": "code",
   "execution_count": 1,
   "id": "4a973851-52f8-4f3c-b65a-7a80d18dd06b",
   "metadata": {},
   "outputs": [],
   "source": [
    "합성곱 신경망(CNN)\n",
    "\n",
    "객체위치 파알(localization),\n",
    "객체탐지(object detection) ,\n",
    "비디오와 텍스트 처리 (video and test processing) 와 관련된 분야에 폭넓게 사용\n",
    "\n",
    "\n",
    "\n",
    "순환신경망(RNN)\n",
    "\n",
    "을 활용하는 것이 시퀀스 투 시퀀스(seqeunce to sequence) 학습분야에도\n",
    "합성곱 신경망을 적용할 수 있는 기법들이 소개 \n",
    "\n"
   ]
  },
  {
   "cell_type": "raw",
   "id": "989ceab9-0356-4f2b-8257-5e112e1704e0",
   "metadata": {},
   "source": [
    "YOLO는 \"You Only Look Once\"의 약자로, 객체 검출(Object Detection) 알고리즘 중 하나입니다. \n",
    "YOLO는 객체의 위치와 클래스를 실시간으로 탐지하는 데 사용되는 딥러닝 기반의 알고리즘입니다.\n",
    "\n",
    "\n",
    "기존의 객체 검출 알고리즘들은 이미지를 여러 번 처리하거나 다양한 크기의 윈도우를 슬라이딩하면서 객체를 검출하는 방식이었습니다.\n",
    "하지만 YOLO는 이와는 다른 방식으로 작동합니다. YOLO는 하나의 신경망을 통해 전체 이미지를 한 번에 처리하여 객체를 식별합니다\n",
    "이러한 접근 방식으로 인해 YOLO는 빠른 속도와 높은 정확도를 제공하며, 실시간 객체 검출에 매우 적합합니다.\n",
    "\n",
    "\n",
    "YOLO는 크게 두 가지 버전이 있습니다. YOLOv1은 2015년에 처음 소개되었으며, 빠른 속도와 강력한 성능으로 큰 반향을 일으켰습니다.\n",
    "이후 YOLOv2(또는 YOLO9000)가 개발되었으며, 여러 개의 크기의 그리드를 사용하는 등의 개선을 통해 정확도가 향상되었습니다. \n",
    "YOLOv3는 2018년에 소개되었으며, 추가적인 기법과 네트워크 구조 개선을 통해 더욱 높은 정확도를 가지게 되었습니다.\n",
    "\n",
    "\n",
    "객체 검출은 컴퓨터 비전과 인공지능 분야에서 매우 중요한 작업으로, 자율 주행차, 보안 시스템, 사물 감지 등 다양한 분야에 적용됩니다.\n",
    "YOLO는 이러한 객체 검출 작업을 효율적으로 수행할 수 있는 대표적인 알고리즘 중 하나로 손꼽힙니다."
   ]
  },
  {
   "cell_type": "code",
   "execution_count": null,
   "id": "4ef2a7ea-0638-4047-b7fd-433fcf661bf6",
   "metadata": {},
   "outputs": [],
   "source": []
  },
  {
   "cell_type": "code",
   "execution_count": null,
   "id": "02ffc4ca-56ae-458d-93ba-2233d16f06c1",
   "metadata": {},
   "outputs": [],
   "source": []
  },
  {
   "cell_type": "code",
   "execution_count": null,
   "id": "ab353df8-c1bb-4bab-969c-2b6da7f45dc9",
   "metadata": {},
   "outputs": [],
   "source": []
  },
  {
   "cell_type": "code",
   "execution_count": null,
   "id": "452ec641-c7d4-4d58-87a8-27611a3990ca",
   "metadata": {},
   "outputs": [],
   "source": []
  },
  {
   "cell_type": "code",
   "execution_count": null,
   "id": "59305f1c-2f35-477b-a92f-05c444d3bb5d",
   "metadata": {},
   "outputs": [],
   "source": []
  },
  {
   "cell_type": "code",
   "execution_count": null,
   "id": "fa621a45-985e-4710-bbe0-bee99a2e75ec",
   "metadata": {},
   "outputs": [],
   "source": []
  },
  {
   "cell_type": "code",
   "execution_count": null,
   "id": "e6c05d55-ec5a-4ebc-a0cc-7f2792e8b9c8",
   "metadata": {},
   "outputs": [],
   "source": []
  },
  {
   "cell_type": "code",
   "execution_count": null,
   "id": "effbaca0-63d1-41bb-a0ad-75272fc56089",
   "metadata": {},
   "outputs": [],
   "source": []
  },
  {
   "cell_type": "code",
   "execution_count": null,
   "id": "7a73c769-143a-495f-9258-88bb180d4b50",
   "metadata": {},
   "outputs": [],
   "source": [
    " "
   ]
  }
 ],
 "metadata": {
  "kernelspec": {
   "display_name": "Python 3 (ipykernel)",
   "language": "python",
   "name": "python3"
  },
  "language_info": {
   "codemirror_mode": {
    "name": "ipython",
    "version": 3
   },
   "file_extension": ".py",
   "mimetype": "text/x-python",
   "name": "python",
   "nbconvert_exporter": "python",
   "pygments_lexer": "ipython3",
   "version": "3.8.16"
  }
 },
 "nbformat": 4,
 "nbformat_minor": 5
}
