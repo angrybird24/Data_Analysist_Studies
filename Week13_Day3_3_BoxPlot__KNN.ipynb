{
 "cells": [
  {
   "cell_type": "markdown",
   "metadata": {
    "id": "xDmViO1_kZv1"
   },
   "source": [
    "##  Box plot 이상탐지(통계적 기법)\n",
    "___\n",
    "* 정의\n",
    "```\n",
    "# 많은 데이터를 눈으로 확인하기 어려울 때 그림을 이용해 데이터 집합의 범위와 중앙값을 빠르게 확인(EDA 때도 활용됨)\n",
    "# Box plot은 최소 정상값(min), 1사분위수(Q1), 중앙값(Q2), 3사분위수(Q3), 최대 정상값(max)를 나타내는 시각화 방법\n",
    "```\n",
    "<img src = \"https://drive.google.com/uc?id=1pQT3D1JhZXEL5Cc79fZJAd5F3LORGezM\">\n",
    "\n",
    "* 장단점\n",
    "```\n",
    "  # [good] 데이터를 눈으로 확인하기 어려울 때, 그림을 이용해 데이터의 범위를 빠르게 파악\n",
    "  # [good] 통계적으로 이상치(Outlier)가 있는지 확인 가능\n",
    "  # [good] 다양한 정보를 손쉽게 표현할 수 있음\n",
    "  # [bad] 위치정보에 기반하고 있기 때문에 분포를 확인하기는 어려움\n",
    "  # [bad] 가운데 선은 평균이 아니다. 오해 소지가 있음 (중앙값임!)\n",
    "```\n",
    "  \n",
    "* 사용방법\n",
    "```\n",
    "# 주어진 데이터에서 각 사분위수를 계산한다.\n",
    "# 그래프에서 제 1사분위수와 제 3사분위수를 기준으로 박스를 그린다.\n",
    "# 제 2사분위수에 해당하는 위치에 선을 긎는다.\n",
    "# 제 3사분위수에서 1.5*IQR을 더한 위치에 가로 선을 긋고 제 3사분위수부터 가로선까지 세로선을 긋는다.\n",
    "# 제 1사분위수에서 1.5*IQR을 뺀 위치에 가로 선을 긋고 제 1사분위수부터 가로선까지 세로선을 긋는다.\n",
    "# 4,5번에 그은 직선을 넘어서는 위치에 존재하는 값은 동그라미와 같은 기호로 표시한다.(이상치 의미) \n",
    "```\n",
    "\n",
    "* 용어\n",
    "```\n",
    "# median - 중앙값\n",
    "# IQR : 25% ~ 75%에 해당한 부분 \n",
    "# 75th Percentile : 제 3사분위수\n",
    "# 25th Percentile : 제 1사분위수\n",
    "# Whisker : 최댓값, 최솟값\n",
    "# Outlier : 이상치 (Q3+1.5 IQR, Q1-1.5 IQR)\n",
    "```\n",
    "\n",
    "* 현업사례\n",
    "```\n",
    "# EDA 단계에서 많이 사용됨\n",
    "# 공정 센서 데이터 이상탐지\n",
    "# 검사 및 측정 데이터 이상탐지 \n",
    "```\n",
    "   \n"
   ]
  },
  {
   "cell_type": "markdown",
   "metadata": {
    "id": "VWX9kZeY94G0"
   },
   "source": [
    "### 실습\n",
    "___"
   ]
  },
  {
   "cell_type": "code",
   "execution_count": 1,
   "metadata": {
    "ExecuteTime": {
     "end_time": "2023-07-25T23:54:47.086235Z",
     "start_time": "2023-07-25T23:54:46.241211Z"
    },
    "colab": {
     "base_uri": "https://localhost:8080/",
     "height": 368
    },
    "executionInfo": {
     "elapsed": 288,
     "status": "ok",
     "timestamp": 1667269740758,
     "user": {
      "displayName": "박지환",
      "userId": "03562376240636475247"
     },
     "user_tz": -540
    },
    "id": "pQ_6hocuil2C",
    "outputId": "eb6191aa-9462-455c-e384-48d072a347ab"
   },
   "outputs": [
    {
     "data": {
      "text/html": [
       "<div>\n",
       "<style scoped>\n",
       "    .dataframe tbody tr th:only-of-type {\n",
       "        vertical-align: middle;\n",
       "    }\n",
       "\n",
       "    .dataframe tbody tr th {\n",
       "        vertical-align: top;\n",
       "    }\n",
       "\n",
       "    .dataframe thead th {\n",
       "        text-align: right;\n",
       "    }\n",
       "</style>\n",
       "<table border=\"1\" class=\"dataframe\">\n",
       "  <thead>\n",
       "    <tr style=\"text-align: right;\">\n",
       "      <th></th>\n",
       "      <th>0</th>\n",
       "    </tr>\n",
       "  </thead>\n",
       "  <tbody>\n",
       "    <tr>\n",
       "      <th>0</th>\n",
       "      <td>34</td>\n",
       "    </tr>\n",
       "    <tr>\n",
       "      <th>1</th>\n",
       "      <td>5</td>\n",
       "    </tr>\n",
       "    <tr>\n",
       "      <th>2</th>\n",
       "      <td>9</td>\n",
       "    </tr>\n",
       "    <tr>\n",
       "      <th>3</th>\n",
       "      <td>10</td>\n",
       "    </tr>\n",
       "    <tr>\n",
       "      <th>4</th>\n",
       "      <td>15</td>\n",
       "    </tr>\n",
       "    <tr>\n",
       "      <th>5</th>\n",
       "      <td>20</td>\n",
       "    </tr>\n",
       "    <tr>\n",
       "      <th>6</th>\n",
       "      <td>1</td>\n",
       "    </tr>\n",
       "  </tbody>\n",
       "</table>\n",
       "</div>"
      ],
      "text/plain": [
       "    0\n",
       "0  34\n",
       "1   5\n",
       "2   9\n",
       "3  10\n",
       "4  15\n",
       "5  20\n",
       "6   1"
      ]
     },
     "execution_count": 1,
     "metadata": {},
     "output_type": "execute_result"
    }
   ],
   "source": [
    "# Box plot 그려보기\n",
    "import pandas as pd\n",
    "import matplotlib.pyplot as plt\n",
    "import seaborn as sns\n",
    "plt.style.use(['default'])\n",
    "\n",
    "test = pd.DataFrame([34, 5, 9, 10 ,15, 20, 1])\n",
    "test"
   ]
  },
  {
   "cell_type": "code",
   "execution_count": 2,
   "metadata": {
    "ExecuteTime": {
     "end_time": "2023-07-25T23:54:49.349185Z",
     "start_time": "2023-07-25T23:54:49.246259Z"
    }
   },
   "outputs": [
    {
     "data": {
      "text/plain": [
       "<AxesSubplot:>"
      ]
     },
     "execution_count": 2,
     "metadata": {},
     "output_type": "execute_result"
    },
    {
     "data": {
      "image/png": "[encoded data removed]",
      "text/plain": [
       "<Figure size 640x480 with 1 Axes>"
      ]
     },
     "metadata": {},
     "output_type": "display_data"
    }
   ],
   "source": [
    "test.boxplot()"
   ]
  },
  {
   "cell_type": "code",
   "execution_count": 1,
   "metadata": {},
   "outputs": [
    {
     "data": {
      "text/plain": [
       "array([ 0.13303697,  0.25633111,  0.4824381 ,  0.61171209, -0.73006475,\n",
       "       -0.47407335,  0.68175538, -1.10855813, -0.07718568,  1.4128389 ])"
      ]
     },
     "execution_count": 1,
     "metadata": {},
     "output_type": "execute_result"
    }
   ],
   "source": [
    "\n",
    "import numpy as np\n",
    "np.random.normal(0,1,10)"
   ]
  },
  {
   "cell_type": "code",
   "execution_count": 2,
   "metadata": {
    "ExecuteTime": {
     "end_time": "2023-07-26T00:17:24.098391Z",
     "start_time": "2023-07-26T00:17:24.028977Z"
    },
    "colab": {
     "base_uri": "https://localhost:8080/",
     "height": 455
    },
    "executionInfo": {
     "elapsed": 341,
     "status": "ok",
     "timestamp": 1667269899870,
     "user": {
      "displayName": "박지환",
      "userId": "03562376240636475247"
     },
     "user_tz": -540
    },
    "id": "ZxFVfpXj5MXy",
    "outputId": "13d467e5-8514-478a-8c8f-01c20094cb06"
   },
   "outputs": [
    {
     "data": {
      "image/png": "[encoded data removed]",
      "text/plain": [
       "<Figure size 640x480 with 1 Axes>"
      ]
     },
     "metadata": {},
     "output_type": "display_data"
    },
    {
     "name": "stdout",
     "output_type": "stream",
     "text": [
      "whiskers: [array([-1.25865349, -5.053003  ]), array([1.37786926, 5.24446703]), array([-3.97276636, -6.87369312]), array([-1.98294063,  0.79083774]), array([ 0.19106227, -2.43620231]), array([2.17928809, 5.14158213])]\n",
      "medians: [array([0.06944406, 0.06944406]), array([-3.02536664, -3.02536664]), array([1.17724746, 1.17724746])]\n",
      "fliers: [array([-6.59395461, -5.69853409, -5.55705476, -5.35712632, -5.49707034,\n",
      "        5.70173712,  5.90048949,  7.22365045]), array([-7.21994832, -7.03164603]), array([-2.9696508 , -3.52629527,  5.19588204,  5.8002967 ,  5.40217915,\n",
      "        6.20473275,  6.28004002])]\n"
     ]
    }
   ],
   "source": [
    "# Box plot 그려보기\n",
    "import numpy as np\n",
    "import matplotlib.pyplot as plt\n",
    "\n",
    "data_a = np.random.normal(0, 2.0, 1000) # normal -> 표준편차를 만족하는걸 만들기 (평균, 표준편차, 데이터개수) \n",
    "data_b = np.random.normal(-3.0, 1.5, 500)\n",
    "data_c = np.random.normal(1.2, 1.5, 1500)\n",
    "\n",
    "labels = ['data_a', 'data_b', 'data_c']\n",
    "\n",
    "box = plt.boxplot([data_a, data_b, data_c], whis=1.5)  # whis 1.5는 기본값\n",
    "plt.ylim(-10.0, 10.0)\n",
    "plt.xlabel('Data Type')\n",
    "plt.ylabel('Value')\n",
    "plt.show()\n",
    "\n",
    "whiskers = [item.get_ydata() for item in box['whiskers']]\n",
    "medians = [item.get_ydata() for item in box['medians']]\n",
    "fliers = [item.get_ydata() for item in box['fliers']]\n",
    "\n",
    "print('whiskers:', whiskers)\n",
    "print('medians:', medians)\n",
    "print('fliers:', fliers)"
   ]
  },
  {
   "cell_type": "code",
   "execution_count": null,
   "metadata": {},
   "outputs": [],
   "source": []
  },
  {
   "cell_type": "code",
   "execution_count": 10,
   "metadata": {
    "ExecuteTime": {
     "end_time": "2023-07-26T00:00:13.514306Z",
     "start_time": "2023-07-26T00:00:13.504300Z"
    }
   },
   "outputs": [
    {
     "data": {
      "text/plain": [
       "ShapiroResult(statistic=0.9987789392471313, pvalue=0.7411571741104126)"
      ]
     },
     "execution_count": 10,
     "metadata": {},
     "output_type": "execute_result"
    }
   ],
   "source": [
    "import scipy.stats as stats\n",
    "shapiro_test = stats.shapiro(data_a)\n",
    "shapiro_test\n",
    "# pvalue가 0.05 이상이므로 정규분포임."
   ]
  },
  {
   "cell_type": "code",
   "execution_count": 29,
   "metadata": {
    "ExecuteTime": {
     "end_time": "2023-07-26T00:11:09.772168Z",
     "start_time": "2023-07-26T00:11:09.710157Z"
    }
   },
   "outputs": [
    {
     "data": {
      "image/png": "[encoded data removed]",
      "text/plain": [
       "<Figure size 640x480 with 1 Axes>"
      ]
     },
     "metadata": {},
     "output_type": "display_data"
    }
   ],
   "source": [
    "# boxplot의 단점이 분포를 알 수 없는 것이다. -> X 알수있음!! \n",
    "df=pd.DataFrame(data_a)\n",
    "df.boxplot()\n",
    "\n",
    "# boxplot위에 점을 찍어보자. enumerate() : index과 column_name을 동시에 끄집어 내자.\n",
    "for i, d in enumerate(df):\n",
    "    y = df[d]\n",
    "    x = np.random.normal(i+1, 0.04, len(y)) # np.random.normal(loc, scale, size), loc: 분포의 평균, scale : 표준편차, size : 출력크기\n",
    "    plt.scatter(x, y, alpha=0.3, marker=\".\")\n",
    "    \n",
    "plt.title(\"boxplot with scatter\", fontsize=10)\n",
    "plt.show()"
   ]
  },
  {
   "cell_type": "code",
   "execution_count": 3,
   "metadata": {
    "ExecuteTime": {
     "end_time": "2023-07-19T07:31:55.883596Z",
     "start_time": "2023-07-19T07:31:55.877613Z"
    }
   },
   "outputs": [
    {
     "data": {
      "text/plain": [
       "-5.053003003142203"
      ]
     },
     "execution_count": 3,
     "metadata": {},
     "output_type": "execute_result"
    }
   ],
   "source": [
    "box['whiskers'][0].get_ydata()[1]"
   ]
  },
  {
   "cell_type": "code",
   "execution_count": 4,
   "metadata": {
    "ExecuteTime": {
     "end_time": "2023-07-19T07:32:19.914121Z",
     "start_time": "2023-07-19T07:32:19.907140Z"
    }
   },
   "outputs": [
    {
     "data": {
      "text/plain": [
       "5.244467029319025"
      ]
     },
     "execution_count": 4,
     "metadata": {},
     "output_type": "execute_result"
    }
   ],
   "source": [
    "box['whiskers'][1].get_ydata()[1]"
   ]
  },
  {
   "cell_type": "code",
   "execution_count": 5,
   "metadata": {
    "ExecuteTime": {
     "end_time": "2023-07-19T07:33:30.248728Z",
     "start_time": "2023-07-19T07:33:30.241696Z"
    }
   },
   "outputs": [
    {
     "data": {
      "text/plain": [
       "[<matplotlib.lines.Line2D at 0x21dd2355430>,\n",
       " <matplotlib.lines.Line2D at 0x21dd23556d0>,\n",
       " <matplotlib.lines.Line2D at 0x21dd2366700>,\n",
       " <matplotlib.lines.Line2D at 0x21dd23669a0>,\n",
       " <matplotlib.lines.Line2D at 0x21dd23709a0>,\n",
       " <matplotlib.lines.Line2D at 0x21dd2370c40>]"
      ]
     },
     "execution_count": 5,
     "metadata": {},
     "output_type": "execute_result"
    }
   ],
   "source": [
    "box['whiskers']"
   ]
  },
  {
   "cell_type": "code",
   "execution_count": 6,
   "metadata": {
    "ExecuteTime": {
     "end_time": "2023-07-19T07:37:06.549107Z",
     "start_time": "2023-07-19T07:37:06.535142Z"
    }
   },
   "outputs": [
    {
     "data": {
      "text/plain": [
       "array([-1.25865349, -5.053003  ])"
      ]
     },
     "execution_count": 6,
     "metadata": {},
     "output_type": "execute_result"
    }
   ],
   "source": [
    "box['whiskers'][0].get_ydata()"
   ]
  },
  {
   "cell_type": "code",
   "execution_count": 7,
   "metadata": {
    "ExecuteTime": {
     "end_time": "2023-07-19T07:41:13.101598Z",
     "start_time": "2023-07-19T07:41:13.095618Z"
    }
   },
   "outputs": [
    {
     "data": {
      "text/plain": [
       "array([1.37786926, 5.24446703])"
      ]
     },
     "execution_count": 7,
     "metadata": {},
     "output_type": "execute_result"
    }
   ],
   "source": [
    "box['whiskers'][1].get_ydata()"
   ]
  },
  {
   "cell_type": "code",
   "execution_count": 8,
   "metadata": {
    "ExecuteTime": {
     "end_time": "2023-07-19T07:39:29.805955Z",
     "start_time": "2023-07-19T07:39:29.790825Z"
    }
   },
   "outputs": [
    {
     "data": {
      "text/plain": [
       "array([-1.25865349, -1.25865349,  1.37786926,  1.37786926, -1.25865349])"
      ]
     },
     "execution_count": 8,
     "metadata": {},
     "output_type": "execute_result"
    }
   ],
   "source": [
    "box['boxes'][0].get_ydata()"
   ]
  },
  {
   "cell_type": "code",
   "execution_count": 9,
   "metadata": {
    "ExecuteTime": {
     "end_time": "2023-07-19T07:34:29.609496Z",
     "start_time": "2023-07-19T07:34:29.601522Z"
    }
   },
   "outputs": [
    {
     "data": {
      "text/plain": [
       "array([-6.59395461, -5.69853409, -5.55705476, -5.35712632, -5.49707034,\n",
       "        5.70173712,  5.90048949,  7.22365045])"
      ]
     },
     "execution_count": 9,
     "metadata": {},
     "output_type": "execute_result"
    }
   ],
   "source": [
    "box['fliers'][0].get_ydata()"
   ]
  },
  {
   "cell_type": "code",
   "execution_count": 56,
   "metadata": {
    "ExecuteTime": {
     "end_time": "2023-07-26T00:14:03.939489Z",
     "start_time": "2023-07-26T00:14:03.925489Z"
    }
   },
   "outputs": [],
   "source": [
    "import pandas as pd\n",
    "# Outlier 검출하기\n",
    "def get_box_plot_data(labels, bp):\n",
    "    rows_list = []\n",
    "    for i in range(len(labels)):\n",
    "        dict1 = {}\n",
    "        dict1['label'] = labels[i]\n",
    "        dict1['lower_whisker'] = bp['whiskers'][i*2].get_ydata()[1]\n",
    "        dict1['lower_quartile'] = bp['boxes'][i].get_ydata()[1]\n",
    "        dict1['median'] = bp['medians'][i].get_ydata()[1]\n",
    "        dict1['upper_quartile'] = bp['boxes'][i].get_ydata()[2]\n",
    "        dict1['upper_whisker'] = bp['whiskers'][(i*2)+1].get_ydata()[1]\n",
    "        dict1['Outlier'] = bp['fliers'][i].get_ydata()\n",
    "        rows_list.append(dict1)\n",
    "\n",
    "    return pd.DataFrame(rows_list)"
   ]
  },
  {
   "cell_type": "code",
   "execution_count": null,
   "metadata": {},
   "outputs": [],
   "source": [
    "\n"
   ]
  },
  {
   "cell_type": "code",
   "execution_count": 14,
   "metadata": {
    "ExecuteTime": {
     "end_time": "2023-07-26T00:14:04.825935Z",
     "start_time": "2023-07-26T00:14:04.793922Z"
    }
   },
   "outputs": [
    {
     "data": {
      "text/html": [
       "<div>\n",
       "<style scoped>\n",
       "    .dataframe tbody tr th:only-of-type {\n",
       "        vertical-align: middle;\n",
       "    }\n",
       "\n",
       "    .dataframe tbody tr th {\n",
       "        vertical-align: top;\n",
       "    }\n",
       "\n",
       "    .dataframe thead th {\n",
       "        text-align: right;\n",
       "    }\n",
       "</style>\n",
       "<table border=\"1\" class=\"dataframe\">\n",
       "  <thead>\n",
       "    <tr style=\"text-align: right;\">\n",
       "      <th></th>\n",
       "      <th>label</th>\n",
       "      <th>lower_whisker</th>\n",
       "      <th>lower_quartile</th>\n",
       "      <th>median</th>\n",
       "      <th>upper_quartile</th>\n",
       "      <th>upper_whisker</th>\n",
       "      <th>Outlier</th>\n",
       "    </tr>\n",
       "  </thead>\n",
       "  <tbody>\n",
       "    <tr>\n",
       "      <th>0</th>\n",
       "      <td>data_a</td>\n",
       "      <td>-5.053003</td>\n",
       "      <td>-1.258653</td>\n",
       "      <td>0.069444</td>\n",
       "      <td>1.377869</td>\n",
       "      <td>5.244467</td>\n",
       "      <td>[-6.593954607929242, -5.698534092765925, -5.55...</td>\n",
       "    </tr>\n",
       "    <tr>\n",
       "      <th>1</th>\n",
       "      <td>data_b</td>\n",
       "      <td>-6.873693</td>\n",
       "      <td>-3.972766</td>\n",
       "      <td>-3.025367</td>\n",
       "      <td>-1.982941</td>\n",
       "      <td>0.790838</td>\n",
       "      <td>[-7.219948322948841, -7.0316460308456135]</td>\n",
       "    </tr>\n",
       "    <tr>\n",
       "      <th>2</th>\n",
       "      <td>data_c</td>\n",
       "      <td>-2.436202</td>\n",
       "      <td>0.191062</td>\n",
       "      <td>1.177247</td>\n",
       "      <td>2.179288</td>\n",
       "      <td>5.141582</td>\n",
       "      <td>[-2.9696507983001936, -3.526295270644927, 5.19...</td>\n",
       "    </tr>\n",
       "  </tbody>\n",
       "</table>\n",
       "</div>"
      ],
      "text/plain": [
       "    label  lower_whisker  lower_quartile    median  upper_quartile  \\\n",
       "0  data_a      -5.053003       -1.258653  0.069444        1.377869   \n",
       "1  data_b      -6.873693       -3.972766 -3.025367       -1.982941   \n",
       "2  data_c      -2.436202        0.191062  1.177247        2.179288   \n",
       "\n",
       "   upper_whisker                                            Outlier  \n",
       "0       5.244467  [-6.593954607929242, -5.698534092765925, -5.55...  \n",
       "1       0.790838          [-7.219948322948841, -7.0316460308456135]  \n",
       "2       5.141582  [-2.9696507983001936, -3.526295270644927, 5.19...  "
      ]
     },
     "execution_count": 14,
     "metadata": {},
     "output_type": "execute_result"
    }
   ],
   "source": [
    "# Box plot summary\n",
    "get_box_plot_data(labels, box)"
   ]
  },
  {
   "cell_type": "code",
   "execution_count": 15,
   "metadata": {
    "ExecuteTime": {
     "end_time": "2023-07-26T00:14:08.893852Z",
     "start_time": "2023-07-26T00:14:08.886853Z"
    }
   },
   "outputs": [
    {
     "data": {
      "text/plain": [
       "[array([-6.59395461, -5.69853409, -5.55705476, -5.35712632, -5.49707034,\n",
       "         5.70173712,  5.90048949,  7.22365045]),\n",
       " array([-7.21994832, -7.03164603]),\n",
       " array([-2.9696508 , -3.52629527,  5.19588204,  5.8002967 ,  5.40217915,\n",
       "         6.20473275,  6.28004002])]"
      ]
     },
     "execution_count": 15,
     "metadata": {},
     "output_type": "execute_result"
    }
   ],
   "source": [
    "# Box plot Outlier 객체 출력\n",
    "fliers = [item.get_ydata() for item in box['fliers']]\n",
    "fliers"
   ]
  },
  {
   "cell_type": "code",
   "execution_count": null,
   "metadata": {},
   "outputs": [],
   "source": []
  },
  {
   "cell_type": "code",
   "execution_count": null,
   "metadata": {},
   "outputs": [],
   "source": []
  },
  {
   "cell_type": "code",
   "execution_count": null,
   "metadata": {},
   "outputs": [],
   "source": [
    "-seaborn 에서 load-datasets() 해서 iris 데이터 가져오기"
   ]
  },
  {
   "cell_type": "code",
   "execution_count": 120,
   "metadata": {
    "scrolled": true
   },
   "outputs": [
    {
     "data": {
      "text/html": [
       "<div>\n",
       "<style scoped>\n",
       "    .dataframe tbody tr th:only-of-type {\n",
       "        vertical-align: middle;\n",
       "    }\n",
       "\n",
       "    .dataframe tbody tr th {\n",
       "        vertical-align: top;\n",
       "    }\n",
       "\n",
       "    .dataframe thead th {\n",
       "        text-align: right;\n",
       "    }\n",
       "</style>\n",
       "<table border=\"1\" class=\"dataframe\">\n",
       "  <thead>\n",
       "    <tr style=\"text-align: right;\">\n",
       "      <th></th>\n",
       "      <th>sepal_length</th>\n",
       "      <th>sepal_width</th>\n",
       "      <th>petal_length</th>\n",
       "      <th>petal_width</th>\n",
       "      <th>species</th>\n",
       "    </tr>\n",
       "  </thead>\n",
       "  <tbody>\n",
       "    <tr>\n",
       "      <th>0</th>\n",
       "      <td>5.1</td>\n",
       "      <td>3.5</td>\n",
       "      <td>1.4</td>\n",
       "      <td>0.2</td>\n",
       "      <td>setosa</td>\n",
       "    </tr>\n",
       "    <tr>\n",
       "      <th>1</th>\n",
       "      <td>4.9</td>\n",
       "      <td>3.0</td>\n",
       "      <td>1.4</td>\n",
       "      <td>0.2</td>\n",
       "      <td>setosa</td>\n",
       "    </tr>\n",
       "    <tr>\n",
       "      <th>2</th>\n",
       "      <td>4.7</td>\n",
       "      <td>3.2</td>\n",
       "      <td>1.3</td>\n",
       "      <td>0.2</td>\n",
       "      <td>setosa</td>\n",
       "    </tr>\n",
       "    <tr>\n",
       "      <th>3</th>\n",
       "      <td>4.6</td>\n",
       "      <td>3.1</td>\n",
       "      <td>1.5</td>\n",
       "      <td>0.2</td>\n",
       "      <td>setosa</td>\n",
       "    </tr>\n",
       "    <tr>\n",
       "      <th>4</th>\n",
       "      <td>5.0</td>\n",
       "      <td>3.6</td>\n",
       "      <td>1.4</td>\n",
       "      <td>0.2</td>\n",
       "      <td>setosa</td>\n",
       "    </tr>\n",
       "    <tr>\n",
       "      <th>...</th>\n",
       "      <td>...</td>\n",
       "      <td>...</td>\n",
       "      <td>...</td>\n",
       "      <td>...</td>\n",
       "      <td>...</td>\n",
       "    </tr>\n",
       "    <tr>\n",
       "      <th>145</th>\n",
       "      <td>6.7</td>\n",
       "      <td>3.0</td>\n",
       "      <td>5.2</td>\n",
       "      <td>2.3</td>\n",
       "      <td>virginica</td>\n",
       "    </tr>\n",
       "    <tr>\n",
       "      <th>146</th>\n",
       "      <td>6.3</td>\n",
       "      <td>2.5</td>\n",
       "      <td>5.0</td>\n",
       "      <td>1.9</td>\n",
       "      <td>virginica</td>\n",
       "    </tr>\n",
       "    <tr>\n",
       "      <th>147</th>\n",
       "      <td>6.5</td>\n",
       "      <td>3.0</td>\n",
       "      <td>5.2</td>\n",
       "      <td>2.0</td>\n",
       "      <td>virginica</td>\n",
       "    </tr>\n",
       "    <tr>\n",
       "      <th>148</th>\n",
       "      <td>6.2</td>\n",
       "      <td>3.4</td>\n",
       "      <td>5.4</td>\n",
       "      <td>2.3</td>\n",
       "      <td>virginica</td>\n",
       "    </tr>\n",
       "    <tr>\n",
       "      <th>149</th>\n",
       "      <td>5.9</td>\n",
       "      <td>3.0</td>\n",
       "      <td>5.1</td>\n",
       "      <td>1.8</td>\n",
       "      <td>virginica</td>\n",
       "    </tr>\n",
       "  </tbody>\n",
       "</table>\n",
       "<p>150 rows × 5 columns</p>\n",
       "</div>"
      ],
      "text/plain": [
       "     sepal_length  sepal_width  petal_length  petal_width    species\n",
       "0             5.1          3.5           1.4          0.2     setosa\n",
       "1             4.9          3.0           1.4          0.2     setosa\n",
       "2             4.7          3.2           1.3          0.2     setosa\n",
       "3             4.6          3.1           1.5          0.2     setosa\n",
       "4             5.0          3.6           1.4          0.2     setosa\n",
       "..            ...          ...           ...          ...        ...\n",
       "145           6.7          3.0           5.2          2.3  virginica\n",
       "146           6.3          2.5           5.0          1.9  virginica\n",
       "147           6.5          3.0           5.2          2.0  virginica\n",
       "148           6.2          3.4           5.4          2.3  virginica\n",
       "149           5.9          3.0           5.1          1.8  virginica\n",
       "\n",
       "[150 rows x 5 columns]"
      ]
     },
     "execution_count": 120,
     "metadata": {},
     "output_type": "execute_result"
    }
   ],
   "source": [
    "import seaborn as sns\n",
    "df = sns.load_dataset(\"iris\")\n",
    "df"
   ]
  },
  {
   "cell_type": "code",
   "execution_count": 121,
   "metadata": {},
   "outputs": [
    {
     "data": {
      "image/png": "[encoded data removed]",
      "text/plain": [
       "<Figure size 800x500 with 4 Axes>"
      ]
     },
     "metadata": {},
     "output_type": "display_data"
    }
   ],
   "source": [
    "plt.figure(figsize=(8, 5))    \n",
    "plt.subplot(2, 2, 1)  \n",
    "box = plt.boxplot(df[\"sepal_length\"])\n",
    "plt.title(\"Sepal Length\")\n",
    "plt.subplot(2, 2, 2)  \n",
    "box1 = plt.boxplot(df[\"sepal_width\"])\n",
    "plt.title(\"sepal_width\")\n",
    "plt.subplot(2, 2, 3) \n",
    "box2 = plt.boxplot(df[\"petal_length\"])\n",
    "plt.title(\"petal_length\")\n",
    "plt.subplot(2, 2, 4) \n",
    "box3 = plt.boxplot(df[\"petal_width\"])\n",
    "plt.title(\"petal_width\")\n",
    "plt.tight_layout()   \n",
    "plt.show() \n",
    " "
   ]
  },
  {
   "cell_type": "code",
   "execution_count": 122,
   "metadata": {},
   "outputs": [
    {
     "name": "stdout",
     "output_type": "stream",
     "text": [
      "whiskers: [array([5.1, 4.3]), array([6.4, 7.9])]\n",
      "medians: [array([5.8, 5.8])]\n",
      "fliers: [array([], dtype=float64)]\n"
     ]
    }
   ],
   "source": [
    "whiskers = [item.get_ydata() for item in box['whiskers']]\n",
    "medians = [item.get_ydata() for item in box['medians']]\n",
    "fliers = [item.get_ydata() for item in box['fliers']] \n",
    "print('whiskers:', whiskers)\n",
    "print('medians:', medians)\n",
    "print('fliers:', fliers)"
   ]
  },
  {
   "cell_type": "code",
   "execution_count": 123,
   "metadata": {
    "scrolled": true
   },
   "outputs": [
    {
     "data": {
      "text/html": [
       "<div>\n",
       "<style scoped>\n",
       "    .dataframe tbody tr th:only-of-type {\n",
       "        vertical-align: middle;\n",
       "    }\n",
       "\n",
       "    .dataframe tbody tr th {\n",
       "        vertical-align: top;\n",
       "    }\n",
       "\n",
       "    .dataframe thead th {\n",
       "        text-align: right;\n",
       "    }\n",
       "</style>\n",
       "<table border=\"1\" class=\"dataframe\">\n",
       "  <thead>\n",
       "    <tr style=\"text-align: right;\">\n",
       "      <th></th>\n",
       "      <th>lower_whisker</th>\n",
       "      <th>lower_quartile</th>\n",
       "      <th>median</th>\n",
       "      <th>upper_quartile</th>\n",
       "      <th>upper_whisker</th>\n",
       "      <th>Outlier</th>\n",
       "    </tr>\n",
       "    <tr>\n",
       "      <th>label</th>\n",
       "      <th></th>\n",
       "      <th></th>\n",
       "      <th></th>\n",
       "      <th></th>\n",
       "      <th></th>\n",
       "      <th></th>\n",
       "    </tr>\n",
       "  </thead>\n",
       "  <tbody>\n",
       "    <tr>\n",
       "      <th>sepal_length</th>\n",
       "      <td>4.3</td>\n",
       "      <td>5.1</td>\n",
       "      <td>5.80</td>\n",
       "      <td>6.4</td>\n",
       "      <td>7.9</td>\n",
       "      <td>[]</td>\n",
       "    </tr>\n",
       "    <tr>\n",
       "      <th>sepal_width</th>\n",
       "      <td>2.2</td>\n",
       "      <td>2.8</td>\n",
       "      <td>3.00</td>\n",
       "      <td>3.3</td>\n",
       "      <td>4.0</td>\n",
       "      <td>[2.0, 4.4, 4.1, 4.2]</td>\n",
       "    </tr>\n",
       "    <tr>\n",
       "      <th>petal_length</th>\n",
       "      <td>1.0</td>\n",
       "      <td>1.6</td>\n",
       "      <td>4.35</td>\n",
       "      <td>5.1</td>\n",
       "      <td>6.9</td>\n",
       "      <td>[]</td>\n",
       "    </tr>\n",
       "    <tr>\n",
       "      <th>petal_width</th>\n",
       "      <td>0.1</td>\n",
       "      <td>0.3</td>\n",
       "      <td>1.30</td>\n",
       "      <td>1.8</td>\n",
       "      <td>2.5</td>\n",
       "      <td>[]</td>\n",
       "    </tr>\n",
       "  </tbody>\n",
       "</table>\n",
       "</div>"
      ],
      "text/plain": [
       "              lower_whisker  lower_quartile  median  upper_quartile  \\\n",
       "label                                                                 \n",
       "sepal_length            4.3             5.1    5.80             6.4   \n",
       "sepal_width             2.2             2.8    3.00             3.3   \n",
       "petal_length            1.0             1.6    4.35             5.1   \n",
       "petal_width             0.1             0.3    1.30             1.8   \n",
       "\n",
       "              upper_whisker               Outlier  \n",
       "label                                              \n",
       "sepal_length            7.9                    []  \n",
       "sepal_width             4.0  [2.0, 4.4, 4.1, 4.2]  \n",
       "petal_length            6.9                    []  \n",
       "petal_width             2.5                    []  "
      ]
     },
     "execution_count": 123,
     "metadata": {},
     "output_type": "execute_result"
    }
   ],
   "source": [
    "label = [\"sepal_length\"]\n",
    "label1 = [\"sepal_width\"]\n",
    "label2 = [\"petal_length\"]\n",
    "label3 = [\"petal_width\"]\n",
    "\n",
    "a =get_box_plot_data(label, box)\n",
    "b =get_box_plot_data(label1, box1)\n",
    "c =get_box_plot_data(label2, box2)\n",
    "d = get_box_plot_data(label3, box3)\n",
    "\n",
    "df_describe = pd.concat([a,b,c,d],axis=0) \n",
    "df_describe.set_index(\"label\", inplace=True) \n",
    "df_describe"
   ]
  },
  {
   "cell_type": "code",
   "execution_count": null,
   "metadata": {},
   "outputs": [],
   "source": []
  },
  {
   "cell_type": "code",
   "execution_count": null,
   "metadata": {},
   "outputs": [],
   "source": [
    "EllipticEnvelope ->마할라노비스 "
   ]
  },
  {
   "cell_type": "code",
   "execution_count": null,
   "metadata": {},
   "outputs": [],
   "source": []
  },
  {
   "cell_type": "code",
   "execution_count": 125,
   "metadata": {},
   "outputs": [],
   "source": [
    "import pandas as pd\n",
    "import numpy as np\n",
    "\n",
    "# 정규 분포를 이용하여 데이터 분포에 타원(elliptic)을 그림, 타원에서 벗어날수록 outlier\n",
    "# 마할라노비스 이상탐지 방법\n",
    "from sklearn.covariance import EllipticEnvelope\n",
    "# 랜덤 데이터를 생성하는데 사용됩니다. (※ 모든 방향으로 같은 성질을 가지는 정규분포를 이용해\n",
    "# 가상 데이터 생성 클러스링 용 가상데이터를 생성하는데 사용하는 데이터세트)\n",
    "from sklearn.datasets import make_blobs\n",
    "\n",
    "# 랜덤 데이터 생성, 샘플수도 변경해보세요.\n",
    "X, y = make_blobs(n_samples = 100,\n",
    "                  n_features = 2,\n",
    "                  centers = 1,\n",
    "                  random_state = 1)\n",
    "\n",
    "\n",
    "# 이상치 Input\n",
    "X[0,0] = 10 # feature 0에 0번째 데이터\n",
    "X[0,1] = -10 # feature 1에 0번째 데이터"
   ]
  },
  {
   "cell_type": "code",
   "execution_count": 127,
   "metadata": {},
   "outputs": [
    {
     "data": {
      "text/plain": [
       "array([-1,  1,  1,  1, -1,  1,  1,  1,  1,  1,  1,  1,  1,  1, -1,  1,  1,\n",
       "        1,  1,  1,  1,  1,  1,  1,  1, -1,  1,  1, -1,  1,  1,  1,  1,  1,\n",
       "        1,  1,  1,  1,  1,  1,  1,  1,  1,  1,  1,  1,  1, -1,  1,  1,  1,\n",
       "        1,  1,  1,  1,  1,  1,  1,  1,  1,  1,  1,  1,  1, -1,  1,  1,  1,\n",
       "        1,  1,  1,  1,  1,  1,  1,  1,  1,  1,  1,  1,  1,  1,  1, -1,  1,\n",
       "        1,  1,  1,  1,  1,  1,  1,  1,  1,  1, -1,  1,  1,  1, -1])"
      ]
     },
     "execution_count": 127,
     "metadata": {},
     "output_type": "execute_result"
    }
   ],
   "source": [
    "# EllipticEnvelope 을 이용하여 outlier를 검출하기 위한 객체를 생성합니다.\n",
    "# The amount of \"contamination\" of the data set, i.e. the proportion of outliers in the data set\n",
    "# 데이터세트에서 outlier의 비율, contamination 하이퍼파라미터도 조절해보세요.\n",
    "outlier_detector = EllipticEnvelope(contamination=.1)\n",
    "\n",
    "# EllipticEnvelope 객체를 생성한 데이터 학습\n",
    "outlier_detector.fit(X)\n",
    "\n",
    "# outlier를 검출\n",
    "# +1 이면 boundary 안에 들어온 값으로 정상 데이터\n",
    "# -1 이면 outlier로 간주.\n",
    "pred = outlier_detector.predict(X)\n",
    "pred"
   ]
  },
  {
   "cell_type": "code",
   "execution_count": 128,
   "metadata": {},
   "outputs": [
    {
     "data": {
      "text/html": [
       "<div>\n",
       "<style scoped>\n",
       "    .dataframe tbody tr th:only-of-type {\n",
       "        vertical-align: middle;\n",
       "    }\n",
       "\n",
       "    .dataframe tbody tr th {\n",
       "        vertical-align: top;\n",
       "    }\n",
       "\n",
       "    .dataframe thead th {\n",
       "        text-align: right;\n",
       "    }\n",
       "</style>\n",
       "<table border=\"1\" class=\"dataframe\">\n",
       "  <thead>\n",
       "    <tr style=\"text-align: right;\">\n",
       "      <th></th>\n",
       "      <th>col1</th>\n",
       "      <th>col2</th>\n",
       "      <th>outlier</th>\n",
       "    </tr>\n",
       "  </thead>\n",
       "  <tbody>\n",
       "    <tr>\n",
       "      <th>0</th>\n",
       "      <td>10.000000</td>\n",
       "      <td>-10.000000</td>\n",
       "      <td>-1</td>\n",
       "    </tr>\n",
       "    <tr>\n",
       "      <th>1</th>\n",
       "      <td>-0.813399</td>\n",
       "      <td>3.546974</td>\n",
       "      <td>1</td>\n",
       "    </tr>\n",
       "    <tr>\n",
       "      <th>2</th>\n",
       "      <td>-3.103674</td>\n",
       "      <td>3.902024</td>\n",
       "      <td>1</td>\n",
       "    </tr>\n",
       "    <tr>\n",
       "      <th>3</th>\n",
       "      <td>-1.429465</td>\n",
       "      <td>5.168501</td>\n",
       "      <td>1</td>\n",
       "    </tr>\n",
       "    <tr>\n",
       "      <th>4</th>\n",
       "      <td>0.868766</td>\n",
       "      <td>4.157855</td>\n",
       "      <td>-1</td>\n",
       "    </tr>\n",
       "    <tr>\n",
       "      <th>...</th>\n",
       "      <td>...</td>\n",
       "      <td>...</td>\n",
       "      <td>...</td>\n",
       "    </tr>\n",
       "    <tr>\n",
       "      <th>95</th>\n",
       "      <td>-0.620735</td>\n",
       "      <td>6.593470</td>\n",
       "      <td>-1</td>\n",
       "    </tr>\n",
       "    <tr>\n",
       "      <th>96</th>\n",
       "      <td>-1.642150</td>\n",
       "      <td>3.284471</td>\n",
       "      <td>1</td>\n",
       "    </tr>\n",
       "    <tr>\n",
       "      <th>97</th>\n",
       "      <td>-1.373973</td>\n",
       "      <td>5.291631</td>\n",
       "      <td>1</td>\n",
       "    </tr>\n",
       "    <tr>\n",
       "      <th>98</th>\n",
       "      <td>-0.848608</td>\n",
       "      <td>5.450932</td>\n",
       "      <td>1</td>\n",
       "    </tr>\n",
       "    <tr>\n",
       "      <th>99</th>\n",
       "      <td>0.085252</td>\n",
       "      <td>3.645283</td>\n",
       "      <td>-1</td>\n",
       "    </tr>\n",
       "  </tbody>\n",
       "</table>\n",
       "<p>100 rows × 3 columns</p>\n",
       "</div>"
      ],
      "text/plain": [
       "         col1       col2  outlier\n",
       "0   10.000000 -10.000000       -1\n",
       "1   -0.813399   3.546974        1\n",
       "2   -3.103674   3.902024        1\n",
       "3   -1.429465   5.168501        1\n",
       "4    0.868766   4.157855       -1\n",
       "..        ...        ...      ...\n",
       "95  -0.620735   6.593470       -1\n",
       "96  -1.642150   3.284471        1\n",
       "97  -1.373973   5.291631        1\n",
       "98  -0.848608   5.450932        1\n",
       "99   0.085252   3.645283       -1\n",
       "\n",
       "[100 rows x 3 columns]"
      ]
     },
     "execution_count": 128,
     "metadata": {},
     "output_type": "execute_result"
    }
   ],
   "source": [
    "# ▶ Raw data + Pred data\n",
    "df = pd.DataFrame(X, columns=['col1', 'col2'])\n",
    "df['outlier'] = pred\n",
    "df"
   ]
  },
  {
   "cell_type": "code",
   "execution_count": 140,
   "metadata": {},
   "outputs": [
    {
     "data": {
      "image/png": "[encoded data removed]",
      "text/plain": [
       "<Figure size 640x480 with 1 Axes>"
      ]
     },
     "metadata": {},
     "output_type": "display_data"
    }
   ],
   "source": [
    "sns.scatterplot(data=df, x=df[\"col1\"] ,y=df[\"col2\"], hue=\"outlier\" , alpha = 0.5 , palette= \"flare\")\n",
    "plt.tight_layout()\n",
    "plt.show()"
   ]
  },
  {
   "cell_type": "code",
   "execution_count": 141,
   "metadata": {
    "collapsed": true,
    "jupyter": {
     "outputs_hidden": true
    }
   },
   "outputs": [
    {
     "name": "stdout",
     "output_type": "stream",
     "text": [
      "Collecting pyod\n",
      "  Downloading pyod-1.1.0.tar.gz (153 kB)\n",
      "                                              0.0/153.4 kB ? eta -:--:--\n",
      "     --------------------                    81.9/153.4 kB 2.3 MB/s eta 0:00:01\n",
      "     -------------------------------------- 153.4/153.4 kB 2.3 MB/s eta 0:00:00\n",
      "  Preparing metadata (setup.py): started\n",
      "  Preparing metadata (setup.py): finished with status 'done'\n",
      "Requirement already satisfied: joblib in c:\\users\\pc\\carlos\\envs\\tf\\lib\\site-packages (from pyod) (1.3.1)\n",
      "Requirement already satisfied: matplotlib in c:\\users\\pc\\carlos\\envs\\tf\\lib\\site-packages (from pyod) (3.7.1)\n",
      "Requirement already satisfied: numpy>=1.19 in c:\\users\\pc\\carlos\\envs\\tf\\lib\\site-packages (from pyod) (1.24.4)\n",
      "Collecting numba>=0.51 (from pyod)\n",
      "  Downloading numba-0.57.1-cp38-cp38-win_amd64.whl (2.6 MB)\n",
      "                                              0.0/2.6 MB ? eta -:--:--\n",
      "     ----                                     0.3/2.6 MB 5.2 MB/s eta 0:00:01\n",
      "     ----------                               0.6/2.6 MB 6.8 MB/s eta 0:00:01\n",
      "     --------------------                     1.3/2.6 MB 8.4 MB/s eta 0:00:01\n",
      "     ----------------------------             1.8/2.6 MB 9.0 MB/s eta 0:00:01\n",
      "     -------------------------------------    2.4/2.6 MB 9.6 MB/s eta 0:00:01\n",
      "     ---------------------------------------- 2.6/2.6 MB 9.1 MB/s eta 0:00:00\n",
      "Requirement already satisfied: scipy>=1.5.1 in c:\\users\\pc\\carlos\\envs\\tf\\lib\\site-packages (from pyod) (1.10.1)\n",
      "Requirement already satisfied: scikit_learn>=0.20.0 in c:\\users\\pc\\carlos\\envs\\tf\\lib\\site-packages (from pyod) (1.3.0)\n",
      "Requirement already satisfied: six in c:\\users\\pc\\carlos\\envs\\tf\\lib\\site-packages (from pyod) (1.16.0)\n",
      "Collecting llvmlite<0.41,>=0.40.0dev0 (from numba>=0.51->pyod)\n",
      "  Downloading llvmlite-0.40.1-cp38-cp38-win_amd64.whl (27.7 MB)\n",
      "                                              0.0/27.7 MB ? eta -:--:--\n",
      "                                              0.6/27.7 MB 12.0 MB/s eta 0:00:03\n",
      "     -                                        1.0/27.7 MB 12.1 MB/s eta 0:00:03\n",
      "     --                                       1.8/27.7 MB 11.7 MB/s eta 0:00:03\n",
      "     ---                                      2.4/27.7 MB 11.8 MB/s eta 0:00:03\n",
      "     ----                                     2.9/27.7 MB 11.7 MB/s eta 0:00:03\n",
      "     -----                                    3.5/27.7 MB 11.7 MB/s eta 0:00:03\n",
      "     -----                                    4.1/27.7 MB 11.8 MB/s eta 0:00:03\n",
      "     ------                                   4.8/27.7 MB 11.8 MB/s eta 0:00:02\n",
      "     -------                                  5.4/27.7 MB 11.8 MB/s eta 0:00:02\n",
      "     --------                                 5.9/27.7 MB 11.9 MB/s eta 0:00:02\n",
      "     ---------                                6.5/27.7 MB 11.6 MB/s eta 0:00:02\n",
      "     ----------                               7.1/27.7 MB 11.6 MB/s eta 0:00:02\n",
      "     -----------                              7.6/27.7 MB 11.6 MB/s eta 0:00:02\n",
      "     -----------                              8.2/27.7 MB 11.6 MB/s eta 0:00:02\n",
      "     ------------                             8.7/27.7 MB 11.6 MB/s eta 0:00:02\n",
      "     -------------                            9.3/27.7 MB 11.6 MB/s eta 0:00:02\n",
      "     -------------                            9.4/27.7 MB 11.6 MB/s eta 0:00:02\n",
      "     -------------                            9.4/27.7 MB 11.6 MB/s eta 0:00:02\n",
      "     -------------                            9.4/27.7 MB 11.6 MB/s eta 0:00:02\n",
      "     -------------                            9.4/27.7 MB 11.6 MB/s eta 0:00:02\n",
      "     -------------                            9.5/27.7 MB 9.2 MB/s eta 0:00:02\n",
      "     --------------                           10.0/27.7 MB 9.3 MB/s eta 0:00:02\n",
      "     ---------------                          10.6/27.7 MB 9.4 MB/s eta 0:00:02\n",
      "     ----------------                         11.1/27.7 MB 9.4 MB/s eta 0:00:02\n",
      "     ----------------                         11.7/27.7 MB 9.4 MB/s eta 0:00:02\n",
      "     -----------------                        12.3/27.7 MB 9.4 MB/s eta 0:00:02\n",
      "     ------------------                       12.8/27.7 MB 9.4 MB/s eta 0:00:02\n",
      "     -------------------                      13.4/27.7 MB 9.4 MB/s eta 0:00:02\n",
      "     --------------------                     13.9/27.7 MB 9.4 MB/s eta 0:00:02\n",
      "     --------------------                     14.5/27.7 MB 9.4 MB/s eta 0:00:02\n",
      "     ---------------------                    15.1/27.7 MB 9.4 MB/s eta 0:00:02\n",
      "     ----------------------                   15.6/27.7 MB 9.5 MB/s eta 0:00:02\n",
      "     -----------------------                  16.2/27.7 MB 9.4 MB/s eta 0:00:02\n",
      "     ------------------------                 16.7/27.7 MB 9.4 MB/s eta 0:00:02\n",
      "     ------------------------                 17.3/27.7 MB 9.4 MB/s eta 0:00:02\n",
      "     -------------------------                17.8/27.7 MB 9.4 MB/s eta 0:00:02\n",
      "     --------------------------               18.4/27.7 MB 9.5 MB/s eta 0:00:01\n",
      "     ---------------------------              18.9/27.7 MB 9.5 MB/s eta 0:00:01\n",
      "     ----------------------------             19.5/27.7 MB 9.5 MB/s eta 0:00:01\n",
      "     ----------------------------            20.1/27.7 MB 11.9 MB/s eta 0:00:01\n",
      "     -----------------------------           20.6/27.7 MB 11.9 MB/s eta 0:00:01\n",
      "     -----------------------------           21.2/27.7 MB 11.9 MB/s eta 0:00:01\n",
      "     ------------------------------          21.7/27.7 MB 11.9 MB/s eta 0:00:01\n",
      "     -------------------------------         22.3/27.7 MB 11.9 MB/s eta 0:00:01\n",
      "     --------------------------------        22.8/27.7 MB 11.9 MB/s eta 0:00:01\n",
      "     --------------------------------        23.4/27.7 MB 11.9 MB/s eta 0:00:01\n",
      "     ---------------------------------       23.9/27.7 MB 11.9 MB/s eta 0:00:01\n",
      "     ----------------------------------      24.7/27.7 MB 11.9 MB/s eta 0:00:01\n",
      "     -----------------------------------     25.2/27.7 MB 11.9 MB/s eta 0:00:01\n",
      "     ------------------------------------    26.0/27.7 MB 11.9 MB/s eta 0:00:01\n",
      "     ------------------------------------    26.2/27.7 MB 11.9 MB/s eta 0:00:01\n",
      "     ------------------------------------    26.2/27.7 MB 11.9 MB/s eta 0:00:01\n",
      "     -------------------------------------   26.3/27.7 MB 10.1 MB/s eta 0:00:01\n",
      "     --------------------------------------  27.0/27.7 MB 10.2 MB/s eta 0:00:01\n",
      "     --------------------------------------  27.7/27.7 MB 10.1 MB/s eta 0:00:01\n",
      "     ---------------------------------------- 27.7/27.7 MB 9.5 MB/s eta 0:00:00\n",
      "Requirement already satisfied: importlib-metadata in c:\\users\\pc\\carlos\\envs\\tf\\lib\\site-packages (from numba>=0.51->pyod) (6.0.0)\n",
      "Requirement already satisfied: threadpoolctl>=2.0.0 in c:\\users\\pc\\carlos\\envs\\tf\\lib\\site-packages (from scikit_learn>=0.20.0->pyod) (3.1.0)\n",
      "Requirement already satisfied: contourpy>=1.0.1 in c:\\users\\pc\\carlos\\envs\\tf\\lib\\site-packages (from matplotlib->pyod) (1.1.0)\n",
      "Requirement already satisfied: cycler>=0.10 in c:\\users\\pc\\carlos\\envs\\tf\\lib\\site-packages (from matplotlib->pyod) (0.11.0)\n",
      "Requirement already satisfied: fonttools>=4.22.0 in c:\\users\\pc\\carlos\\envs\\tf\\lib\\site-packages (from matplotlib->pyod) (4.40.0)\n",
      "Requirement already satisfied: kiwisolver>=1.0.1 in c:\\users\\pc\\carlos\\envs\\tf\\lib\\site-packages (from matplotlib->pyod) (1.4.4)\n",
      "Requirement already satisfied: packaging>=20.0 in c:\\users\\pc\\carlos\\envs\\tf\\lib\\site-packages (from matplotlib->pyod) (23.0)\n",
      "Requirement already satisfied: pillow>=6.2.0 in c:\\users\\pc\\carlos\\envs\\tf\\lib\\site-packages (from matplotlib->pyod) (10.0.0)\n",
      "Requirement already satisfied: pyparsing>=2.3.1 in c:\\users\\pc\\carlos\\envs\\tf\\lib\\site-packages (from matplotlib->pyod) (3.1.0)\n",
      "Requirement already satisfied: python-dateutil>=2.7 in c:\\users\\pc\\carlos\\envs\\tf\\lib\\site-packages (from matplotlib->pyod) (2.8.2)\n",
      "Requirement already satisfied: importlib-resources>=3.2.0 in c:\\users\\pc\\carlos\\envs\\tf\\lib\\site-packages (from matplotlib->pyod) (5.12.0)\n",
      "Requirement already satisfied: zipp>=3.1.0 in c:\\users\\pc\\carlos\\envs\\tf\\lib\\site-packages (from importlib-resources>=3.2.0->matplotlib->pyod) (3.11.0)\n",
      "Building wheels for collected packages: pyod\n",
      "  Building wheel for pyod (setup.py): started\n",
      "  Building wheel for pyod (setup.py): finished with status 'done'\n",
      "  Created wheel for pyod: filename=pyod-1.1.0-py3-none-any.whl size=185463 sha256=35228d480e676d3d91bb751a4ad0d9cbdcedd6f73e645b9cbeec8d0d57220ae3\n",
      "  Stored in directory: c:\\users\\pc\\appdata\\local\\pip\\cache\\wheels\\77\\4e\\a8\\442459c5124a54438dd0f2f4a48aa089d26735e3d798a6e0af\n",
      "Successfully built pyod\n",
      "Installing collected packages: llvmlite, numba, pyod\n",
      "Successfully installed llvmlite-0.40.1 numba-0.57.1 pyod-1.1.0\n"
     ]
    }
   ],
   "source": [
    "!pip install pyod"
   ]
  },
  {
   "cell_type": "code",
   "execution_count": 149,
   "metadata": {},
   "outputs": [
    {
     "data": {
      "text/plain": [
       "array([0.17680922, 0.17681203, 0.54523185, 0.12608553, 0.19581244,\n",
       "       0.17067156, 0.41453041, 0.38274843, 0.1742502 , 0.21906751,\n",
       "       0.27800179, 0.3967311 , 0.13563991, 0.2824055 , 0.35361755,\n",
       "       0.21985449, 0.41959195, 0.20121522, 0.34246038, 0.40595618,\n",
       "       0.15849834, 0.15316691, 0.18575777, 1.20721193, 0.3246424 ,\n",
       "       0.67725112, 0.37490181, 0.26533808, 0.16490669, 0.12894673,\n",
       "       0.36927073, 0.27533184, 1.09262182, 0.12874088, 0.52628977,\n",
       "       0.47316168, 0.19889931, 0.54173847, 0.25788258, 0.51121412,\n",
       "       0.69650399, 0.25395638, 0.39337622, 0.30925068, 0.13278071,\n",
       "       0.26313772, 0.36581778, 0.16432511, 0.86640384, 0.22059379,\n",
       "       0.19717364, 0.19429925, 0.49426445, 0.29011618, 0.12090561,\n",
       "       0.2326855 , 0.41988645, 0.44953767, 0.3652311 , 0.18579117,\n",
       "       0.58210708, 0.26240824, 0.33695247, 0.26077608, 0.651675  ,\n",
       "       0.31036962, 0.73120652, 0.37810831, 0.54019913, 0.39861805,\n",
       "       0.19088253, 0.3530383 , 0.16268355, 0.71043871, 0.2089307 ,\n",
       "       0.4497495 , 0.21312575, 1.2414718 , 0.10724778, 0.37252711,\n",
       "       0.47940155, 0.16475324, 0.21499557, 0.3381943 , 0.65299578,\n",
       "       0.89565661, 0.33844326, 0.58900074, 0.16436152, 0.1949535 ,\n",
       "       4.50250161, 4.1317526 , 4.81890818, 3.41517546, 1.75784739,\n",
       "       2.01333913, 2.82856026, 4.22979467, 3.85316782, 3.31013153])"
      ]
     },
     "execution_count": 149,
     "metadata": {},
     "output_type": "execute_result"
    }
   ],
   "source": [
    "y_train_scores"
   ]
  },
  {
   "cell_type": "code",
   "execution_count": null,
   "metadata": {},
   "outputs": [],
   "source": []
  },
  {
   "cell_type": "code",
   "execution_count": 150,
   "metadata": {},
   "outputs": [
    {
     "ename": "NameError",
     "evalue": "name 'y_test_pred' is not defined",
     "output_type": "error",
     "traceback": [
      "\u001b[1;31m---------------------------------------------------------------------------\u001b[0m",
      "\u001b[1;31mNameError\u001b[0m                                 Traceback (most recent call last)",
      "Cell \u001b[1;32mIn[150], line 1\u001b[0m\n\u001b[1;32m----> 1\u001b[0m visualize(clf_name, X_train, y_train, X_test, y_test,y_train_pred, \u001b[43my_test_pred\u001b[49m)\n",
      "\u001b[1;31mNameError\u001b[0m: name 'y_test_pred' is not defined"
     ]
    }
   ],
   "source": [
    "visualize(clf_name, X_train, y_train, X_test, y_test,y_train_pred, save_figure=True)"
   ]
  },
  {
   "cell_type": "code",
   "execution_count": 11,
   "metadata": {},
   "outputs": [
    {
     "data": {
      "text/plain": [
       "<Figure size 300x300 with 0 Axes>"
      ]
     },
     "metadata": {},
     "output_type": "display_data"
    },
    {
     "data": {
      "image/png": "[encoded data removed]",
      "text/plain": [
       "<Figure size 1200x1000 with 4 Axes>"
      ]
     },
     "metadata": {},
     "output_type": "display_data"
    }
   ],
   "source": [
    "from pyod.utils.example import visualize  # 시각화\n",
    "from pyod.utils.data import evaluate_print  # 평가용\n",
    "from pyod.utils.data import generate_data # 연습용 데이터 생성\n",
    "from pyod.models.knn import KNN\n",
    "import matplotlib.pyplot as plt\n",
    "\n",
    "\n",
    "#하이퍼 파라미터\n",
    "contamination = 0.1  # ▶ percentage of outliers\n",
    "n_train = 300        # ▶ number of training points\n",
    "n_test = 150         # ▶ number of testing points\n",
    "\n",
    "#▶ Generate sample data\n",
    "X_train, X_test, y_train, y_test = generate_data(n_train=n_train, n_test=n_test,\n",
    "                  n_features=2,\n",
    "                  contamination=contamination,\n",
    "                  random_state=42)\n",
    "\n",
    "\n",
    "#▶ 모델 생성 및 학습\n",
    "clf_name = 'KNN' # 나중에 평가용 함수에서 출력용으로 사용\n",
    "clf = KNN(n_neighbors=7)\n",
    "clf.fit(X_train)\n",
    "\n",
    "\n",
    "#▶ Train set score\n",
    "#위에서 fitting(훈련)했으니\n",
    "y_train_pred = clf.labels_\n",
    "y_train_scores = clf.decision_scores_\n",
    "\n",
    "\n",
    "#▶ Test set score\n",
    "y_test_pred = clf.predict(X_test)\n",
    "y_test_scores = clf.decision_function(X_test)\n",
    "\n",
    "\n",
    "#▶ visualize the results\n",
    "visualize(clf_name, X_train, y_train, X_test, y_test, y_train_pred,\n",
    "          y_test_pred, show_figure=True, save_figure=True)"
   ]
  },
  {
   "cell_type": "code",
   "execution_count": 12,
   "metadata": {},
   "outputs": [
    {
     "data": {
      "image/png": "[encoded data removed]",
      "text/plain": [
       "<Figure size 1200x1000 with 4 Axes>"
      ]
     },
     "metadata": {},
     "output_type": "display_data"
    }
   ],
   "source": [
    "from pyod.utils.example import visualize  # 시각화\n",
    "from pyod.utils.data import evaluate_print  # 평가용\n",
    "from pyod.utils.data import generate_data # 연습용 데이터 생성\n",
    "from pyod.models.knn import KNN\n",
    "import matplotlib.pyplot as plt\n",
    "\n",
    "\n",
    "#하이퍼 파라미터\n",
    "contamination = 0.1  # ▶ percentage of outliers\n",
    "n_train = 300        # ▶ number of training points\n",
    "n_test = 150         # ▶ number of testing points\n",
    "\n",
    "#▶ Generate sample data\n",
    "X_train, X_test, y_train, y_test = generate_data(n_train=n_train, n_test=n_test,\n",
    "                  n_features=2,\n",
    "                  contamination=contamination,\n",
    "                  random_state=42)\n",
    "\n",
    "\n",
    "#▶ 모델 생성 및 학습\n",
    "clf_name = 'KNN' # 나중에 평가용 함수에서 출력용으로 사용\n",
    "clf = KNN(n_neighbors=3)\n",
    "clf.fit(X_train)\n",
    "\n",
    "\n",
    "#▶ Train set score\n",
    "#위에서 fitting(훈련)했으니\n",
    "y_train_pred = clf.labels_\n",
    "y_train_scores = clf.decision_scores_\n",
    "\n",
    "\n",
    "#▶ Test set score\n",
    "y_test_pred = clf.predict(X_test)\n",
    "y_test_scores = clf.decision_function(X_test)\n",
    "\n",
    "\n",
    "#▶ visualize the results\n",
    "visualize(clf_name, X_train, y_train, X_test, y_test, y_train_pred,\n",
    "          y_test_pred, show_figure=True, save_figure=True)"
   ]
  },
  {
   "cell_type": "code",
   "execution_count": null,
   "metadata": {},
   "outputs": [],
   "source": []
  },
  {
   "cell_type": "code",
   "execution_count": null,
   "metadata": {},
   "outputs": [],
   "source": []
  }
 ],
 "metadata": {
  "colab": {
   "provenance": []
  },
  "hide_input": false,
  "kernelspec": {
   "display_name": "Python 3",
   "language": "python",
   "name": "python3"
  },
  "language_info": {
   "codemirror_mode": {
    "name": "ipython",
    "version": 3
   },
   "file_extension": ".py",
   "mimetype": "text/x-python",
   "name": "python",
   "nbconvert_exporter": "python",
   "pygments_lexer": "ipython3",
   "version": "3.6.13"
  },
  "toc": {
   "base_numbering": 1,
   "nav_menu": {},
   "number_sections": true,
   "sideBar": true,
   "skip_h1_title": false,
   "title_cell": "Table of Contents",
   "title_sidebar": "Contents",
   "toc_cell": false,
   "toc_position": {
    "height": "calc(100% - 180px)",
    "left": "10px",
    "top": "150px",
    "width": "424.925px"
   },
   "toc_section_display": true,
   "toc_window_display": true
  },
  "varInspector": {
   "cols": {
    "lenName": 16,
    "lenType": 16,
    "lenVar": 40
   },
   "kernels_config": {
    "python": {
     "delete_cmd_postfix": "",
     "delete_cmd_prefix": "del ",
     "library": "var_list.py",
     "varRefreshCmd": "print(var_dic_list())"
    },
    "r": {
     "delete_cmd_postfix": ") ",
     "delete_cmd_prefix": "rm(",
     "library": "var_list.r",
     "varRefreshCmd": "cat(var_dic_list()) "
    }
   },
   "types_to_exclude": [
    "module",
    "function",
    "builtin_function_or_method",
    "instance",
    "_Feature"
   ],
   "window_display": false
  }
 },
 "nbformat": 4,
 "nbformat_minor": 4
}
